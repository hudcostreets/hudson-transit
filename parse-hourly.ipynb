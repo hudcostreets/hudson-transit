{
 "cells": [
  {
   "cell_type": "code",
   "execution_count": 1,
   "id": "11e42492",
   "metadata": {},
   "outputs": [],
   "source": [
    "from utz import *\n",
    "from numpy import dtype\n",
    "from tabula import read_pdf"
   ]
  },
  {
   "cell_type": "code",
   "execution_count": 2,
   "id": "44286054",
   "metadata": {
    "tags": [
     "parameters"
    ]
   },
   "outputs": [],
   "source": [
    "year = 2022\n",
    "last_month = None\n",
    "n_jobs = 4\n",
    "overwrite = False"
   ]
  },
  {
   "cell_type": "code",
   "execution_count": 3,
   "id": "71d730b8",
   "metadata": {},
   "outputs": [],
   "source": [
    "if year == 2022 and last_month is None:\n",
    "    last_month = 10  # 2022 data only committed here through October"
   ]
  },
  {
   "cell_type": "code",
   "execution_count": 4,
   "id": "93447711",
   "metadata": {},
   "outputs": [
    {
     "name": "stdout",
     "output_type": "stream",
     "text": [
      "[19, 33) [34, 48) [49, 63) [64, 78) [79, 93) [94, 108) [109, 123) [124, 138) [139, 153) [154, 168) [169, 183) [184, 198)\n"
     ]
    }
   ],
   "source": [
    "stations = [\n",
    "    'Christopher St.',\n",
    "    '9th Street',\n",
    "    '14th Street',\n",
    "    '23rd Street',\n",
    "    '33rd Street',\n",
    "    'WTC',\n",
    "    'Newark',\n",
    "    'Harrison',\n",
    "    'Journal Square',\n",
    "    'Grove Street',\n",
    "    'Exchange Place',\n",
    "    'Newport',\n",
    "    'Hoboken',\n",
    "    'System-wide',\n",
    "]\n",
    "title = 1\n",
    "contents = 2\n",
    "ytd = 3\n",
    "num_stations = len(stations)\n",
    "section_pages = num_stations + 1  # title page\n",
    "def month_page_range(month):\n",
    "    start = 4 + month * section_pages\n",
    "    end = start + num_stations\n",
    "    return start, end\n",
    "\n",
    "print(' '.join([ f'[{\", \".join(map(str, month_page_range(month)))})' for month in range(1, 13) ]))"
   ]
  },
  {
   "cell_type": "code",
   "execution_count": 5,
   "id": "4421cc18",
   "metadata": {},
   "outputs": [
    {
     "data": {
      "text/plain": [
       "{'Christopher St.': 0,\n",
       " '9th Street': 1,\n",
       " '14th Street': 2,\n",
       " '23rd Street': 3,\n",
       " '33rd Street': 4,\n",
       " 'WTC': 5,\n",
       " 'Newark': 6,\n",
       " 'Harrison': 7,\n",
       " 'Journal Square': 8,\n",
       " 'Grove Street': 9,\n",
       " 'Exchange Place': 10,\n",
       " 'Newport': 11,\n",
       " 'Hoboken': 12,\n",
       " 'System-wide': 13}"
      ]
     },
     "execution_count": 5,
     "metadata": {},
     "output_type": "execute_result"
    }
   ],
   "source": [
    "station_offsets = { station: idx for idx, station in enumerate(stations) }\n",
    "station_offsets"
   ]
  },
  {
   "cell_type": "code",
   "execution_count": 6,
   "id": "1aabad93",
   "metadata": {},
   "outputs": [
    {
     "data": {
      "text/plain": [
       "[{'page': 19,\n",
       "  'extraction_method': 'guess',\n",
       "  'x1': 0.495,\n",
       "  'x2': 780.615,\n",
       "  'y1': 126.225,\n",
       "  'y2': 572.715,\n",
       "  'width': 780.12,\n",
       "  'height': 446.49},\n",
       " {'page': 19,\n",
       "  'extraction_method': 'guess',\n",
       "  'x1': 257.895,\n",
       "  'x2': 535.095,\n",
       "  'y1': 14.355,\n",
       "  'y2': 77.715,\n",
       "  'width': 277.2,\n",
       "  'height': 63.36},\n",
       " {'page': 19,\n",
       "  'extraction_method': 'guess',\n",
       "  'x1': 83.655,\n",
       "  'x2': 205.425,\n",
       "  'y1': 98.505,\n",
       "  'y2': 121.275,\n",
       "  'width': 121.77,\n",
       "  'height': 22.77}]"
      ]
     },
     "execution_count": 6,
     "metadata": {},
     "output_type": "execute_result"
    }
   ],
   "source": [
    "template_path = 'templates/2022-PATH-hourly-Ridership-Report.tabula-template.json'\n",
    "with open(template_path, 'r') as f:\n",
    "    rects = json.load(f)\n",
    "rects"
   ]
  },
  {
   "cell_type": "code",
   "execution_count": 7,
   "id": "52e34f7d",
   "metadata": {},
   "outputs": [],
   "source": [
    "based_on_regex = '\\(Based on (?P<month>\\w+) (?P<year>\\d{4}) Turnstile Count\\)'\n",
    "cross_honor_regex = '\\(Cross[‐\\-]honor (?:Entry )?Count not Included\\)'\n",
    "\n",
    "def clean(s):\n",
    "    \"\"\"Some years have \"‐\" (ord(\"‐\") == 8028) instead of \"-\" (ord(\"-\") == 45) in various titles/messages.\"\"\"\n",
    "    return s.replace('‐', '-')\n",
    "\n",
    "def read_station_month_hours_tables(year, month, station):\n",
    "    station_offset = station_offsets[station]\n",
    "    pdf = f'data/{year}-PATH-hourly-Ridership-Report.pdf'\n",
    "    start, _ = month_page_range(month)\n",
    "    pg = start + station_offset\n",
    "    month_name = to_dt('%d-%02d' % (year, month)).strftime('%B')\n",
    "    print(f'Reading {pdf}, pg. {pg}: {month_name}, {station}')\n",
    "    tables = [\n",
    "        read_pdf(\n",
    "            pdf,\n",
    "            pages=pg,\n",
    "            area=[ rect[k] for k in [ 'y1', 'x1', 'y2', 'x2', ] ],\n",
    "            pandas_options={'header': None},\n",
    "        )\n",
    "        for rect in rects\n",
    "    ]\n",
    "    return tables\n",
    "\n",
    "def to_hour(r):\n",
    "    hour, AM = r['hour'], r['am'] == 'AM'\n",
    "    return (0 if hour == 12 else hour) + (0 if AM else 12)\n",
    "\n",
    "def parse_station_month_hours_tables(year, month, station):\n",
    "    [hrs], [header], [actual_station] = read_station_month_hours_tables(year, month, station)\n",
    "    [[actual_station]] = actual_station.values\n",
    "    actual_station = clean(actual_station)  # \"System-wide\" can have either dash character\n",
    "    if actual_station != station:\n",
    "        raise RuntimeError(f\"Parsed station {actual_station} != {station}\")\n",
    "\n",
    "    [[title], [based_on_msg], [cross_msg]] = header.values\n",
    "    if clean(title) != 'PATH - Average Hourly Entry and Exit Counts by Station':\n",
    "        raise RuntimeError(f'Unexpected title: \"{title}\"')\n",
    "\n",
    "    m = fullmatch(based_on_regex, based_on_msg)\n",
    "    if not m:\n",
    "        raise RuntimeError(f'Unrecognized \"based on\" message: \"{based_on_msg}\"')\n",
    "    parsed_year = int(m['year'])\n",
    "    if year != parsed_year:\n",
    "        raise RuntimeError(f\"Parsed year {parsed_year} != {year}\")\n",
    "    parsed_month = m['month']\n",
    "    month_name = to_dt('%d-%02d' % (year, month)).strftime('%B')\n",
    "    if parsed_month != month_name:\n",
    "        raise RuntimeError(f\"Parsed month {parsed_month} != {month}\")\n",
    "\n",
    "    if not fullmatch(cross_honor_regex, cross_msg):\n",
    "        raise RuntimeError(f'Unexpected cross-honor message: \"{cross_msg}\"')\n",
    "\n",
    "    hrs = hrs.dropna(axis=1, how='all')\n",
    "    headers = (hrs.iloc[0].fillna('') + ' ' + hrs.iloc[1]).str.strip()\n",
    "    hrs = hrs.copy().iloc[2:]\n",
    "    hrs = hrs.dropna(axis=1, how='all')\n",
    "    headers = headers.dropna()\n",
    "    hrs.columns = headers\n",
    "    hrs['Year'] = year\n",
    "    hrs['Month'] = month\n",
    "    hrs['Station'] = station\n",
    "    hrs = hrs[['Year', 'Month', 'Station'] + headers.tolist()]\n",
    "    for k in hrs.columns[4:]:\n",
    "        col = hrs[k]\n",
    "        dt = col.dtype\n",
    "        if dt == dtype('O'):\n",
    "            hrs[k] = hrs[k].str.replace(',', '').astype(int)\n",
    "        elif dt == dtype('float64'):\n",
    "            hrs[k] = hrs[k].astype(int)\n",
    "        elif dt == dtype('int64'):\n",
    "            pass\n",
    "        else:\n",
    "            raise RuntimeError(f'Unexpected dtype, col {k}: {dt}')\n",
    "\n",
    "    total_rows = hrs.Hour == 'Total'\n",
    "    totals = hrs[total_rows]\n",
    "    if len(totals) != 1:\n",
    "        raise RuntimeError(f'{len(totals)} total rows')\n",
    "    hrs = hrs[~total_rows]\n",
    "\n",
    "    Hour = hrs.Hour.str.extract('(?P<hour>\\d\\d?):00:00 (?P<am>AM|PM)').astype({ 'hour': int }).apply(to_hour, axis=1)\n",
    "    hrs['Hour'] = Hour\n",
    "\n",
    "    system_wide_rows = hrs.Station == 'System-wide'\n",
    "    system_wide = hrs[system_wide_rows]\n",
    "    hrs = hrs[~system_wide_rows]\n",
    "\n",
    "    return hrs.copy(), totals.copy(), system_wide.copy()\n",
    "\n",
    "def read_month_hours_stations(year, month, n_jobs=None, concat=True):\n",
    "    if n_jobs:\n",
    "        parallel = Parallel(n_jobs=n_jobs)\n",
    "        fn = delayed(parse_station_month_hours_tables)\n",
    "        rvs = parallel(\n",
    "            fn(year, month, station)\n",
    "            for station in stations\n",
    "        )\n",
    "    else:\n",
    "        rvs = [\n",
    "            parse_station_month_hours_tables(year, month, station)\n",
    "            for station in stations\n",
    "        ]\n",
    "    if concat:\n",
    "        return [ pd.concat(dfs) for dfs in zip(*rvs) ]\n",
    "    else:\n",
    "        return dfs\n",
    "\n",
    "def read_year_hours_stations(year, last_month=None, n_jobs=None, concat=True):\n",
    "    rvs = [\n",
    "        read_month_hours_stations(year, month, n_jobs=n_jobs)\n",
    "        for month in range(1, 13 if last_month is None else (last_month + 1))\n",
    "    ]\n",
    "    if concat:\n",
    "        return [ pd.concat(dfs) for dfs in zip(*rvs) ]\n",
    "    else:\n",
    "        return rvs"
   ]
  },
  {
   "cell_type": "code",
   "execution_count": 8,
   "id": "030d0f1c",
   "metadata": {
    "scrolled": true
   },
   "outputs": [
    {
     "name": "stdout",
     "output_type": "stream",
     "text": [
      "CPU times: user 16 µs, sys: 18 µs, total: 34 µs\n",
      "Wall time: 33.9 µs\n"
     ]
    }
   ],
   "source": [
    "%%time\n",
    "suffixes = ['', '-total', '-system']\n",
    "base = f'data/{year}-hourly'\n",
    "paths = [ f'{base}{suffix}.pqt' for suffix in suffixes ]\n",
    "extant = list(filter(exists, paths))\n",
    "\n",
    "if extant and overwrite:\n",
    "    print(f'Overwriting {\", \".join(extant)}')\n",
    "\n",
    "hrs, totals, system_wide = None, None, None\n",
    "if extant != paths or overwrite:\n",
    "    dfs = read_year_hours_stations(year, last_month=last_month, n_jobs=n_jobs)\n",
    "    for df, path in zip(dfs, paths):\n",
    "        print(f'Writing {path}')\n",
    "        df.to_parquet(path, index=False)\n",
    "    hrs, totals, system_wide = dfs\n",
    "\n",
    "hrs"
   ]
  },
  {
   "cell_type": "code",
   "execution_count": 9,
   "id": "cd911e02",
   "metadata": {},
   "outputs": [],
   "source": [
    "totals"
   ]
  },
  {
   "cell_type": "code",
   "execution_count": 10,
   "id": "e0c8848b",
   "metadata": {},
   "outputs": [],
   "source": [
    "system_wide"
   ]
  }
 ],
 "metadata": {
  "kernelspec": {
   "display_name": "Python 3 (ipykernel)",
   "language": "python",
   "name": "python3"
  },
  "language_info": {
   "codemirror_mode": {
    "name": "ipython",
    "version": 3
   },
   "file_extension": ".py",
   "mimetype": "text/x-python",
   "name": "python",
   "nbconvert_exporter": "python",
   "pygments_lexer": "ipython3",
   "version": "3.9.13"
  }
 },
 "nbformat": 4,
 "nbformat_minor": 5
}
