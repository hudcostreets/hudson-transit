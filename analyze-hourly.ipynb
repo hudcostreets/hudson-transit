{
 "cells": [
  {
   "cell_type": "code",
   "execution_count": 1,
   "id": "8d2e1fee",
   "metadata": {},
   "outputs": [],
   "source": [
    "from utz import *"
   ]
  },
  {
   "cell_type": "code",
   "execution_count": 2,
   "id": "36decb4c",
   "metadata": {},
   "outputs": [
    {
     "data": {
      "text/html": [
       "<div>\n",
       "<style scoped>\n",
       "    .dataframe tbody tr th:only-of-type {\n",
       "        vertical-align: middle;\n",
       "    }\n",
       "\n",
       "    .dataframe tbody tr th {\n",
       "        vertical-align: top;\n",
       "    }\n",
       "\n",
       "    .dataframe thead th {\n",
       "        text-align: right;\n",
       "    }\n",
       "</style>\n",
       "<table border=\"1\" class=\"dataframe\">\n",
       "  <thead>\n",
       "    <tr style=\"text-align: right;\">\n",
       "      <th></th>\n",
       "      <th>Year</th>\n",
       "      <th>Month</th>\n",
       "      <th>Station</th>\n",
       "      <th>Hour</th>\n",
       "      <th>Avg Weekday Entry</th>\n",
       "      <th>Avg Saturday Entry</th>\n",
       "      <th>Avg Sunday Entry</th>\n",
       "      <th>Avg Weekday Exit</th>\n",
       "      <th>Avg Saturday Exit</th>\n",
       "      <th>Avg Sunday Exit</th>\n",
       "      <th>Avg Holiday Entries</th>\n",
       "      <th>Avg Holiday Exits</th>\n",
       "    </tr>\n",
       "  </thead>\n",
       "  <tbody>\n",
       "    <tr>\n",
       "      <th>0</th>\n",
       "      <td>2017</td>\n",
       "      <td>1</td>\n",
       "      <td>Christopher St.</td>\n",
       "      <td>0</td>\n",
       "      <td>36</td>\n",
       "      <td>150</td>\n",
       "      <td>156</td>\n",
       "      <td>8</td>\n",
       "      <td>21</td>\n",
       "      <td>30</td>\n",
       "      <td>47</td>\n",
       "      <td>7</td>\n",
       "    </tr>\n",
       "    <tr>\n",
       "      <th>1</th>\n",
       "      <td>2017</td>\n",
       "      <td>1</td>\n",
       "      <td>Christopher St.</td>\n",
       "      <td>1</td>\n",
       "      <td>19</td>\n",
       "      <td>96</td>\n",
       "      <td>145</td>\n",
       "      <td>9</td>\n",
       "      <td>29</td>\n",
       "      <td>30</td>\n",
       "      <td>36</td>\n",
       "      <td>9</td>\n",
       "    </tr>\n",
       "    <tr>\n",
       "      <th>2</th>\n",
       "      <td>2017</td>\n",
       "      <td>1</td>\n",
       "      <td>Christopher St.</td>\n",
       "      <td>2</td>\n",
       "      <td>10</td>\n",
       "      <td>65</td>\n",
       "      <td>111</td>\n",
       "      <td>4</td>\n",
       "      <td>16</td>\n",
       "      <td>18</td>\n",
       "      <td>23</td>\n",
       "      <td>8</td>\n",
       "    </tr>\n",
       "    <tr>\n",
       "      <th>3</th>\n",
       "      <td>2017</td>\n",
       "      <td>1</td>\n",
       "      <td>Christopher St.</td>\n",
       "      <td>3</td>\n",
       "      <td>9</td>\n",
       "      <td>46</td>\n",
       "      <td>72</td>\n",
       "      <td>7</td>\n",
       "      <td>12</td>\n",
       "      <td>19</td>\n",
       "      <td>16</td>\n",
       "      <td>2</td>\n",
       "    </tr>\n",
       "    <tr>\n",
       "      <th>4</th>\n",
       "      <td>2017</td>\n",
       "      <td>1</td>\n",
       "      <td>Christopher St.</td>\n",
       "      <td>4</td>\n",
       "      <td>8</td>\n",
       "      <td>28</td>\n",
       "      <td>33</td>\n",
       "      <td>7</td>\n",
       "      <td>6</td>\n",
       "      <td>8</td>\n",
       "      <td>11</td>\n",
       "      <td>6</td>\n",
       "    </tr>\n",
       "    <tr>\n",
       "      <th>...</th>\n",
       "      <td>...</td>\n",
       "      <td>...</td>\n",
       "      <td>...</td>\n",
       "      <td>...</td>\n",
       "      <td>...</td>\n",
       "      <td>...</td>\n",
       "      <td>...</td>\n",
       "      <td>...</td>\n",
       "      <td>...</td>\n",
       "      <td>...</td>\n",
       "      <td>...</td>\n",
       "      <td>...</td>\n",
       "    </tr>\n",
       "    <tr>\n",
       "      <th>3115</th>\n",
       "      <td>2022</td>\n",
       "      <td>10</td>\n",
       "      <td>Hoboken</td>\n",
       "      <td>19</td>\n",
       "      <td>492</td>\n",
       "      <td>656</td>\n",
       "      <td>351</td>\n",
       "      <td>1341</td>\n",
       "      <td>1040</td>\n",
       "      <td>597</td>\n",
       "      <td>302</td>\n",
       "      <td>901</td>\n",
       "    </tr>\n",
       "    <tr>\n",
       "      <th>3116</th>\n",
       "      <td>2022</td>\n",
       "      <td>10</td>\n",
       "      <td>Hoboken</td>\n",
       "      <td>20</td>\n",
       "      <td>248</td>\n",
       "      <td>506</td>\n",
       "      <td>214</td>\n",
       "      <td>928</td>\n",
       "      <td>823</td>\n",
       "      <td>503</td>\n",
       "      <td>195</td>\n",
       "      <td>711</td>\n",
       "    </tr>\n",
       "    <tr>\n",
       "      <th>3117</th>\n",
       "      <td>2022</td>\n",
       "      <td>10</td>\n",
       "      <td>Hoboken</td>\n",
       "      <td>21</td>\n",
       "      <td>188</td>\n",
       "      <td>379</td>\n",
       "      <td>153</td>\n",
       "      <td>684</td>\n",
       "      <td>780</td>\n",
       "      <td>366</td>\n",
       "      <td>140</td>\n",
       "      <td>511</td>\n",
       "    </tr>\n",
       "    <tr>\n",
       "      <th>3118</th>\n",
       "      <td>2022</td>\n",
       "      <td>10</td>\n",
       "      <td>Hoboken</td>\n",
       "      <td>22</td>\n",
       "      <td>111</td>\n",
       "      <td>250</td>\n",
       "      <td>93</td>\n",
       "      <td>602</td>\n",
       "      <td>744</td>\n",
       "      <td>318</td>\n",
       "      <td>71</td>\n",
       "      <td>331</td>\n",
       "    </tr>\n",
       "    <tr>\n",
       "      <th>3119</th>\n",
       "      <td>2022</td>\n",
       "      <td>10</td>\n",
       "      <td>Hoboken</td>\n",
       "      <td>23</td>\n",
       "      <td>67</td>\n",
       "      <td>190</td>\n",
       "      <td>48</td>\n",
       "      <td>511</td>\n",
       "      <td>721</td>\n",
       "      <td>346</td>\n",
       "      <td>49</td>\n",
       "      <td>276</td>\n",
       "    </tr>\n",
       "  </tbody>\n",
       "</table>\n",
       "<p>21840 rows × 12 columns</p>\n",
       "</div>"
      ],
      "text/plain": [
       "      Year  Month          Station  Hour  Avg Weekday Entry  \\\n",
       "0     2017      1  Christopher St.     0                 36   \n",
       "1     2017      1  Christopher St.     1                 19   \n",
       "2     2017      1  Christopher St.     2                 10   \n",
       "3     2017      1  Christopher St.     3                  9   \n",
       "4     2017      1  Christopher St.     4                  8   \n",
       "...    ...    ...              ...   ...                ...   \n",
       "3115  2022     10          Hoboken    19                492   \n",
       "3116  2022     10          Hoboken    20                248   \n",
       "3117  2022     10          Hoboken    21                188   \n",
       "3118  2022     10          Hoboken    22                111   \n",
       "3119  2022     10          Hoboken    23                 67   \n",
       "\n",
       "      Avg Saturday Entry  Avg Sunday Entry  Avg Weekday Exit  \\\n",
       "0                    150               156                 8   \n",
       "1                     96               145                 9   \n",
       "2                     65               111                 4   \n",
       "3                     46                72                 7   \n",
       "4                     28                33                 7   \n",
       "...                  ...               ...               ...   \n",
       "3115                 656               351              1341   \n",
       "3116                 506               214               928   \n",
       "3117                 379               153               684   \n",
       "3118                 250                93               602   \n",
       "3119                 190                48               511   \n",
       "\n",
       "      Avg Saturday Exit  Avg Sunday Exit  Avg Holiday Entries  \\\n",
       "0                    21               30                   47   \n",
       "1                    29               30                   36   \n",
       "2                    16               18                   23   \n",
       "3                    12               19                   16   \n",
       "4                     6                8                   11   \n",
       "...                 ...              ...                  ...   \n",
       "3115               1040              597                  302   \n",
       "3116                823              503                  195   \n",
       "3117                780              366                  140   \n",
       "3118                744              318                   71   \n",
       "3119                721              346                   49   \n",
       "\n",
       "      Avg Holiday Exits  \n",
       "0                     7  \n",
       "1                     9  \n",
       "2                     8  \n",
       "3                     2  \n",
       "4                     6  \n",
       "...                 ...  \n",
       "3115                901  \n",
       "3116                711  \n",
       "3117                511  \n",
       "3118                331  \n",
       "3119                276  \n",
       "\n",
       "[21840 rows x 12 columns]"
      ]
     },
     "execution_count": 2,
     "metadata": {},
     "output_type": "execute_result"
    }
   ],
   "source": [
    "suffixes = [ '', '-total', '-system']\n",
    "hrs, totals, system_wide = [\n",
    "    pd.concat(dfs)\n",
    "    for dfs in zip(*[\n",
    "        [ \n",
    "            read_parquet(f'data/{year}-hourly{suffix}.pqt')\n",
    "            for suffix in suffixes\n",
    "        ]\n",
    "        for year in range(2017, 2023)\n",
    "    ])\n",
    "]\n",
    "hrs"
   ]
  },
  {
   "cell_type": "code",
   "execution_count": 3,
   "id": "c954a4ab",
   "metadata": {
    "scrolled": true
   },
   "outputs": [
    {
     "data": {
      "text/plain": [
       "910    24\n",
       "Name: Hour, dtype: int64"
      ]
     },
     "execution_count": 3,
     "metadata": {},
     "output_type": "execute_result"
    }
   ],
   "source": [
    "hrs.Hour.value_counts().value_counts()"
   ]
  },
  {
   "cell_type": "code",
   "execution_count": 4,
   "id": "397ed19e",
   "metadata": {},
   "outputs": [
    {
     "data": {
      "text/html": [
       "<div>\n",
       "<style scoped>\n",
       "    .dataframe tbody tr th:only-of-type {\n",
       "        vertical-align: middle;\n",
       "    }\n",
       "\n",
       "    .dataframe tbody tr th {\n",
       "        vertical-align: top;\n",
       "    }\n",
       "\n",
       "    .dataframe thead th {\n",
       "        text-align: right;\n",
       "    }\n",
       "</style>\n",
       "<table border=\"1\" class=\"dataframe\">\n",
       "  <thead>\n",
       "    <tr style=\"text-align: right;\">\n",
       "      <th></th>\n",
       "      <th>Year</th>\n",
       "      <th>Month</th>\n",
       "      <th>Station</th>\n",
       "      <th>Hour</th>\n",
       "      <th>Avg Weekday Entry</th>\n",
       "      <th>Avg Saturday Entry</th>\n",
       "      <th>Avg Sunday Entry</th>\n",
       "      <th>Avg Weekday Exit</th>\n",
       "      <th>Avg Saturday Exit</th>\n",
       "      <th>Avg Sunday Exit</th>\n",
       "      <th>Avg Holiday Entries</th>\n",
       "      <th>Avg Holiday Exits</th>\n",
       "    </tr>\n",
       "  </thead>\n",
       "  <tbody>\n",
       "    <tr>\n",
       "      <th>0</th>\n",
       "      <td>2017</td>\n",
       "      <td>1</td>\n",
       "      <td>Christopher St.</td>\n",
       "      <td>Total</td>\n",
       "      <td>4755</td>\n",
       "      <td>2395</td>\n",
       "      <td>1995</td>\n",
       "      <td>4405</td>\n",
       "      <td>2562</td>\n",
       "      <td>1728</td>\n",
       "      <td>1896</td>\n",
       "      <td>2105</td>\n",
       "    </tr>\n",
       "    <tr>\n",
       "      <th>1</th>\n",
       "      <td>2017</td>\n",
       "      <td>1</td>\n",
       "      <td>9th Street</td>\n",
       "      <td>Total</td>\n",
       "      <td>4304</td>\n",
       "      <td>3035</td>\n",
       "      <td>2578</td>\n",
       "      <td>4450</td>\n",
       "      <td>3494</td>\n",
       "      <td>2179</td>\n",
       "      <td>2175</td>\n",
       "      <td>1965</td>\n",
       "    </tr>\n",
       "    <tr>\n",
       "      <th>2</th>\n",
       "      <td>2017</td>\n",
       "      <td>1</td>\n",
       "      <td>14th Street</td>\n",
       "      <td>Total</td>\n",
       "      <td>8670</td>\n",
       "      <td>4090</td>\n",
       "      <td>3486</td>\n",
       "      <td>8851</td>\n",
       "      <td>4919</td>\n",
       "      <td>3568</td>\n",
       "      <td>4155</td>\n",
       "      <td>4448</td>\n",
       "    </tr>\n",
       "    <tr>\n",
       "      <th>3</th>\n",
       "      <td>2017</td>\n",
       "      <td>1</td>\n",
       "      <td>23rd Street</td>\n",
       "      <td>Total</td>\n",
       "      <td>9486</td>\n",
       "      <td>2755</td>\n",
       "      <td>2326</td>\n",
       "      <td>11778</td>\n",
       "      <td>3423</td>\n",
       "      <td>2335</td>\n",
       "      <td>3367</td>\n",
       "      <td>3968</td>\n",
       "    </tr>\n",
       "    <tr>\n",
       "      <th>4</th>\n",
       "      <td>2017</td>\n",
       "      <td>1</td>\n",
       "      <td>33rd Street</td>\n",
       "      <td>Total</td>\n",
       "      <td>34024</td>\n",
       "      <td>14289</td>\n",
       "      <td>13070</td>\n",
       "      <td>30790</td>\n",
       "      <td>12828</td>\n",
       "      <td>10383</td>\n",
       "      <td>15094</td>\n",
       "      <td>14441</td>\n",
       "    </tr>\n",
       "    <tr>\n",
       "      <th>...</th>\n",
       "      <td>...</td>\n",
       "      <td>...</td>\n",
       "      <td>...</td>\n",
       "      <td>...</td>\n",
       "      <td>...</td>\n",
       "      <td>...</td>\n",
       "      <td>...</td>\n",
       "      <td>...</td>\n",
       "      <td>...</td>\n",
       "      <td>...</td>\n",
       "      <td>...</td>\n",
       "      <td>...</td>\n",
       "    </tr>\n",
       "    <tr>\n",
       "      <th>93</th>\n",
       "      <td>2022</td>\n",
       "      <td>10</td>\n",
       "      <td>Grove Street</td>\n",
       "      <td>Total</td>\n",
       "      <td>14412</td>\n",
       "      <td>10753</td>\n",
       "      <td>6999</td>\n",
       "      <td>16537</td>\n",
       "      <td>13225</td>\n",
       "      <td>9877</td>\n",
       "      <td>9714</td>\n",
       "      <td>11588</td>\n",
       "    </tr>\n",
       "    <tr>\n",
       "      <th>94</th>\n",
       "      <td>2022</td>\n",
       "      <td>10</td>\n",
       "      <td>Exchange Place</td>\n",
       "      <td>Total</td>\n",
       "      <td>8450</td>\n",
       "      <td>4369</td>\n",
       "      <td>3024</td>\n",
       "      <td>10087</td>\n",
       "      <td>5659</td>\n",
       "      <td>4403</td>\n",
       "      <td>5374</td>\n",
       "      <td>6911</td>\n",
       "    </tr>\n",
       "    <tr>\n",
       "      <th>95</th>\n",
       "      <td>2022</td>\n",
       "      <td>10</td>\n",
       "      <td>Newport</td>\n",
       "      <td>Total</td>\n",
       "      <td>10342</td>\n",
       "      <td>5859</td>\n",
       "      <td>3985</td>\n",
       "      <td>11968</td>\n",
       "      <td>7312</td>\n",
       "      <td>5516</td>\n",
       "      <td>7711</td>\n",
       "      <td>9331</td>\n",
       "    </tr>\n",
       "    <tr>\n",
       "      <th>96</th>\n",
       "      <td>2022</td>\n",
       "      <td>10</td>\n",
       "      <td>Hoboken</td>\n",
       "      <td>Total</td>\n",
       "      <td>15551</td>\n",
       "      <td>9903</td>\n",
       "      <td>6409</td>\n",
       "      <td>15351</td>\n",
       "      <td>11766</td>\n",
       "      <td>8939</td>\n",
       "      <td>9837</td>\n",
       "      <td>10576</td>\n",
       "    </tr>\n",
       "    <tr>\n",
       "      <th>97</th>\n",
       "      <td>2022</td>\n",
       "      <td>10</td>\n",
       "      <td>System-wide</td>\n",
       "      <td>Total</td>\n",
       "      <td>158482</td>\n",
       "      <td>96079</td>\n",
       "      <td>69417</td>\n",
       "      <td>175709</td>\n",
       "      <td>113836</td>\n",
       "      <td>85093</td>\n",
       "      <td>110856</td>\n",
       "      <td>126724</td>\n",
       "    </tr>\n",
       "  </tbody>\n",
       "</table>\n",
       "<p>924 rows × 12 columns</p>\n",
       "</div>"
      ],
      "text/plain": [
       "    Year  Month          Station   Hour  Avg Weekday Entry  \\\n",
       "0   2017      1  Christopher St.  Total               4755   \n",
       "1   2017      1       9th Street  Total               4304   \n",
       "2   2017      1      14th Street  Total               8670   \n",
       "3   2017      1      23rd Street  Total               9486   \n",
       "4   2017      1      33rd Street  Total              34024   \n",
       "..   ...    ...              ...    ...                ...   \n",
       "93  2022     10     Grove Street  Total              14412   \n",
       "94  2022     10   Exchange Place  Total               8450   \n",
       "95  2022     10          Newport  Total              10342   \n",
       "96  2022     10          Hoboken  Total              15551   \n",
       "97  2022     10      System-wide  Total             158482   \n",
       "\n",
       "    Avg Saturday Entry  Avg Sunday Entry  Avg Weekday Exit  Avg Saturday Exit  \\\n",
       "0                 2395              1995              4405               2562   \n",
       "1                 3035              2578              4450               3494   \n",
       "2                 4090              3486              8851               4919   \n",
       "3                 2755              2326             11778               3423   \n",
       "4                14289             13070             30790              12828   \n",
       "..                 ...               ...               ...                ...   \n",
       "93               10753              6999             16537              13225   \n",
       "94                4369              3024             10087               5659   \n",
       "95                5859              3985             11968               7312   \n",
       "96                9903              6409             15351              11766   \n",
       "97               96079             69417            175709             113836   \n",
       "\n",
       "    Avg Sunday Exit  Avg Holiday Entries  Avg Holiday Exits  \n",
       "0              1728                 1896               2105  \n",
       "1              2179                 2175               1965  \n",
       "2              3568                 4155               4448  \n",
       "3              2335                 3367               3968  \n",
       "4             10383                15094              14441  \n",
       "..              ...                  ...                ...  \n",
       "93             9877                 9714              11588  \n",
       "94             4403                 5374               6911  \n",
       "95             5516                 7711               9331  \n",
       "96             8939                 9837              10576  \n",
       "97            85093               110856             126724  \n",
       "\n",
       "[924 rows x 12 columns]"
      ]
     },
     "execution_count": 4,
     "metadata": {},
     "output_type": "execute_result"
    }
   ],
   "source": [
    "totals"
   ]
  },
  {
   "cell_type": "code",
   "execution_count": 5,
   "id": "07dce9d0",
   "metadata": {},
   "outputs": [
    {
     "data": {
      "text/html": [
       "<div>\n",
       "<style scoped>\n",
       "    .dataframe tbody tr th:only-of-type {\n",
       "        vertical-align: middle;\n",
       "    }\n",
       "\n",
       "    .dataframe tbody tr th {\n",
       "        vertical-align: top;\n",
       "    }\n",
       "\n",
       "    .dataframe thead th {\n",
       "        text-align: right;\n",
       "    }\n",
       "</style>\n",
       "<table border=\"1\" class=\"dataframe\">\n",
       "  <thead>\n",
       "    <tr style=\"text-align: right;\">\n",
       "      <th></th>\n",
       "      <th>Year</th>\n",
       "      <th>Month</th>\n",
       "      <th>Station</th>\n",
       "      <th>Hour</th>\n",
       "      <th>Avg Weekday Entry</th>\n",
       "      <th>Avg Saturday Entry</th>\n",
       "      <th>Avg Sunday Entry</th>\n",
       "      <th>Avg Weekday Exit</th>\n",
       "      <th>Avg Saturday Exit</th>\n",
       "      <th>Avg Sunday Exit</th>\n",
       "      <th>Avg Holiday Entries</th>\n",
       "      <th>Avg Holiday Exits</th>\n",
       "    </tr>\n",
       "  </thead>\n",
       "  <tbody>\n",
       "    <tr>\n",
       "      <th>0</th>\n",
       "      <td>2017</td>\n",
       "      <td>1</td>\n",
       "      <td>System-wide</td>\n",
       "      <td>0</td>\n",
       "      <td>923</td>\n",
       "      <td>2328</td>\n",
       "      <td>2903</td>\n",
       "      <td>1432</td>\n",
       "      <td>3021</td>\n",
       "      <td>2818</td>\n",
       "      <td>1189</td>\n",
       "      <td>1768</td>\n",
       "    </tr>\n",
       "    <tr>\n",
       "      <th>1</th>\n",
       "      <td>2017</td>\n",
       "      <td>1</td>\n",
       "      <td>System-wide</td>\n",
       "      <td>1</td>\n",
       "      <td>446</td>\n",
       "      <td>1364</td>\n",
       "      <td>2557</td>\n",
       "      <td>769</td>\n",
       "      <td>1774</td>\n",
       "      <td>2983</td>\n",
       "      <td>667</td>\n",
       "      <td>1040</td>\n",
       "    </tr>\n",
       "    <tr>\n",
       "      <th>2</th>\n",
       "      <td>2017</td>\n",
       "      <td>1</td>\n",
       "      <td>System-wide</td>\n",
       "      <td>2</td>\n",
       "      <td>299</td>\n",
       "      <td>889</td>\n",
       "      <td>1780</td>\n",
       "      <td>500</td>\n",
       "      <td>1354</td>\n",
       "      <td>2182</td>\n",
       "      <td>438</td>\n",
       "      <td>669</td>\n",
       "    </tr>\n",
       "    <tr>\n",
       "      <th>3</th>\n",
       "      <td>2017</td>\n",
       "      <td>1</td>\n",
       "      <td>System-wide</td>\n",
       "      <td>3</td>\n",
       "      <td>323</td>\n",
       "      <td>647</td>\n",
       "      <td>1123</td>\n",
       "      <td>401</td>\n",
       "      <td>864</td>\n",
       "      <td>1535</td>\n",
       "      <td>343</td>\n",
       "      <td>451</td>\n",
       "    </tr>\n",
       "    <tr>\n",
       "      <th>4</th>\n",
       "      <td>2017</td>\n",
       "      <td>1</td>\n",
       "      <td>System-wide</td>\n",
       "      <td>4</td>\n",
       "      <td>692</td>\n",
       "      <td>616</td>\n",
       "      <td>775</td>\n",
       "      <td>659</td>\n",
       "      <td>663</td>\n",
       "      <td>927</td>\n",
       "      <td>429</td>\n",
       "      <td>497</td>\n",
       "    </tr>\n",
       "    <tr>\n",
       "      <th>...</th>\n",
       "      <td>...</td>\n",
       "      <td>...</td>\n",
       "      <td>...</td>\n",
       "      <td>...</td>\n",
       "      <td>...</td>\n",
       "      <td>...</td>\n",
       "      <td>...</td>\n",
       "      <td>...</td>\n",
       "      <td>...</td>\n",
       "      <td>...</td>\n",
       "      <td>...</td>\n",
       "      <td>...</td>\n",
       "    </tr>\n",
       "    <tr>\n",
       "      <th>235</th>\n",
       "      <td>2022</td>\n",
       "      <td>10</td>\n",
       "      <td>System-wide</td>\n",
       "      <td>19</td>\n",
       "      <td>8733</td>\n",
       "      <td>6763</td>\n",
       "      <td>4359</td>\n",
       "      <td>11073</td>\n",
       "      <td>8266</td>\n",
       "      <td>5855</td>\n",
       "      <td>6310</td>\n",
       "      <td>8136</td>\n",
       "    </tr>\n",
       "    <tr>\n",
       "      <th>236</th>\n",
       "      <td>2022</td>\n",
       "      <td>10</td>\n",
       "      <td>System-wide</td>\n",
       "      <td>20</td>\n",
       "      <td>5852</td>\n",
       "      <td>5438</td>\n",
       "      <td>3269</td>\n",
       "      <td>7810</td>\n",
       "      <td>7216</td>\n",
       "      <td>4798</td>\n",
       "      <td>4353</td>\n",
       "      <td>6036</td>\n",
       "    </tr>\n",
       "    <tr>\n",
       "      <th>237</th>\n",
       "      <td>2022</td>\n",
       "      <td>10</td>\n",
       "      <td>System-wide</td>\n",
       "      <td>21</td>\n",
       "      <td>4433</td>\n",
       "      <td>4418</td>\n",
       "      <td>2487</td>\n",
       "      <td>6197</td>\n",
       "      <td>6175</td>\n",
       "      <td>3920</td>\n",
       "      <td>3188</td>\n",
       "      <td>4817</td>\n",
       "    </tr>\n",
       "    <tr>\n",
       "      <th>238</th>\n",
       "      <td>2022</td>\n",
       "      <td>10</td>\n",
       "      <td>System-wide</td>\n",
       "      <td>22</td>\n",
       "      <td>3242</td>\n",
       "      <td>3613</td>\n",
       "      <td>1955</td>\n",
       "      <td>4702</td>\n",
       "      <td>5372</td>\n",
       "      <td>3027</td>\n",
       "      <td>2147</td>\n",
       "      <td>3349</td>\n",
       "    </tr>\n",
       "    <tr>\n",
       "      <th>239</th>\n",
       "      <td>2022</td>\n",
       "      <td>10</td>\n",
       "      <td>System-wide</td>\n",
       "      <td>23</td>\n",
       "      <td>2144</td>\n",
       "      <td>3042</td>\n",
       "      <td>1315</td>\n",
       "      <td>3013</td>\n",
       "      <td>4488</td>\n",
       "      <td>2342</td>\n",
       "      <td>1436</td>\n",
       "      <td>2052</td>\n",
       "    </tr>\n",
       "  </tbody>\n",
       "</table>\n",
       "<p>1680 rows × 12 columns</p>\n",
       "</div>"
      ],
      "text/plain": [
       "     Year  Month      Station  Hour  Avg Weekday Entry  Avg Saturday Entry  \\\n",
       "0    2017      1  System-wide     0                923                2328   \n",
       "1    2017      1  System-wide     1                446                1364   \n",
       "2    2017      1  System-wide     2                299                 889   \n",
       "3    2017      1  System-wide     3                323                 647   \n",
       "4    2017      1  System-wide     4                692                 616   \n",
       "..    ...    ...          ...   ...                ...                 ...   \n",
       "235  2022     10  System-wide    19               8733                6763   \n",
       "236  2022     10  System-wide    20               5852                5438   \n",
       "237  2022     10  System-wide    21               4433                4418   \n",
       "238  2022     10  System-wide    22               3242                3613   \n",
       "239  2022     10  System-wide    23               2144                3042   \n",
       "\n",
       "     Avg Sunday Entry  Avg Weekday Exit  Avg Saturday Exit  Avg Sunday Exit  \\\n",
       "0                2903              1432               3021             2818   \n",
       "1                2557               769               1774             2983   \n",
       "2                1780               500               1354             2182   \n",
       "3                1123               401                864             1535   \n",
       "4                 775               659                663              927   \n",
       "..                ...               ...                ...              ...   \n",
       "235              4359             11073               8266             5855   \n",
       "236              3269              7810               7216             4798   \n",
       "237              2487              6197               6175             3920   \n",
       "238              1955              4702               5372             3027   \n",
       "239              1315              3013               4488             2342   \n",
       "\n",
       "     Avg Holiday Entries  Avg Holiday Exits  \n",
       "0                   1189               1768  \n",
       "1                    667               1040  \n",
       "2                    438                669  \n",
       "3                    343                451  \n",
       "4                    429                497  \n",
       "..                   ...                ...  \n",
       "235                 6310               8136  \n",
       "236                 4353               6036  \n",
       "237                 3188               4817  \n",
       "238                 2147               3349  \n",
       "239                 1436               2052  \n",
       "\n",
       "[1680 rows x 12 columns]"
      ]
     },
     "execution_count": 5,
     "metadata": {},
     "output_type": "execute_result"
    }
   ],
   "source": [
    "system_wide"
   ]
  },
  {
   "cell_type": "code",
   "execution_count": 6,
   "id": "a8e021d4",
   "metadata": {
    "scrolled": true
   },
   "outputs": [
    {
     "data": {
      "text/html": [
       "<div>\n",
       "<style scoped>\n",
       "    .dataframe tbody tr th:only-of-type {\n",
       "        vertical-align: middle;\n",
       "    }\n",
       "\n",
       "    .dataframe tbody tr th {\n",
       "        vertical-align: top;\n",
       "    }\n",
       "\n",
       "    .dataframe thead th {\n",
       "        text-align: right;\n",
       "    }\n",
       "</style>\n",
       "<table border=\"1\" class=\"dataframe\">\n",
       "  <thead>\n",
       "    <tr style=\"text-align: right;\">\n",
       "      <th></th>\n",
       "      <th>Year</th>\n",
       "      <th>Month</th>\n",
       "      <th>Station</th>\n",
       "      <th>Hour</th>\n",
       "      <th>Avg Weekday Entry</th>\n",
       "      <th>Avg Saturday Entry</th>\n",
       "      <th>Avg Sunday Entry</th>\n",
       "      <th>Avg Weekday Exit</th>\n",
       "      <th>Avg Saturday Exit</th>\n",
       "      <th>Avg Sunday Exit</th>\n",
       "      <th>Avg Holiday Entries</th>\n",
       "      <th>Avg Holiday Exits</th>\n",
       "    </tr>\n",
       "  </thead>\n",
       "  <tbody>\n",
       "    <tr>\n",
       "      <th>13</th>\n",
       "      <td>2017</td>\n",
       "      <td>1</td>\n",
       "      <td>System-wide</td>\n",
       "      <td>Total</td>\n",
       "      <td>267143</td>\n",
       "      <td>97016</td>\n",
       "      <td>78609</td>\n",
       "      <td>266281</td>\n",
       "      <td>100371</td>\n",
       "      <td>83408</td>\n",
       "      <td>102441</td>\n",
       "      <td>106405</td>\n",
       "    </tr>\n",
       "    <tr>\n",
       "      <th>27</th>\n",
       "      <td>2017</td>\n",
       "      <td>2</td>\n",
       "      <td>System-wide</td>\n",
       "      <td>Total</td>\n",
       "      <td>266278</td>\n",
       "      <td>110189</td>\n",
       "      <td>80354</td>\n",
       "      <td>265735</td>\n",
       "      <td>117990</td>\n",
       "      <td>86114</td>\n",
       "      <td>119703</td>\n",
       "      <td>125350</td>\n",
       "    </tr>\n",
       "    <tr>\n",
       "      <th>41</th>\n",
       "      <td>2017</td>\n",
       "      <td>3</td>\n",
       "      <td>System-wide</td>\n",
       "      <td>Total</td>\n",
       "      <td>265085</td>\n",
       "      <td>107578</td>\n",
       "      <td>77459</td>\n",
       "      <td>265361</td>\n",
       "      <td>110935</td>\n",
       "      <td>81035</td>\n",
       "      <td>0</td>\n",
       "      <td>0</td>\n",
       "    </tr>\n",
       "    <tr>\n",
       "      <th>55</th>\n",
       "      <td>2017</td>\n",
       "      <td>4</td>\n",
       "      <td>System-wide</td>\n",
       "      <td>Total</td>\n",
       "      <td>278387</td>\n",
       "      <td>121897</td>\n",
       "      <td>93565</td>\n",
       "      <td>289147</td>\n",
       "      <td>129369</td>\n",
       "      <td>101704</td>\n",
       "      <td>0</td>\n",
       "      <td>0</td>\n",
       "    </tr>\n",
       "    <tr>\n",
       "      <th>69</th>\n",
       "      <td>2017</td>\n",
       "      <td>5</td>\n",
       "      <td>System-wide</td>\n",
       "      <td>Total</td>\n",
       "      <td>284092</td>\n",
       "      <td>110589</td>\n",
       "      <td>92974</td>\n",
       "      <td>283717</td>\n",
       "      <td>118595</td>\n",
       "      <td>99031</td>\n",
       "      <td>75002</td>\n",
       "      <td>80021</td>\n",
       "    </tr>\n",
       "    <tr>\n",
       "      <th>83</th>\n",
       "      <td>2017</td>\n",
       "      <td>6</td>\n",
       "      <td>System-wide</td>\n",
       "      <td>Total</td>\n",
       "      <td>288213</td>\n",
       "      <td>124223</td>\n",
       "      <td>98633</td>\n",
       "      <td>287843</td>\n",
       "      <td>130535</td>\n",
       "      <td>106168</td>\n",
       "      <td>0</td>\n",
       "      <td>0</td>\n",
       "    </tr>\n",
       "    <tr>\n",
       "      <th>97</th>\n",
       "      <td>2017</td>\n",
       "      <td>7</td>\n",
       "      <td>System-wide</td>\n",
       "      <td>Total</td>\n",
       "      <td>279219</td>\n",
       "      <td>118351</td>\n",
       "      <td>94803</td>\n",
       "      <td>299511</td>\n",
       "      <td>126225</td>\n",
       "      <td>102598</td>\n",
       "      <td>108124</td>\n",
       "      <td>118788</td>\n",
       "    </tr>\n",
       "    <tr>\n",
       "      <th>111</th>\n",
       "      <td>2017</td>\n",
       "      <td>8</td>\n",
       "      <td>System-wide</td>\n",
       "      <td>Total</td>\n",
       "      <td>272890</td>\n",
       "      <td>119619</td>\n",
       "      <td>94767</td>\n",
       "      <td>290198</td>\n",
       "      <td>125277</td>\n",
       "      <td>101212</td>\n",
       "      <td>0</td>\n",
       "      <td>0</td>\n",
       "    </tr>\n",
       "    <tr>\n",
       "      <th>125</th>\n",
       "      <td>2017</td>\n",
       "      <td>9</td>\n",
       "      <td>System-wide</td>\n",
       "      <td>Total</td>\n",
       "      <td>292579</td>\n",
       "      <td>124152</td>\n",
       "      <td>95157</td>\n",
       "      <td>288766</td>\n",
       "      <td>129768</td>\n",
       "      <td>100212</td>\n",
       "      <td>100064</td>\n",
       "      <td>105819</td>\n",
       "    </tr>\n",
       "    <tr>\n",
       "      <th>139</th>\n",
       "      <td>2017</td>\n",
       "      <td>10</td>\n",
       "      <td>System-wide</td>\n",
       "      <td>Total</td>\n",
       "      <td>297006</td>\n",
       "      <td>129132</td>\n",
       "      <td>89990</td>\n",
       "      <td>296818</td>\n",
       "      <td>136134</td>\n",
       "      <td>96960</td>\n",
       "      <td>215163</td>\n",
       "      <td>219037</td>\n",
       "    </tr>\n",
       "    <tr>\n",
       "      <th>153</th>\n",
       "      <td>2017</td>\n",
       "      <td>11</td>\n",
       "      <td>System-wide</td>\n",
       "      <td>Total</td>\n",
       "      <td>291429</td>\n",
       "      <td>115540</td>\n",
       "      <td>87081</td>\n",
       "      <td>289482</td>\n",
       "      <td>119875</td>\n",
       "      <td>92391</td>\n",
       "      <td>159001</td>\n",
       "      <td>162038</td>\n",
       "    </tr>\n",
       "    <tr>\n",
       "      <th>167</th>\n",
       "      <td>2017</td>\n",
       "      <td>12</td>\n",
       "      <td>System-wide</td>\n",
       "      <td>Total</td>\n",
       "      <td>265353</td>\n",
       "      <td>114860</td>\n",
       "      <td>91394</td>\n",
       "      <td>263639</td>\n",
       "      <td>119724</td>\n",
       "      <td>97359</td>\n",
       "      <td>63484</td>\n",
       "      <td>69974</td>\n",
       "    </tr>\n",
       "    <tr>\n",
       "      <th>13</th>\n",
       "      <td>2018</td>\n",
       "      <td>1</td>\n",
       "      <td>System-wide</td>\n",
       "      <td>Total</td>\n",
       "      <td>266394</td>\n",
       "      <td>100394</td>\n",
       "      <td>70543</td>\n",
       "      <td>264337</td>\n",
       "      <td>104307</td>\n",
       "      <td>73875</td>\n",
       "      <td>94907</td>\n",
       "      <td>99773</td>\n",
       "    </tr>\n",
       "    <tr>\n",
       "      <th>27</th>\n",
       "      <td>2018</td>\n",
       "      <td>2</td>\n",
       "      <td>System-wide</td>\n",
       "      <td>Total</td>\n",
       "      <td>279687</td>\n",
       "      <td>101733</td>\n",
       "      <td>73608</td>\n",
       "      <td>276698</td>\n",
       "      <td>106536</td>\n",
       "      <td>78242</td>\n",
       "      <td>114897</td>\n",
       "      <td>121307</td>\n",
       "    </tr>\n",
       "    <tr>\n",
       "      <th>41</th>\n",
       "      <td>2018</td>\n",
       "      <td>3</td>\n",
       "      <td>System-wide</td>\n",
       "      <td>Total</td>\n",
       "      <td>262113</td>\n",
       "      <td>118685</td>\n",
       "      <td>83404</td>\n",
       "      <td>264566</td>\n",
       "      <td>119556</td>\n",
       "      <td>87184</td>\n",
       "      <td>0</td>\n",
       "      <td>0</td>\n",
       "    </tr>\n",
       "    <tr>\n",
       "      <th>55</th>\n",
       "      <td>2018</td>\n",
       "      <td>4</td>\n",
       "      <td>System-wide</td>\n",
       "      <td>Total</td>\n",
       "      <td>284022</td>\n",
       "      <td>127002</td>\n",
       "      <td>85516</td>\n",
       "      <td>282130</td>\n",
       "      <td>133404</td>\n",
       "      <td>89991</td>\n",
       "      <td>0</td>\n",
       "      <td>0</td>\n",
       "    </tr>\n",
       "    <tr>\n",
       "      <th>69</th>\n",
       "      <td>2018</td>\n",
       "      <td>5</td>\n",
       "      <td>System-wide</td>\n",
       "      <td>Total</td>\n",
       "      <td>291747</td>\n",
       "      <td>116301</td>\n",
       "      <td>84873</td>\n",
       "      <td>290427</td>\n",
       "      <td>123333</td>\n",
       "      <td>90628</td>\n",
       "      <td>91664</td>\n",
       "      <td>99945</td>\n",
       "    </tr>\n",
       "    <tr>\n",
       "      <th>83</th>\n",
       "      <td>2018</td>\n",
       "      <td>6</td>\n",
       "      <td>System-wide</td>\n",
       "      <td>Total</td>\n",
       "      <td>291025</td>\n",
       "      <td>119847</td>\n",
       "      <td>98296</td>\n",
       "      <td>286204</td>\n",
       "      <td>125683</td>\n",
       "      <td>104393</td>\n",
       "      <td>0</td>\n",
       "      <td>0</td>\n",
       "    </tr>\n",
       "    <tr>\n",
       "      <th>97</th>\n",
       "      <td>2018</td>\n",
       "      <td>7</td>\n",
       "      <td>System-wide</td>\n",
       "      <td>Total</td>\n",
       "      <td>281680</td>\n",
       "      <td>107167</td>\n",
       "      <td>79582</td>\n",
       "      <td>275542</td>\n",
       "      <td>115326</td>\n",
       "      <td>85865</td>\n",
       "      <td>114378</td>\n",
       "      <td>117546</td>\n",
       "    </tr>\n",
       "    <tr>\n",
       "      <th>111</th>\n",
       "      <td>2018</td>\n",
       "      <td>8</td>\n",
       "      <td>System-wide</td>\n",
       "      <td>Total</td>\n",
       "      <td>275405</td>\n",
       "      <td>98027</td>\n",
       "      <td>79258</td>\n",
       "      <td>268140</td>\n",
       "      <td>105236</td>\n",
       "      <td>85146</td>\n",
       "      <td>0</td>\n",
       "      <td>0</td>\n",
       "    </tr>\n",
       "    <tr>\n",
       "      <th>125</th>\n",
       "      <td>2018</td>\n",
       "      <td>9</td>\n",
       "      <td>System-wide</td>\n",
       "      <td>Total</td>\n",
       "      <td>289029</td>\n",
       "      <td>112241</td>\n",
       "      <td>80417</td>\n",
       "      <td>279932</td>\n",
       "      <td>120649</td>\n",
       "      <td>85639</td>\n",
       "      <td>85882</td>\n",
       "      <td>92498</td>\n",
       "    </tr>\n",
       "    <tr>\n",
       "      <th>139</th>\n",
       "      <td>2018</td>\n",
       "      <td>10</td>\n",
       "      <td>System-wide</td>\n",
       "      <td>Total</td>\n",
       "      <td>298732</td>\n",
       "      <td>100915</td>\n",
       "      <td>78067</td>\n",
       "      <td>294347</td>\n",
       "      <td>109662</td>\n",
       "      <td>85000</td>\n",
       "      <td>226097</td>\n",
       "      <td>226623</td>\n",
       "    </tr>\n",
       "    <tr>\n",
       "      <th>153</th>\n",
       "      <td>2018</td>\n",
       "      <td>11</td>\n",
       "      <td>System-wide</td>\n",
       "      <td>Total</td>\n",
       "      <td>284817</td>\n",
       "      <td>111519</td>\n",
       "      <td>88761</td>\n",
       "      <td>282747</td>\n",
       "      <td>118745</td>\n",
       "      <td>95965</td>\n",
       "      <td>146778</td>\n",
       "      <td>149138</td>\n",
       "    </tr>\n",
       "    <tr>\n",
       "      <th>167</th>\n",
       "      <td>2018</td>\n",
       "      <td>12</td>\n",
       "      <td>System-wide</td>\n",
       "      <td>Total</td>\n",
       "      <td>258210</td>\n",
       "      <td>131000</td>\n",
       "      <td>92494</td>\n",
       "      <td>255008</td>\n",
       "      <td>133419</td>\n",
       "      <td>98062</td>\n",
       "      <td>69559</td>\n",
       "      <td>76294</td>\n",
       "    </tr>\n",
       "    <tr>\n",
       "      <th>13</th>\n",
       "      <td>2019</td>\n",
       "      <td>1</td>\n",
       "      <td>System-wide</td>\n",
       "      <td>Total</td>\n",
       "      <td>272332</td>\n",
       "      <td>84332</td>\n",
       "      <td>62359</td>\n",
       "      <td>268674</td>\n",
       "      <td>91150</td>\n",
       "      <td>68851</td>\n",
       "      <td>87017</td>\n",
       "      <td>93321</td>\n",
       "    </tr>\n",
       "    <tr>\n",
       "      <th>27</th>\n",
       "      <td>2019</td>\n",
       "      <td>2</td>\n",
       "      <td>System-wide</td>\n",
       "      <td>Total</td>\n",
       "      <td>277793</td>\n",
       "      <td>94429</td>\n",
       "      <td>69546</td>\n",
       "      <td>275925</td>\n",
       "      <td>100149</td>\n",
       "      <td>75824</td>\n",
       "      <td>111488</td>\n",
       "      <td>115679</td>\n",
       "    </tr>\n",
       "    <tr>\n",
       "      <th>41</th>\n",
       "      <td>2019</td>\n",
       "      <td>3</td>\n",
       "      <td>System-wide</td>\n",
       "      <td>Total</td>\n",
       "      <td>281513</td>\n",
       "      <td>105390</td>\n",
       "      <td>69640</td>\n",
       "      <td>275487</td>\n",
       "      <td>109882</td>\n",
       "      <td>74296</td>\n",
       "      <td>0</td>\n",
       "      <td>0</td>\n",
       "    </tr>\n",
       "    <tr>\n",
       "      <th>55</th>\n",
       "      <td>2019</td>\n",
       "      <td>4</td>\n",
       "      <td>System-wide</td>\n",
       "      <td>Total</td>\n",
       "      <td>285912</td>\n",
       "      <td>113327</td>\n",
       "      <td>79808</td>\n",
       "      <td>284637</td>\n",
       "      <td>116172</td>\n",
       "      <td>86899</td>\n",
       "      <td>0</td>\n",
       "      <td>0</td>\n",
       "    </tr>\n",
       "    <tr>\n",
       "      <th>69</th>\n",
       "      <td>2019</td>\n",
       "      <td>5</td>\n",
       "      <td>System-wide</td>\n",
       "      <td>Total</td>\n",
       "      <td>288348</td>\n",
       "      <td>115551</td>\n",
       "      <td>80168</td>\n",
       "      <td>283490</td>\n",
       "      <td>127069</td>\n",
       "      <td>87323</td>\n",
       "      <td>89582</td>\n",
       "      <td>99260</td>\n",
       "    </tr>\n",
       "    <tr>\n",
       "      <th>83</th>\n",
       "      <td>2019</td>\n",
       "      <td>6</td>\n",
       "      <td>System-wide</td>\n",
       "      <td>Total</td>\n",
       "      <td>292062</td>\n",
       "      <td>113275</td>\n",
       "      <td>90076</td>\n",
       "      <td>289400</td>\n",
       "      <td>116167</td>\n",
       "      <td>98127</td>\n",
       "      <td>0</td>\n",
       "      <td>0</td>\n",
       "    </tr>\n",
       "    <tr>\n",
       "      <th>97</th>\n",
       "      <td>2019</td>\n",
       "      <td>7</td>\n",
       "      <td>System-wide</td>\n",
       "      <td>Total</td>\n",
       "      <td>288157</td>\n",
       "      <td>101049</td>\n",
       "      <td>79418</td>\n",
       "      <td>285908</td>\n",
       "      <td>106299</td>\n",
       "      <td>83520</td>\n",
       "      <td>115898</td>\n",
       "      <td>127506</td>\n",
       "    </tr>\n",
       "    <tr>\n",
       "      <th>111</th>\n",
       "      <td>2019</td>\n",
       "      <td>8</td>\n",
       "      <td>System-wide</td>\n",
       "      <td>Total</td>\n",
       "      <td>281487</td>\n",
       "      <td>110713</td>\n",
       "      <td>83350</td>\n",
       "      <td>279056</td>\n",
       "      <td>116518</td>\n",
       "      <td>84849</td>\n",
       "      <td>0</td>\n",
       "      <td>0</td>\n",
       "    </tr>\n",
       "    <tr>\n",
       "      <th>125</th>\n",
       "      <td>2019</td>\n",
       "      <td>9</td>\n",
       "      <td>System-wide</td>\n",
       "      <td>Total</td>\n",
       "      <td>298519</td>\n",
       "      <td>115921</td>\n",
       "      <td>90332</td>\n",
       "      <td>293859</td>\n",
       "      <td>117865</td>\n",
       "      <td>92934</td>\n",
       "      <td>74505</td>\n",
       "      <td>84746</td>\n",
       "    </tr>\n",
       "    <tr>\n",
       "      <th>139</th>\n",
       "      <td>2019</td>\n",
       "      <td>10</td>\n",
       "      <td>System-wide</td>\n",
       "      <td>Total</td>\n",
       "      <td>296976</td>\n",
       "      <td>116128</td>\n",
       "      <td>77291</td>\n",
       "      <td>297002</td>\n",
       "      <td>121932</td>\n",
       "      <td>83213</td>\n",
       "      <td>229107</td>\n",
       "      <td>229812</td>\n",
       "    </tr>\n",
       "    <tr>\n",
       "      <th>153</th>\n",
       "      <td>2019</td>\n",
       "      <td>11</td>\n",
       "      <td>System-wide</td>\n",
       "      <td>Total</td>\n",
       "      <td>290089</td>\n",
       "      <td>107375</td>\n",
       "      <td>77076</td>\n",
       "      <td>287597</td>\n",
       "      <td>108074</td>\n",
       "      <td>82157</td>\n",
       "      <td>152011</td>\n",
       "      <td>155210</td>\n",
       "    </tr>\n",
       "    <tr>\n",
       "      <th>167</th>\n",
       "      <td>2019</td>\n",
       "      <td>12</td>\n",
       "      <td>System-wide</td>\n",
       "      <td>Total</td>\n",
       "      <td>257948</td>\n",
       "      <td>128538</td>\n",
       "      <td>89895</td>\n",
       "      <td>260682</td>\n",
       "      <td>135661</td>\n",
       "      <td>97076</td>\n",
       "      <td>72636</td>\n",
       "      <td>84942</td>\n",
       "    </tr>\n",
       "    <tr>\n",
       "      <th>13</th>\n",
       "      <td>2020</td>\n",
       "      <td>1</td>\n",
       "      <td>System-wide</td>\n",
       "      <td>Total</td>\n",
       "      <td>277230</td>\n",
       "      <td>81649</td>\n",
       "      <td>67357</td>\n",
       "      <td>276874</td>\n",
       "      <td>85755</td>\n",
       "      <td>75028</td>\n",
       "      <td>103334</td>\n",
       "      <td>108550</td>\n",
       "    </tr>\n",
       "    <tr>\n",
       "      <th>27</th>\n",
       "      <td>2020</td>\n",
       "      <td>2</td>\n",
       "      <td>System-wide</td>\n",
       "      <td>Total</td>\n",
       "      <td>282356</td>\n",
       "      <td>92489</td>\n",
       "      <td>70473</td>\n",
       "      <td>275671</td>\n",
       "      <td>94873</td>\n",
       "      <td>74404</td>\n",
       "      <td>119015</td>\n",
       "      <td>125581</td>\n",
       "    </tr>\n",
       "    <tr>\n",
       "      <th>41</th>\n",
       "      <td>2020</td>\n",
       "      <td>3</td>\n",
       "      <td>System-wide</td>\n",
       "      <td>Total</td>\n",
       "      <td>126273</td>\n",
       "      <td>37938</td>\n",
       "      <td>35183</td>\n",
       "      <td>127834</td>\n",
       "      <td>42148</td>\n",
       "      <td>39748</td>\n",
       "      <td>0</td>\n",
       "      <td>0</td>\n",
       "    </tr>\n",
       "    <tr>\n",
       "      <th>55</th>\n",
       "      <td>2020</td>\n",
       "      <td>4</td>\n",
       "      <td>System-wide</td>\n",
       "      <td>Total</td>\n",
       "      <td>14597</td>\n",
       "      <td>7743</td>\n",
       "      <td>6127</td>\n",
       "      <td>19536</td>\n",
       "      <td>11626</td>\n",
       "      <td>9596</td>\n",
       "      <td>0</td>\n",
       "      <td>0</td>\n",
       "    </tr>\n",
       "    <tr>\n",
       "      <th>69</th>\n",
       "      <td>2020</td>\n",
       "      <td>5</td>\n",
       "      <td>System-wide</td>\n",
       "      <td>Total</td>\n",
       "      <td>20445</td>\n",
       "      <td>11737</td>\n",
       "      <td>10045</td>\n",
       "      <td>24516</td>\n",
       "      <td>15316</td>\n",
       "      <td>13414</td>\n",
       "      <td>13054</td>\n",
       "      <td>16923</td>\n",
       "    </tr>\n",
       "    <tr>\n",
       "      <th>83</th>\n",
       "      <td>2020</td>\n",
       "      <td>6</td>\n",
       "      <td>System-wide</td>\n",
       "      <td>Total</td>\n",
       "      <td>34368</td>\n",
       "      <td>20951</td>\n",
       "      <td>16852</td>\n",
       "      <td>38984</td>\n",
       "      <td>26234</td>\n",
       "      <td>21574</td>\n",
       "      <td>0</td>\n",
       "      <td>0</td>\n",
       "    </tr>\n",
       "    <tr>\n",
       "      <th>97</th>\n",
       "      <td>2020</td>\n",
       "      <td>7</td>\n",
       "      <td>System-wide</td>\n",
       "      <td>Total</td>\n",
       "      <td>46962</td>\n",
       "      <td>28745</td>\n",
       "      <td>22788</td>\n",
       "      <td>51840</td>\n",
       "      <td>34705</td>\n",
       "      <td>28376</td>\n",
       "      <td>32300</td>\n",
       "      <td>37389</td>\n",
       "    </tr>\n",
       "    <tr>\n",
       "      <th>111</th>\n",
       "      <td>2020</td>\n",
       "      <td>8</td>\n",
       "      <td>System-wide</td>\n",
       "      <td>Total</td>\n",
       "      <td>53837</td>\n",
       "      <td>35123</td>\n",
       "      <td>26094</td>\n",
       "      <td>59574</td>\n",
       "      <td>41546</td>\n",
       "      <td>31731</td>\n",
       "      <td>0</td>\n",
       "      <td>0</td>\n",
       "    </tr>\n",
       "    <tr>\n",
       "      <th>125</th>\n",
       "      <td>2020</td>\n",
       "      <td>9</td>\n",
       "      <td>System-wide</td>\n",
       "      <td>Total</td>\n",
       "      <td>62651</td>\n",
       "      <td>45346</td>\n",
       "      <td>32488</td>\n",
       "      <td>68662</td>\n",
       "      <td>51680</td>\n",
       "      <td>39398</td>\n",
       "      <td>33050</td>\n",
       "      <td>39486</td>\n",
       "    </tr>\n",
       "    <tr>\n",
       "      <th>139</th>\n",
       "      <td>2020</td>\n",
       "      <td>10</td>\n",
       "      <td>System-wide</td>\n",
       "      <td>Total</td>\n",
       "      <td>65839</td>\n",
       "      <td>47620</td>\n",
       "      <td>33569</td>\n",
       "      <td>71494</td>\n",
       "      <td>54934</td>\n",
       "      <td>40180</td>\n",
       "      <td>46353</td>\n",
       "      <td>50060</td>\n",
       "    </tr>\n",
       "    <tr>\n",
       "      <th>153</th>\n",
       "      <td>2020</td>\n",
       "      <td>11</td>\n",
       "      <td>System-wide</td>\n",
       "      <td>Total</td>\n",
       "      <td>61753</td>\n",
       "      <td>43393</td>\n",
       "      <td>29099</td>\n",
       "      <td>67991</td>\n",
       "      <td>50586</td>\n",
       "      <td>35670</td>\n",
       "      <td>40379</td>\n",
       "      <td>45715</td>\n",
       "    </tr>\n",
       "    <tr>\n",
       "      <th>167</th>\n",
       "      <td>2020</td>\n",
       "      <td>12</td>\n",
       "      <td>System-wide</td>\n",
       "      <td>Total</td>\n",
       "      <td>55353</td>\n",
       "      <td>34840</td>\n",
       "      <td>28436</td>\n",
       "      <td>60862</td>\n",
       "      <td>40576</td>\n",
       "      <td>34562</td>\n",
       "      <td>18157</td>\n",
       "      <td>23393</td>\n",
       "    </tr>\n",
       "    <tr>\n",
       "      <th>13</th>\n",
       "      <td>2021</td>\n",
       "      <td>1</td>\n",
       "      <td>System-wide</td>\n",
       "      <td>Total</td>\n",
       "      <td>56857</td>\n",
       "      <td>36228</td>\n",
       "      <td>25194</td>\n",
       "      <td>62084</td>\n",
       "      <td>42190</td>\n",
       "      <td>30582</td>\n",
       "      <td>33173</td>\n",
       "      <td>39648</td>\n",
       "    </tr>\n",
       "    <tr>\n",
       "      <th>27</th>\n",
       "      <td>2021</td>\n",
       "      <td>2</td>\n",
       "      <td>System-wide</td>\n",
       "      <td>Total</td>\n",
       "      <td>52601</td>\n",
       "      <td>39547</td>\n",
       "      <td>25936</td>\n",
       "      <td>57450</td>\n",
       "      <td>45328</td>\n",
       "      <td>31330</td>\n",
       "      <td>40270</td>\n",
       "      <td>45856</td>\n",
       "    </tr>\n",
       "    <tr>\n",
       "      <th>41</th>\n",
       "      <td>2021</td>\n",
       "      <td>3</td>\n",
       "      <td>System-wide</td>\n",
       "      <td>Total</td>\n",
       "      <td>64331</td>\n",
       "      <td>49566</td>\n",
       "      <td>31568</td>\n",
       "      <td>69801</td>\n",
       "      <td>56305</td>\n",
       "      <td>37255</td>\n",
       "      <td>0</td>\n",
       "      <td>0</td>\n",
       "    </tr>\n",
       "    <tr>\n",
       "      <th>55</th>\n",
       "      <td>2021</td>\n",
       "      <td>4</td>\n",
       "      <td>System-wide</td>\n",
       "      <td>Total</td>\n",
       "      <td>70157</td>\n",
       "      <td>54552</td>\n",
       "      <td>34532</td>\n",
       "      <td>75221</td>\n",
       "      <td>61340</td>\n",
       "      <td>40153</td>\n",
       "      <td>0</td>\n",
       "      <td>0</td>\n",
       "    </tr>\n",
       "    <tr>\n",
       "      <th>69</th>\n",
       "      <td>2021</td>\n",
       "      <td>6</td>\n",
       "      <td>System-wide</td>\n",
       "      <td>Total</td>\n",
       "      <td>91756</td>\n",
       "      <td>74411</td>\n",
       "      <td>57129</td>\n",
       "      <td>97306</td>\n",
       "      <td>83011</td>\n",
       "      <td>65927</td>\n",
       "      <td>0</td>\n",
       "      <td>0</td>\n",
       "    </tr>\n",
       "    <tr>\n",
       "      <th>83</th>\n",
       "      <td>2021</td>\n",
       "      <td>7</td>\n",
       "      <td>System-wide</td>\n",
       "      <td>Total</td>\n",
       "      <td>99229</td>\n",
       "      <td>71557</td>\n",
       "      <td>57220</td>\n",
       "      <td>104747</td>\n",
       "      <td>79864</td>\n",
       "      <td>65667</td>\n",
       "      <td>58363</td>\n",
       "      <td>68153</td>\n",
       "    </tr>\n",
       "    <tr>\n",
       "      <th>97</th>\n",
       "      <td>2021</td>\n",
       "      <td>8</td>\n",
       "      <td>System-wide</td>\n",
       "      <td>Total</td>\n",
       "      <td>98423</td>\n",
       "      <td>72157</td>\n",
       "      <td>49395</td>\n",
       "      <td>104521</td>\n",
       "      <td>80807</td>\n",
       "      <td>56619</td>\n",
       "      <td>0</td>\n",
       "      <td>0</td>\n",
       "    </tr>\n",
       "    <tr>\n",
       "      <th>111</th>\n",
       "      <td>2021</td>\n",
       "      <td>9</td>\n",
       "      <td>System-wide</td>\n",
       "      <td>Total</td>\n",
       "      <td>113495</td>\n",
       "      <td>84379</td>\n",
       "      <td>62892</td>\n",
       "      <td>117458</td>\n",
       "      <td>92656</td>\n",
       "      <td>70763</td>\n",
       "      <td>57880</td>\n",
       "      <td>64531</td>\n",
       "    </tr>\n",
       "    <tr>\n",
       "      <th>125</th>\n",
       "      <td>2021</td>\n",
       "      <td>10</td>\n",
       "      <td>System-wide</td>\n",
       "      <td>Total</td>\n",
       "      <td>124705</td>\n",
       "      <td>83665</td>\n",
       "      <td>65150</td>\n",
       "      <td>128946</td>\n",
       "      <td>92115</td>\n",
       "      <td>73779</td>\n",
       "      <td>92811</td>\n",
       "      <td>97489</td>\n",
       "    </tr>\n",
       "    <tr>\n",
       "      <th>139</th>\n",
       "      <td>2021</td>\n",
       "      <td>11</td>\n",
       "      <td>System-wide</td>\n",
       "      <td>Total</td>\n",
       "      <td>128093</td>\n",
       "      <td>82553</td>\n",
       "      <td>64085</td>\n",
       "      <td>133276</td>\n",
       "      <td>91293</td>\n",
       "      <td>72058</td>\n",
       "      <td>86666</td>\n",
       "      <td>93784</td>\n",
       "    </tr>\n",
       "    <tr>\n",
       "      <th>153</th>\n",
       "      <td>2021</td>\n",
       "      <td>12</td>\n",
       "      <td>System-wide</td>\n",
       "      <td>Total</td>\n",
       "      <td>112665</td>\n",
       "      <td>71272</td>\n",
       "      <td>61394</td>\n",
       "      <td>120100</td>\n",
       "      <td>79358</td>\n",
       "      <td>71111</td>\n",
       "      <td>61310</td>\n",
       "      <td>69781</td>\n",
       "    </tr>\n",
       "    <tr>\n",
       "      <th>13</th>\n",
       "      <td>2022</td>\n",
       "      <td>1</td>\n",
       "      <td>System-wide</td>\n",
       "      <td>Total</td>\n",
       "      <td>84185</td>\n",
       "      <td>44991</td>\n",
       "      <td>40323</td>\n",
       "      <td>92866</td>\n",
       "      <td>52937</td>\n",
       "      <td>47884</td>\n",
       "      <td>51961</td>\n",
       "      <td>58631</td>\n",
       "    </tr>\n",
       "    <tr>\n",
       "      <th>27</th>\n",
       "      <td>2022</td>\n",
       "      <td>2</td>\n",
       "      <td>System-wide</td>\n",
       "      <td>Total</td>\n",
       "      <td>113120</td>\n",
       "      <td>71450</td>\n",
       "      <td>50035</td>\n",
       "      <td>122621</td>\n",
       "      <td>80963</td>\n",
       "      <td>59089</td>\n",
       "      <td>72568</td>\n",
       "      <td>80420</td>\n",
       "    </tr>\n",
       "    <tr>\n",
       "      <th>41</th>\n",
       "      <td>2022</td>\n",
       "      <td>4</td>\n",
       "      <td>System-wide</td>\n",
       "      <td>Total</td>\n",
       "      <td>135338</td>\n",
       "      <td>86917</td>\n",
       "      <td>59104</td>\n",
       "      <td>148034</td>\n",
       "      <td>98764</td>\n",
       "      <td>70526</td>\n",
       "      <td>0</td>\n",
       "      <td>0</td>\n",
       "    </tr>\n",
       "    <tr>\n",
       "      <th>55</th>\n",
       "      <td>2022</td>\n",
       "      <td>5</td>\n",
       "      <td>System-wide</td>\n",
       "      <td>Total</td>\n",
       "      <td>138920</td>\n",
       "      <td>78221</td>\n",
       "      <td>66823</td>\n",
       "      <td>150636</td>\n",
       "      <td>90090</td>\n",
       "      <td>80684</td>\n",
       "      <td>63153</td>\n",
       "      <td>80564</td>\n",
       "    </tr>\n",
       "    <tr>\n",
       "      <th>69</th>\n",
       "      <td>2022</td>\n",
       "      <td>6</td>\n",
       "      <td>System-wide</td>\n",
       "      <td>Total</td>\n",
       "      <td>147774</td>\n",
       "      <td>93478</td>\n",
       "      <td>72160</td>\n",
       "      <td>159790</td>\n",
       "      <td>108839</td>\n",
       "      <td>88746</td>\n",
       "      <td>96662</td>\n",
       "      <td>108762</td>\n",
       "    </tr>\n",
       "    <tr>\n",
       "      <th>83</th>\n",
       "      <td>2022</td>\n",
       "      <td>8</td>\n",
       "      <td>System-wide</td>\n",
       "      <td>Total</td>\n",
       "      <td>138243</td>\n",
       "      <td>89309</td>\n",
       "      <td>66541</td>\n",
       "      <td>154317</td>\n",
       "      <td>106874</td>\n",
       "      <td>83188</td>\n",
       "      <td>0</td>\n",
       "      <td>0</td>\n",
       "    </tr>\n",
       "    <tr>\n",
       "      <th>97</th>\n",
       "      <td>2022</td>\n",
       "      <td>10</td>\n",
       "      <td>System-wide</td>\n",
       "      <td>Total</td>\n",
       "      <td>158482</td>\n",
       "      <td>96079</td>\n",
       "      <td>69417</td>\n",
       "      <td>175709</td>\n",
       "      <td>113836</td>\n",
       "      <td>85093</td>\n",
       "      <td>110856</td>\n",
       "      <td>126724</td>\n",
       "    </tr>\n",
       "  </tbody>\n",
       "</table>\n",
       "</div>"
      ],
      "text/plain": [
       "     Year  Month      Station   Hour  Avg Weekday Entry  Avg Saturday Entry  \\\n",
       "13   2017      1  System-wide  Total             267143               97016   \n",
       "27   2017      2  System-wide  Total             266278              110189   \n",
       "41   2017      3  System-wide  Total             265085              107578   \n",
       "55   2017      4  System-wide  Total             278387              121897   \n",
       "69   2017      5  System-wide  Total             284092              110589   \n",
       "83   2017      6  System-wide  Total             288213              124223   \n",
       "97   2017      7  System-wide  Total             279219              118351   \n",
       "111  2017      8  System-wide  Total             272890              119619   \n",
       "125  2017      9  System-wide  Total             292579              124152   \n",
       "139  2017     10  System-wide  Total             297006              129132   \n",
       "153  2017     11  System-wide  Total             291429              115540   \n",
       "167  2017     12  System-wide  Total             265353              114860   \n",
       "13   2018      1  System-wide  Total             266394              100394   \n",
       "27   2018      2  System-wide  Total             279687              101733   \n",
       "41   2018      3  System-wide  Total             262113              118685   \n",
       "55   2018      4  System-wide  Total             284022              127002   \n",
       "69   2018      5  System-wide  Total             291747              116301   \n",
       "83   2018      6  System-wide  Total             291025              119847   \n",
       "97   2018      7  System-wide  Total             281680              107167   \n",
       "111  2018      8  System-wide  Total             275405               98027   \n",
       "125  2018      9  System-wide  Total             289029              112241   \n",
       "139  2018     10  System-wide  Total             298732              100915   \n",
       "153  2018     11  System-wide  Total             284817              111519   \n",
       "167  2018     12  System-wide  Total             258210              131000   \n",
       "13   2019      1  System-wide  Total             272332               84332   \n",
       "27   2019      2  System-wide  Total             277793               94429   \n",
       "41   2019      3  System-wide  Total             281513              105390   \n",
       "55   2019      4  System-wide  Total             285912              113327   \n",
       "69   2019      5  System-wide  Total             288348              115551   \n",
       "83   2019      6  System-wide  Total             292062              113275   \n",
       "97   2019      7  System-wide  Total             288157              101049   \n",
       "111  2019      8  System-wide  Total             281487              110713   \n",
       "125  2019      9  System-wide  Total             298519              115921   \n",
       "139  2019     10  System-wide  Total             296976              116128   \n",
       "153  2019     11  System-wide  Total             290089              107375   \n",
       "167  2019     12  System-wide  Total             257948              128538   \n",
       "13   2020      1  System-wide  Total             277230               81649   \n",
       "27   2020      2  System-wide  Total             282356               92489   \n",
       "41   2020      3  System-wide  Total             126273               37938   \n",
       "55   2020      4  System-wide  Total              14597                7743   \n",
       "69   2020      5  System-wide  Total              20445               11737   \n",
       "83   2020      6  System-wide  Total              34368               20951   \n",
       "97   2020      7  System-wide  Total              46962               28745   \n",
       "111  2020      8  System-wide  Total              53837               35123   \n",
       "125  2020      9  System-wide  Total              62651               45346   \n",
       "139  2020     10  System-wide  Total              65839               47620   \n",
       "153  2020     11  System-wide  Total              61753               43393   \n",
       "167  2020     12  System-wide  Total              55353               34840   \n",
       "13   2021      1  System-wide  Total              56857               36228   \n",
       "27   2021      2  System-wide  Total              52601               39547   \n",
       "41   2021      3  System-wide  Total              64331               49566   \n",
       "55   2021      4  System-wide  Total              70157               54552   \n",
       "69   2021      6  System-wide  Total              91756               74411   \n",
       "83   2021      7  System-wide  Total              99229               71557   \n",
       "97   2021      8  System-wide  Total              98423               72157   \n",
       "111  2021      9  System-wide  Total             113495               84379   \n",
       "125  2021     10  System-wide  Total             124705               83665   \n",
       "139  2021     11  System-wide  Total             128093               82553   \n",
       "153  2021     12  System-wide  Total             112665               71272   \n",
       "13   2022      1  System-wide  Total              84185               44991   \n",
       "27   2022      2  System-wide  Total             113120               71450   \n",
       "41   2022      4  System-wide  Total             135338               86917   \n",
       "55   2022      5  System-wide  Total             138920               78221   \n",
       "69   2022      6  System-wide  Total             147774               93478   \n",
       "83   2022      8  System-wide  Total             138243               89309   \n",
       "97   2022     10  System-wide  Total             158482               96079   \n",
       "\n",
       "     Avg Sunday Entry  Avg Weekday Exit  Avg Saturday Exit  Avg Sunday Exit  \\\n",
       "13              78609            266281             100371            83408   \n",
       "27              80354            265735             117990            86114   \n",
       "41              77459            265361             110935            81035   \n",
       "55              93565            289147             129369           101704   \n",
       "69              92974            283717             118595            99031   \n",
       "83              98633            287843             130535           106168   \n",
       "97              94803            299511             126225           102598   \n",
       "111             94767            290198             125277           101212   \n",
       "125             95157            288766             129768           100212   \n",
       "139             89990            296818             136134            96960   \n",
       "153             87081            289482             119875            92391   \n",
       "167             91394            263639             119724            97359   \n",
       "13              70543            264337             104307            73875   \n",
       "27              73608            276698             106536            78242   \n",
       "41              83404            264566             119556            87184   \n",
       "55              85516            282130             133404            89991   \n",
       "69              84873            290427             123333            90628   \n",
       "83              98296            286204             125683           104393   \n",
       "97              79582            275542             115326            85865   \n",
       "111             79258            268140             105236            85146   \n",
       "125             80417            279932             120649            85639   \n",
       "139             78067            294347             109662            85000   \n",
       "153             88761            282747             118745            95965   \n",
       "167             92494            255008             133419            98062   \n",
       "13              62359            268674              91150            68851   \n",
       "27              69546            275925             100149            75824   \n",
       "41              69640            275487             109882            74296   \n",
       "55              79808            284637             116172            86899   \n",
       "69              80168            283490             127069            87323   \n",
       "83              90076            289400             116167            98127   \n",
       "97              79418            285908             106299            83520   \n",
       "111             83350            279056             116518            84849   \n",
       "125             90332            293859             117865            92934   \n",
       "139             77291            297002             121932            83213   \n",
       "153             77076            287597             108074            82157   \n",
       "167             89895            260682             135661            97076   \n",
       "13              67357            276874              85755            75028   \n",
       "27              70473            275671              94873            74404   \n",
       "41              35183            127834              42148            39748   \n",
       "55               6127             19536              11626             9596   \n",
       "69              10045             24516              15316            13414   \n",
       "83              16852             38984              26234            21574   \n",
       "97              22788             51840              34705            28376   \n",
       "111             26094             59574              41546            31731   \n",
       "125             32488             68662              51680            39398   \n",
       "139             33569             71494              54934            40180   \n",
       "153             29099             67991              50586            35670   \n",
       "167             28436             60862              40576            34562   \n",
       "13              25194             62084              42190            30582   \n",
       "27              25936             57450              45328            31330   \n",
       "41              31568             69801              56305            37255   \n",
       "55              34532             75221              61340            40153   \n",
       "69              57129             97306              83011            65927   \n",
       "83              57220            104747              79864            65667   \n",
       "97              49395            104521              80807            56619   \n",
       "111             62892            117458              92656            70763   \n",
       "125             65150            128946              92115            73779   \n",
       "139             64085            133276              91293            72058   \n",
       "153             61394            120100              79358            71111   \n",
       "13              40323             92866              52937            47884   \n",
       "27              50035            122621              80963            59089   \n",
       "41              59104            148034              98764            70526   \n",
       "55              66823            150636              90090            80684   \n",
       "69              72160            159790             108839            88746   \n",
       "83              66541            154317             106874            83188   \n",
       "97              69417            175709             113836            85093   \n",
       "\n",
       "     Avg Holiday Entries  Avg Holiday Exits  \n",
       "13                102441             106405  \n",
       "27                119703             125350  \n",
       "41                     0                  0  \n",
       "55                     0                  0  \n",
       "69                 75002              80021  \n",
       "83                     0                  0  \n",
       "97                108124             118788  \n",
       "111                    0                  0  \n",
       "125               100064             105819  \n",
       "139               215163             219037  \n",
       "153               159001             162038  \n",
       "167                63484              69974  \n",
       "13                 94907              99773  \n",
       "27                114897             121307  \n",
       "41                     0                  0  \n",
       "55                     0                  0  \n",
       "69                 91664              99945  \n",
       "83                     0                  0  \n",
       "97                114378             117546  \n",
       "111                    0                  0  \n",
       "125                85882              92498  \n",
       "139               226097             226623  \n",
       "153               146778             149138  \n",
       "167                69559              76294  \n",
       "13                 87017              93321  \n",
       "27                111488             115679  \n",
       "41                     0                  0  \n",
       "55                     0                  0  \n",
       "69                 89582              99260  \n",
       "83                     0                  0  \n",
       "97                115898             127506  \n",
       "111                    0                  0  \n",
       "125                74505              84746  \n",
       "139               229107             229812  \n",
       "153               152011             155210  \n",
       "167                72636              84942  \n",
       "13                103334             108550  \n",
       "27                119015             125581  \n",
       "41                     0                  0  \n",
       "55                     0                  0  \n",
       "69                 13054              16923  \n",
       "83                     0                  0  \n",
       "97                 32300              37389  \n",
       "111                    0                  0  \n",
       "125                33050              39486  \n",
       "139                46353              50060  \n",
       "153                40379              45715  \n",
       "167                18157              23393  \n",
       "13                 33173              39648  \n",
       "27                 40270              45856  \n",
       "41                     0                  0  \n",
       "55                     0                  0  \n",
       "69                     0                  0  \n",
       "83                 58363              68153  \n",
       "97                     0                  0  \n",
       "111                57880              64531  \n",
       "125                92811              97489  \n",
       "139                86666              93784  \n",
       "153                61310              69781  \n",
       "13                 51961              58631  \n",
       "27                 72568              80420  \n",
       "41                     0                  0  \n",
       "55                 63153              80564  \n",
       "69                 96662             108762  \n",
       "83                     0                  0  \n",
       "97                110856             126724  "
      ]
     },
     "execution_count": 6,
     "metadata": {},
     "output_type": "execute_result"
    }
   ],
   "source": [
    "system_totals = totals[totals.Station == 'System-wide']\n",
    "system_totals"
   ]
  },
  {
   "cell_type": "code",
   "execution_count": 7,
   "id": "fe300c9b",
   "metadata": {},
   "outputs": [],
   "source": [
    "import plotly.express as px"
   ]
  },
  {
   "cell_type": "code",
   "execution_count": 44,
   "id": "2e734539",
   "metadata": {},
   "outputs": [
    {
     "name": "stdout",
     "output_type": "stream",
     "text": [
      "12am, 1am, 2am, 3am, 4am, 5am, 6am, 7am, 8am, 9am, 10am, 11am, 12pm, 1pm, 2pm, 3pm, 4pm, 5pm, 6pm, 7pm, 8pm, 9pm, 10pm, 11pm\n"
     ]
    }
   ],
   "source": [
    "def hr_str(h):\n",
    "    AM, am = ('am', True) if h < 12 else ('pm', False)\n",
    "    if not am:\n",
    "        h -= 12\n",
    "    if not h:\n",
    "        h = 12\n",
    "    return f'{h}{AM}'\n",
    "    \n",
    "ticktext = [ hr_str(h) for h in range(0, 24) ]\n",
    "print(', '.join(ticktext))"
   ]
  },
  {
   "cell_type": "code",
   "execution_count": 52,
   "id": "b9eff8f4",
   "metadata": {},
   "outputs": [],
   "source": [
    "def station_entry_exits(*cols, station=None, start=None, end=None):\n",
    "    if station:\n",
    "        df = hrs[hrs.Station == station]\n",
    "    else:\n",
    "        df = system_wide\n",
    "    ym = df[['Year', 'Month']].apply(lambda r: \"%d-%02d\" % (r.Year, r.Month), axis=1).rename('ym')\n",
    "    df = sxs(ym, df.copy())\n",
    "    if start:\n",
    "        df = df[to_dt(df.ym) >= to_dt(start)]\n",
    "    if end:\n",
    "        df = df[to_dt(df.ym) < to_dt(end)]\n",
    "    cols = list(cols)\n",
    "    df = df[['Hour'] + cols]\n",
    "    df = df.groupby('Hour')[cols].sum()\n",
    "    return df\n",
    "\n",
    "def station_entry_exits_plot(title, *cols, station=None, start=None, end=None):\n",
    "    df = station_entry_exits(station=station, start=start, end=end, *cols)\n",
    "    return px.bar(\n",
    "        df,\n",
    "        labels={ 'variable': '', 'value': '', 'Hour': '', },\n",
    "        barmode='group',\n",
    "    ).update_layout(\n",
    "        xaxis=dict(\n",
    "            tickangle=-60,\n",
    "            tickmode='array',\n",
    "            tickvals=list(range(24)),\n",
    "            ticktext=ticktext,\n",
    "        ),\n",
    "        title=title,\n",
    "        title_x=0.5,\n",
    "        legend={ 'orientation': \"h\", 'x': 0.5, 'xanchor': \"center\", 'yanchor': \"top\", }\n",
    "    )"
   ]
  },
  {
   "cell_type": "code",
   "execution_count": 57,
   "id": "60aa8a17",
   "metadata": {},
   "outputs": [
    {
     "data": {
      "application/vnd.plotly.v1+json": {
       "config": {
        "plotlyServerURL": "https://plot.ly"
       },
       "data": [
        {
         "alignmentgroup": "True",
         "hovertemplate": "=%{y}<extra></extra>",
         "legendgroup": "Avg Weekday Entry",
         "marker": {
          "color": "#636efa",
          "pattern": {
           "shape": ""
          }
         },
         "name": "Avg Weekday Entry",
         "offsetgroup": "Avg Weekday Entry",
         "orientation": "v",
         "showlegend": true,
         "textposition": "auto",
         "type": "bar",
         "x": [
          0,
          1,
          2,
          3,
          4,
          5,
          6,
          7,
          8,
          9,
          10,
          11,
          12,
          13,
          14,
          15,
          16,
          17,
          18,
          19,
          20,
          21,
          22,
          23
         ],
         "xaxis": "x",
         "y": [
          7662,
          3372,
          2085,
          2136,
          4006,
          19194,
          54511,
          126534,
          167313,
          81502,
          42448,
          36831,
          36031,
          39236,
          46741,
          68696,
          109232,
          165465,
          126560,
          72809,
          48389,
          37023,
          28905,
          18681
         ],
         "yaxis": "y"
        },
        {
         "alignmentgroup": "True",
         "hovertemplate": "=%{y}<extra></extra>",
         "legendgroup": "Avg Weekday Exit",
         "marker": {
          "color": "#EF553B",
          "pattern": {
           "shape": ""
          }
         },
         "name": "Avg Weekday Exit",
         "offsetgroup": "Avg Weekday Exit",
         "orientation": "v",
         "showlegend": true,
         "textposition": "auto",
         "type": "bar",
         "x": [
          0,
          1,
          2,
          3,
          4,
          5,
          6,
          7,
          8,
          9,
          10,
          11,
          12,
          13,
          14,
          15,
          16,
          17,
          18,
          19,
          20,
          21,
          22,
          23
         ],
         "xaxis": "x",
         "y": [
          15110,
          7001,
          4331,
          3117,
          5198,
          16278,
          56868,
          109682,
          168672,
          108137,
          50736,
          42055,
          42440,
          43834,
          50945,
          70630,
          104225,
          157064,
          150060,
          90394,
          63217,
          49260,
          39580,
          26172
         ],
         "yaxis": "y"
        }
       ],
       "layout": {
        "barmode": "group",
        "legend": {
         "orientation": "h",
         "title": {
          "text": ""
         },
         "tracegroupgap": 0,
         "x": 0.5,
         "xanchor": "center",
         "yanchor": "top"
        },
        "margin": {
         "t": 60
        },
        "template": {
         "data": {
          "bar": [
           {
            "error_x": {
             "color": "#2a3f5f"
            },
            "error_y": {
             "color": "#2a3f5f"
            },
            "marker": {
             "line": {
              "color": "#E5ECF6",
              "width": 0.5
             },
             "pattern": {
              "fillmode": "overlay",
              "size": 10,
              "solidity": 0.2
             }
            },
            "type": "bar"
           }
          ],
          "barpolar": [
           {
            "marker": {
             "line": {
              "color": "#E5ECF6",
              "width": 0.5
             },
             "pattern": {
              "fillmode": "overlay",
              "size": 10,
              "solidity": 0.2
             }
            },
            "type": "barpolar"
           }
          ],
          "carpet": [
           {
            "aaxis": {
             "endlinecolor": "#2a3f5f",
             "gridcolor": "white",
             "linecolor": "white",
             "minorgridcolor": "white",
             "startlinecolor": "#2a3f5f"
            },
            "baxis": {
             "endlinecolor": "#2a3f5f",
             "gridcolor": "white",
             "linecolor": "white",
             "minorgridcolor": "white",
             "startlinecolor": "#2a3f5f"
            },
            "type": "carpet"
           }
          ],
          "choropleth": [
           {
            "colorbar": {
             "outlinewidth": 0,
             "ticks": ""
            },
            "type": "choropleth"
           }
          ],
          "contour": [
           {
            "colorbar": {
             "outlinewidth": 0,
             "ticks": ""
            },
            "colorscale": [
             [
              0,
              "#0d0887"
             ],
             [
              0.1111111111111111,
              "#46039f"
             ],
             [
              0.2222222222222222,
              "#7201a8"
             ],
             [
              0.3333333333333333,
              "#9c179e"
             ],
             [
              0.4444444444444444,
              "#bd3786"
             ],
             [
              0.5555555555555556,
              "#d8576b"
             ],
             [
              0.6666666666666666,
              "#ed7953"
             ],
             [
              0.7777777777777778,
              "#fb9f3a"
             ],
             [
              0.8888888888888888,
              "#fdca26"
             ],
             [
              1,
              "#f0f921"
             ]
            ],
            "type": "contour"
           }
          ],
          "contourcarpet": [
           {
            "colorbar": {
             "outlinewidth": 0,
             "ticks": ""
            },
            "type": "contourcarpet"
           }
          ],
          "heatmap": [
           {
            "colorbar": {
             "outlinewidth": 0,
             "ticks": ""
            },
            "colorscale": [
             [
              0,
              "#0d0887"
             ],
             [
              0.1111111111111111,
              "#46039f"
             ],
             [
              0.2222222222222222,
              "#7201a8"
             ],
             [
              0.3333333333333333,
              "#9c179e"
             ],
             [
              0.4444444444444444,
              "#bd3786"
             ],
             [
              0.5555555555555556,
              "#d8576b"
             ],
             [
              0.6666666666666666,
              "#ed7953"
             ],
             [
              0.7777777777777778,
              "#fb9f3a"
             ],
             [
              0.8888888888888888,
              "#fdca26"
             ],
             [
              1,
              "#f0f921"
             ]
            ],
            "type": "heatmap"
           }
          ],
          "heatmapgl": [
           {
            "colorbar": {
             "outlinewidth": 0,
             "ticks": ""
            },
            "colorscale": [
             [
              0,
              "#0d0887"
             ],
             [
              0.1111111111111111,
              "#46039f"
             ],
             [
              0.2222222222222222,
              "#7201a8"
             ],
             [
              0.3333333333333333,
              "#9c179e"
             ],
             [
              0.4444444444444444,
              "#bd3786"
             ],
             [
              0.5555555555555556,
              "#d8576b"
             ],
             [
              0.6666666666666666,
              "#ed7953"
             ],
             [
              0.7777777777777778,
              "#fb9f3a"
             ],
             [
              0.8888888888888888,
              "#fdca26"
             ],
             [
              1,
              "#f0f921"
             ]
            ],
            "type": "heatmapgl"
           }
          ],
          "histogram": [
           {
            "marker": {
             "pattern": {
              "fillmode": "overlay",
              "size": 10,
              "solidity": 0.2
             }
            },
            "type": "histogram"
           }
          ],
          "histogram2d": [
           {
            "colorbar": {
             "outlinewidth": 0,
             "ticks": ""
            },
            "colorscale": [
             [
              0,
              "#0d0887"
             ],
             [
              0.1111111111111111,
              "#46039f"
             ],
             [
              0.2222222222222222,
              "#7201a8"
             ],
             [
              0.3333333333333333,
              "#9c179e"
             ],
             [
              0.4444444444444444,
              "#bd3786"
             ],
             [
              0.5555555555555556,
              "#d8576b"
             ],
             [
              0.6666666666666666,
              "#ed7953"
             ],
             [
              0.7777777777777778,
              "#fb9f3a"
             ],
             [
              0.8888888888888888,
              "#fdca26"
             ],
             [
              1,
              "#f0f921"
             ]
            ],
            "type": "histogram2d"
           }
          ],
          "histogram2dcontour": [
           {
            "colorbar": {
             "outlinewidth": 0,
             "ticks": ""
            },
            "colorscale": [
             [
              0,
              "#0d0887"
             ],
             [
              0.1111111111111111,
              "#46039f"
             ],
             [
              0.2222222222222222,
              "#7201a8"
             ],
             [
              0.3333333333333333,
              "#9c179e"
             ],
             [
              0.4444444444444444,
              "#bd3786"
             ],
             [
              0.5555555555555556,
              "#d8576b"
             ],
             [
              0.6666666666666666,
              "#ed7953"
             ],
             [
              0.7777777777777778,
              "#fb9f3a"
             ],
             [
              0.8888888888888888,
              "#fdca26"
             ],
             [
              1,
              "#f0f921"
             ]
            ],
            "type": "histogram2dcontour"
           }
          ],
          "mesh3d": [
           {
            "colorbar": {
             "outlinewidth": 0,
             "ticks": ""
            },
            "type": "mesh3d"
           }
          ],
          "parcoords": [
           {
            "line": {
             "colorbar": {
              "outlinewidth": 0,
              "ticks": ""
             }
            },
            "type": "parcoords"
           }
          ],
          "pie": [
           {
            "automargin": true,
            "type": "pie"
           }
          ],
          "scatter": [
           {
            "fillpattern": {
             "fillmode": "overlay",
             "size": 10,
             "solidity": 0.2
            },
            "type": "scatter"
           }
          ],
          "scatter3d": [
           {
            "line": {
             "colorbar": {
              "outlinewidth": 0,
              "ticks": ""
             }
            },
            "marker": {
             "colorbar": {
              "outlinewidth": 0,
              "ticks": ""
             }
            },
            "type": "scatter3d"
           }
          ],
          "scattercarpet": [
           {
            "marker": {
             "colorbar": {
              "outlinewidth": 0,
              "ticks": ""
             }
            },
            "type": "scattercarpet"
           }
          ],
          "scattergeo": [
           {
            "marker": {
             "colorbar": {
              "outlinewidth": 0,
              "ticks": ""
             }
            },
            "type": "scattergeo"
           }
          ],
          "scattergl": [
           {
            "marker": {
             "colorbar": {
              "outlinewidth": 0,
              "ticks": ""
             }
            },
            "type": "scattergl"
           }
          ],
          "scattermapbox": [
           {
            "marker": {
             "colorbar": {
              "outlinewidth": 0,
              "ticks": ""
             }
            },
            "type": "scattermapbox"
           }
          ],
          "scatterpolar": [
           {
            "marker": {
             "colorbar": {
              "outlinewidth": 0,
              "ticks": ""
             }
            },
            "type": "scatterpolar"
           }
          ],
          "scatterpolargl": [
           {
            "marker": {
             "colorbar": {
              "outlinewidth": 0,
              "ticks": ""
             }
            },
            "type": "scatterpolargl"
           }
          ],
          "scatterternary": [
           {
            "marker": {
             "colorbar": {
              "outlinewidth": 0,
              "ticks": ""
             }
            },
            "type": "scatterternary"
           }
          ],
          "surface": [
           {
            "colorbar": {
             "outlinewidth": 0,
             "ticks": ""
            },
            "colorscale": [
             [
              0,
              "#0d0887"
             ],
             [
              0.1111111111111111,
              "#46039f"
             ],
             [
              0.2222222222222222,
              "#7201a8"
             ],
             [
              0.3333333333333333,
              "#9c179e"
             ],
             [
              0.4444444444444444,
              "#bd3786"
             ],
             [
              0.5555555555555556,
              "#d8576b"
             ],
             [
              0.6666666666666666,
              "#ed7953"
             ],
             [
              0.7777777777777778,
              "#fb9f3a"
             ],
             [
              0.8888888888888888,
              "#fdca26"
             ],
             [
              1,
              "#f0f921"
             ]
            ],
            "type": "surface"
           }
          ],
          "table": [
           {
            "cells": {
             "fill": {
              "color": "#EBF0F8"
             },
             "line": {
              "color": "white"
             }
            },
            "header": {
             "fill": {
              "color": "#C8D4E3"
             },
             "line": {
              "color": "white"
             }
            },
            "type": "table"
           }
          ]
         },
         "layout": {
          "annotationdefaults": {
           "arrowcolor": "#2a3f5f",
           "arrowhead": 0,
           "arrowwidth": 1
          },
          "autotypenumbers": "strict",
          "coloraxis": {
           "colorbar": {
            "outlinewidth": 0,
            "ticks": ""
           }
          },
          "colorscale": {
           "diverging": [
            [
             0,
             "#8e0152"
            ],
            [
             0.1,
             "#c51b7d"
            ],
            [
             0.2,
             "#de77ae"
            ],
            [
             0.3,
             "#f1b6da"
            ],
            [
             0.4,
             "#fde0ef"
            ],
            [
             0.5,
             "#f7f7f7"
            ],
            [
             0.6,
             "#e6f5d0"
            ],
            [
             0.7,
             "#b8e186"
            ],
            [
             0.8,
             "#7fbc41"
            ],
            [
             0.9,
             "#4d9221"
            ],
            [
             1,
             "#276419"
            ]
           ],
           "sequential": [
            [
             0,
             "#0d0887"
            ],
            [
             0.1111111111111111,
             "#46039f"
            ],
            [
             0.2222222222222222,
             "#7201a8"
            ],
            [
             0.3333333333333333,
             "#9c179e"
            ],
            [
             0.4444444444444444,
             "#bd3786"
            ],
            [
             0.5555555555555556,
             "#d8576b"
            ],
            [
             0.6666666666666666,
             "#ed7953"
            ],
            [
             0.7777777777777778,
             "#fb9f3a"
            ],
            [
             0.8888888888888888,
             "#fdca26"
            ],
            [
             1,
             "#f0f921"
            ]
           ],
           "sequentialminus": [
            [
             0,
             "#0d0887"
            ],
            [
             0.1111111111111111,
             "#46039f"
            ],
            [
             0.2222222222222222,
             "#7201a8"
            ],
            [
             0.3333333333333333,
             "#9c179e"
            ],
            [
             0.4444444444444444,
             "#bd3786"
            ],
            [
             0.5555555555555556,
             "#d8576b"
            ],
            [
             0.6666666666666666,
             "#ed7953"
            ],
            [
             0.7777777777777778,
             "#fb9f3a"
            ],
            [
             0.8888888888888888,
             "#fdca26"
            ],
            [
             1,
             "#f0f921"
            ]
           ]
          },
          "colorway": [
           "#636efa",
           "#EF553B",
           "#00cc96",
           "#ab63fa",
           "#FFA15A",
           "#19d3f3",
           "#FF6692",
           "#B6E880",
           "#FF97FF",
           "#FECB52"
          ],
          "font": {
           "color": "#2a3f5f"
          },
          "geo": {
           "bgcolor": "white",
           "lakecolor": "white",
           "landcolor": "#E5ECF6",
           "showlakes": true,
           "showland": true,
           "subunitcolor": "white"
          },
          "hoverlabel": {
           "align": "left"
          },
          "hovermode": "closest",
          "mapbox": {
           "style": "light"
          },
          "paper_bgcolor": "white",
          "plot_bgcolor": "#E5ECF6",
          "polar": {
           "angularaxis": {
            "gridcolor": "white",
            "linecolor": "white",
            "ticks": ""
           },
           "bgcolor": "#E5ECF6",
           "radialaxis": {
            "gridcolor": "white",
            "linecolor": "white",
            "ticks": ""
           }
          },
          "scene": {
           "xaxis": {
            "backgroundcolor": "#E5ECF6",
            "gridcolor": "white",
            "gridwidth": 2,
            "linecolor": "white",
            "showbackground": true,
            "ticks": "",
            "zerolinecolor": "white"
           },
           "yaxis": {
            "backgroundcolor": "#E5ECF6",
            "gridcolor": "white",
            "gridwidth": 2,
            "linecolor": "white",
            "showbackground": true,
            "ticks": "",
            "zerolinecolor": "white"
           },
           "zaxis": {
            "backgroundcolor": "#E5ECF6",
            "gridcolor": "white",
            "gridwidth": 2,
            "linecolor": "white",
            "showbackground": true,
            "ticks": "",
            "zerolinecolor": "white"
           }
          },
          "shapedefaults": {
           "line": {
            "color": "#2a3f5f"
           }
          },
          "ternary": {
           "aaxis": {
            "gridcolor": "white",
            "linecolor": "white",
            "ticks": ""
           },
           "baxis": {
            "gridcolor": "white",
            "linecolor": "white",
            "ticks": ""
           },
           "bgcolor": "#E5ECF6",
           "caxis": {
            "gridcolor": "white",
            "linecolor": "white",
            "ticks": ""
           }
          },
          "title": {
           "x": 0.05
          },
          "xaxis": {
           "automargin": true,
           "gridcolor": "white",
           "linecolor": "white",
           "ticks": "",
           "title": {
            "standoff": 15
           },
           "zerolinecolor": "white",
           "zerolinewidth": 2
          },
          "yaxis": {
           "automargin": true,
           "gridcolor": "white",
           "linecolor": "white",
           "ticks": "",
           "title": {
            "standoff": 15
           },
           "zerolinecolor": "white",
           "zerolinewidth": 2
          }
         }
        },
        "title": {
         "text": "Entrances+Exits by hour (system-wide, 2022)",
         "x": 0.5
        },
        "xaxis": {
         "anchor": "y",
         "domain": [
          0,
          1
         ],
         "tickangle": -60,
         "tickmode": "array",
         "ticktext": [
          "12am",
          "1am",
          "2am",
          "3am",
          "4am",
          "5am",
          "6am",
          "7am",
          "8am",
          "9am",
          "10am",
          "11am",
          "12pm",
          "1pm",
          "2pm",
          "3pm",
          "4pm",
          "5pm",
          "6pm",
          "7pm",
          "8pm",
          "9pm",
          "10pm",
          "11pm"
         ],
         "tickvals": [
          0,
          1,
          2,
          3,
          4,
          5,
          6,
          7,
          8,
          9,
          10,
          11,
          12,
          13,
          14,
          15,
          16,
          17,
          18,
          19,
          20,
          21,
          22,
          23
         ],
         "title": {
          "text": ""
         }
        },
        "yaxis": {
         "anchor": "x",
         "domain": [
          0,
          1
         ],
         "title": {
          "text": ""
         }
        }
       }
      },
      "text/html": [
       "<div>                            <div id=\"9fada0db-368f-497f-bcdb-3006e6b30121\" class=\"plotly-graph-div\" style=\"height:525px; width:100%;\"></div>            <script type=\"text/javascript\">                require([\"plotly\"], function(Plotly) {                    window.PLOTLYENV=window.PLOTLYENV || {};                                    if (document.getElementById(\"9fada0db-368f-497f-bcdb-3006e6b30121\")) {                    Plotly.newPlot(                        \"9fada0db-368f-497f-bcdb-3006e6b30121\",                        [{\"alignmentgroup\":\"True\",\"hovertemplate\":\"=%{y}<extra></extra>\",\"legendgroup\":\"Avg Weekday Entry\",\"marker\":{\"color\":\"#636efa\",\"pattern\":{\"shape\":\"\"}},\"name\":\"Avg Weekday Entry\",\"offsetgroup\":\"Avg Weekday Entry\",\"orientation\":\"v\",\"showlegend\":true,\"textposition\":\"auto\",\"x\":[0,1,2,3,4,5,6,7,8,9,10,11,12,13,14,15,16,17,18,19,20,21,22,23],\"xaxis\":\"x\",\"y\":[7662,3372,2085,2136,4006,19194,54511,126534,167313,81502,42448,36831,36031,39236,46741,68696,109232,165465,126560,72809,48389,37023,28905,18681],\"yaxis\":\"y\",\"type\":\"bar\"},{\"alignmentgroup\":\"True\",\"hovertemplate\":\"=%{y}<extra></extra>\",\"legendgroup\":\"Avg Weekday Exit\",\"marker\":{\"color\":\"#EF553B\",\"pattern\":{\"shape\":\"\"}},\"name\":\"Avg Weekday Exit\",\"offsetgroup\":\"Avg Weekday Exit\",\"orientation\":\"v\",\"showlegend\":true,\"textposition\":\"auto\",\"x\":[0,1,2,3,4,5,6,7,8,9,10,11,12,13,14,15,16,17,18,19,20,21,22,23],\"xaxis\":\"x\",\"y\":[15110,7001,4331,3117,5198,16278,56868,109682,168672,108137,50736,42055,42440,43834,50945,70630,104225,157064,150060,90394,63217,49260,39580,26172],\"yaxis\":\"y\",\"type\":\"bar\"}],                        {\"template\":{\"data\":{\"histogram2dcontour\":[{\"type\":\"histogram2dcontour\",\"colorbar\":{\"outlinewidth\":0,\"ticks\":\"\"},\"colorscale\":[[0.0,\"#0d0887\"],[0.1111111111111111,\"#46039f\"],[0.2222222222222222,\"#7201a8\"],[0.3333333333333333,\"#9c179e\"],[0.4444444444444444,\"#bd3786\"],[0.5555555555555556,\"#d8576b\"],[0.6666666666666666,\"#ed7953\"],[0.7777777777777778,\"#fb9f3a\"],[0.8888888888888888,\"#fdca26\"],[1.0,\"#f0f921\"]]}],\"choropleth\":[{\"type\":\"choropleth\",\"colorbar\":{\"outlinewidth\":0,\"ticks\":\"\"}}],\"histogram2d\":[{\"type\":\"histogram2d\",\"colorbar\":{\"outlinewidth\":0,\"ticks\":\"\"},\"colorscale\":[[0.0,\"#0d0887\"],[0.1111111111111111,\"#46039f\"],[0.2222222222222222,\"#7201a8\"],[0.3333333333333333,\"#9c179e\"],[0.4444444444444444,\"#bd3786\"],[0.5555555555555556,\"#d8576b\"],[0.6666666666666666,\"#ed7953\"],[0.7777777777777778,\"#fb9f3a\"],[0.8888888888888888,\"#fdca26\"],[1.0,\"#f0f921\"]]}],\"heatmap\":[{\"type\":\"heatmap\",\"colorbar\":{\"outlinewidth\":0,\"ticks\":\"\"},\"colorscale\":[[0.0,\"#0d0887\"],[0.1111111111111111,\"#46039f\"],[0.2222222222222222,\"#7201a8\"],[0.3333333333333333,\"#9c179e\"],[0.4444444444444444,\"#bd3786\"],[0.5555555555555556,\"#d8576b\"],[0.6666666666666666,\"#ed7953\"],[0.7777777777777778,\"#fb9f3a\"],[0.8888888888888888,\"#fdca26\"],[1.0,\"#f0f921\"]]}],\"heatmapgl\":[{\"type\":\"heatmapgl\",\"colorbar\":{\"outlinewidth\":0,\"ticks\":\"\"},\"colorscale\":[[0.0,\"#0d0887\"],[0.1111111111111111,\"#46039f\"],[0.2222222222222222,\"#7201a8\"],[0.3333333333333333,\"#9c179e\"],[0.4444444444444444,\"#bd3786\"],[0.5555555555555556,\"#d8576b\"],[0.6666666666666666,\"#ed7953\"],[0.7777777777777778,\"#fb9f3a\"],[0.8888888888888888,\"#fdca26\"],[1.0,\"#f0f921\"]]}],\"contourcarpet\":[{\"type\":\"contourcarpet\",\"colorbar\":{\"outlinewidth\":0,\"ticks\":\"\"}}],\"contour\":[{\"type\":\"contour\",\"colorbar\":{\"outlinewidth\":0,\"ticks\":\"\"},\"colorscale\":[[0.0,\"#0d0887\"],[0.1111111111111111,\"#46039f\"],[0.2222222222222222,\"#7201a8\"],[0.3333333333333333,\"#9c179e\"],[0.4444444444444444,\"#bd3786\"],[0.5555555555555556,\"#d8576b\"],[0.6666666666666666,\"#ed7953\"],[0.7777777777777778,\"#fb9f3a\"],[0.8888888888888888,\"#fdca26\"],[1.0,\"#f0f921\"]]}],\"surface\":[{\"type\":\"surface\",\"colorbar\":{\"outlinewidth\":0,\"ticks\":\"\"},\"colorscale\":[[0.0,\"#0d0887\"],[0.1111111111111111,\"#46039f\"],[0.2222222222222222,\"#7201a8\"],[0.3333333333333333,\"#9c179e\"],[0.4444444444444444,\"#bd3786\"],[0.5555555555555556,\"#d8576b\"],[0.6666666666666666,\"#ed7953\"],[0.7777777777777778,\"#fb9f3a\"],[0.8888888888888888,\"#fdca26\"],[1.0,\"#f0f921\"]]}],\"mesh3d\":[{\"type\":\"mesh3d\",\"colorbar\":{\"outlinewidth\":0,\"ticks\":\"\"}}],\"scatter\":[{\"fillpattern\":{\"fillmode\":\"overlay\",\"size\":10,\"solidity\":0.2},\"type\":\"scatter\"}],\"parcoords\":[{\"type\":\"parcoords\",\"line\":{\"colorbar\":{\"outlinewidth\":0,\"ticks\":\"\"}}}],\"scatterpolargl\":[{\"type\":\"scatterpolargl\",\"marker\":{\"colorbar\":{\"outlinewidth\":0,\"ticks\":\"\"}}}],\"bar\":[{\"error_x\":{\"color\":\"#2a3f5f\"},\"error_y\":{\"color\":\"#2a3f5f\"},\"marker\":{\"line\":{\"color\":\"#E5ECF6\",\"width\":0.5},\"pattern\":{\"fillmode\":\"overlay\",\"size\":10,\"solidity\":0.2}},\"type\":\"bar\"}],\"scattergeo\":[{\"type\":\"scattergeo\",\"marker\":{\"colorbar\":{\"outlinewidth\":0,\"ticks\":\"\"}}}],\"scatterpolar\":[{\"type\":\"scatterpolar\",\"marker\":{\"colorbar\":{\"outlinewidth\":0,\"ticks\":\"\"}}}],\"histogram\":[{\"marker\":{\"pattern\":{\"fillmode\":\"overlay\",\"size\":10,\"solidity\":0.2}},\"type\":\"histogram\"}],\"scattergl\":[{\"type\":\"scattergl\",\"marker\":{\"colorbar\":{\"outlinewidth\":0,\"ticks\":\"\"}}}],\"scatter3d\":[{\"type\":\"scatter3d\",\"line\":{\"colorbar\":{\"outlinewidth\":0,\"ticks\":\"\"}},\"marker\":{\"colorbar\":{\"outlinewidth\":0,\"ticks\":\"\"}}}],\"scattermapbox\":[{\"type\":\"scattermapbox\",\"marker\":{\"colorbar\":{\"outlinewidth\":0,\"ticks\":\"\"}}}],\"scatterternary\":[{\"type\":\"scatterternary\",\"marker\":{\"colorbar\":{\"outlinewidth\":0,\"ticks\":\"\"}}}],\"scattercarpet\":[{\"type\":\"scattercarpet\",\"marker\":{\"colorbar\":{\"outlinewidth\":0,\"ticks\":\"\"}}}],\"carpet\":[{\"aaxis\":{\"endlinecolor\":\"#2a3f5f\",\"gridcolor\":\"white\",\"linecolor\":\"white\",\"minorgridcolor\":\"white\",\"startlinecolor\":\"#2a3f5f\"},\"baxis\":{\"endlinecolor\":\"#2a3f5f\",\"gridcolor\":\"white\",\"linecolor\":\"white\",\"minorgridcolor\":\"white\",\"startlinecolor\":\"#2a3f5f\"},\"type\":\"carpet\"}],\"table\":[{\"cells\":{\"fill\":{\"color\":\"#EBF0F8\"},\"line\":{\"color\":\"white\"}},\"header\":{\"fill\":{\"color\":\"#C8D4E3\"},\"line\":{\"color\":\"white\"}},\"type\":\"table\"}],\"barpolar\":[{\"marker\":{\"line\":{\"color\":\"#E5ECF6\",\"width\":0.5},\"pattern\":{\"fillmode\":\"overlay\",\"size\":10,\"solidity\":0.2}},\"type\":\"barpolar\"}],\"pie\":[{\"automargin\":true,\"type\":\"pie\"}]},\"layout\":{\"autotypenumbers\":\"strict\",\"colorway\":[\"#636efa\",\"#EF553B\",\"#00cc96\",\"#ab63fa\",\"#FFA15A\",\"#19d3f3\",\"#FF6692\",\"#B6E880\",\"#FF97FF\",\"#FECB52\"],\"font\":{\"color\":\"#2a3f5f\"},\"hovermode\":\"closest\",\"hoverlabel\":{\"align\":\"left\"},\"paper_bgcolor\":\"white\",\"plot_bgcolor\":\"#E5ECF6\",\"polar\":{\"bgcolor\":\"#E5ECF6\",\"angularaxis\":{\"gridcolor\":\"white\",\"linecolor\":\"white\",\"ticks\":\"\"},\"radialaxis\":{\"gridcolor\":\"white\",\"linecolor\":\"white\",\"ticks\":\"\"}},\"ternary\":{\"bgcolor\":\"#E5ECF6\",\"aaxis\":{\"gridcolor\":\"white\",\"linecolor\":\"white\",\"ticks\":\"\"},\"baxis\":{\"gridcolor\":\"white\",\"linecolor\":\"white\",\"ticks\":\"\"},\"caxis\":{\"gridcolor\":\"white\",\"linecolor\":\"white\",\"ticks\":\"\"}},\"coloraxis\":{\"colorbar\":{\"outlinewidth\":0,\"ticks\":\"\"}},\"colorscale\":{\"sequential\":[[0.0,\"#0d0887\"],[0.1111111111111111,\"#46039f\"],[0.2222222222222222,\"#7201a8\"],[0.3333333333333333,\"#9c179e\"],[0.4444444444444444,\"#bd3786\"],[0.5555555555555556,\"#d8576b\"],[0.6666666666666666,\"#ed7953\"],[0.7777777777777778,\"#fb9f3a\"],[0.8888888888888888,\"#fdca26\"],[1.0,\"#f0f921\"]],\"sequentialminus\":[[0.0,\"#0d0887\"],[0.1111111111111111,\"#46039f\"],[0.2222222222222222,\"#7201a8\"],[0.3333333333333333,\"#9c179e\"],[0.4444444444444444,\"#bd3786\"],[0.5555555555555556,\"#d8576b\"],[0.6666666666666666,\"#ed7953\"],[0.7777777777777778,\"#fb9f3a\"],[0.8888888888888888,\"#fdca26\"],[1.0,\"#f0f921\"]],\"diverging\":[[0,\"#8e0152\"],[0.1,\"#c51b7d\"],[0.2,\"#de77ae\"],[0.3,\"#f1b6da\"],[0.4,\"#fde0ef\"],[0.5,\"#f7f7f7\"],[0.6,\"#e6f5d0\"],[0.7,\"#b8e186\"],[0.8,\"#7fbc41\"],[0.9,\"#4d9221\"],[1,\"#276419\"]]},\"xaxis\":{\"gridcolor\":\"white\",\"linecolor\":\"white\",\"ticks\":\"\",\"title\":{\"standoff\":15},\"zerolinecolor\":\"white\",\"automargin\":true,\"zerolinewidth\":2},\"yaxis\":{\"gridcolor\":\"white\",\"linecolor\":\"white\",\"ticks\":\"\",\"title\":{\"standoff\":15},\"zerolinecolor\":\"white\",\"automargin\":true,\"zerolinewidth\":2},\"scene\":{\"xaxis\":{\"backgroundcolor\":\"#E5ECF6\",\"gridcolor\":\"white\",\"linecolor\":\"white\",\"showbackground\":true,\"ticks\":\"\",\"zerolinecolor\":\"white\",\"gridwidth\":2},\"yaxis\":{\"backgroundcolor\":\"#E5ECF6\",\"gridcolor\":\"white\",\"linecolor\":\"white\",\"showbackground\":true,\"ticks\":\"\",\"zerolinecolor\":\"white\",\"gridwidth\":2},\"zaxis\":{\"backgroundcolor\":\"#E5ECF6\",\"gridcolor\":\"white\",\"linecolor\":\"white\",\"showbackground\":true,\"ticks\":\"\",\"zerolinecolor\":\"white\",\"gridwidth\":2}},\"shapedefaults\":{\"line\":{\"color\":\"#2a3f5f\"}},\"annotationdefaults\":{\"arrowcolor\":\"#2a3f5f\",\"arrowhead\":0,\"arrowwidth\":1},\"geo\":{\"bgcolor\":\"white\",\"landcolor\":\"#E5ECF6\",\"subunitcolor\":\"white\",\"showland\":true,\"showlakes\":true,\"lakecolor\":\"white\"},\"title\":{\"x\":0.05},\"mapbox\":{\"style\":\"light\"}}},\"xaxis\":{\"anchor\":\"y\",\"domain\":[0.0,1.0],\"title\":{\"text\":\"\"},\"tickangle\":-60,\"tickmode\":\"array\",\"tickvals\":[0,1,2,3,4,5,6,7,8,9,10,11,12,13,14,15,16,17,18,19,20,21,22,23],\"ticktext\":[\"12am\",\"1am\",\"2am\",\"3am\",\"4am\",\"5am\",\"6am\",\"7am\",\"8am\",\"9am\",\"10am\",\"11am\",\"12pm\",\"1pm\",\"2pm\",\"3pm\",\"4pm\",\"5pm\",\"6pm\",\"7pm\",\"8pm\",\"9pm\",\"10pm\",\"11pm\"]},\"yaxis\":{\"anchor\":\"x\",\"domain\":[0.0,1.0],\"title\":{\"text\":\"\"}},\"legend\":{\"title\":{\"text\":\"\"},\"tracegroupgap\":0,\"orientation\":\"h\",\"x\":0.5,\"xanchor\":\"center\",\"yanchor\":\"top\"},\"margin\":{\"t\":60},\"barmode\":\"group\",\"title\":{\"text\":\"Entrances+Exits by hour (system-wide, 2022)\",\"x\":0.5}},                        {\"responsive\": true}                    ).then(function(){\n",
       "                            \n",
       "var gd = document.getElementById('9fada0db-368f-497f-bcdb-3006e6b30121');\n",
       "var x = new MutationObserver(function (mutations, observer) {{\n",
       "        var display = window.getComputedStyle(gd).display;\n",
       "        if (!display || display === 'none') {{\n",
       "            console.log([gd, 'removed!']);\n",
       "            Plotly.purge(gd);\n",
       "            observer.disconnect();\n",
       "        }}\n",
       "}});\n",
       "\n",
       "// Listen for the removal of the full notebook cells\n",
       "var notebookContainer = gd.closest('#notebook-container');\n",
       "if (notebookContainer) {{\n",
       "    x.observe(notebookContainer, {childList: true});\n",
       "}}\n",
       "\n",
       "// Listen for the clearing of the current output cell\n",
       "var outputEl = gd.closest('.output');\n",
       "if (outputEl) {{\n",
       "    x.observe(outputEl, {childList: true});\n",
       "}}\n",
       "\n",
       "                        })                };                });            </script>        </div>"
      ]
     },
     "metadata": {},
     "output_type": "display_data"
    }
   ],
   "source": [
    "station_entry_exits_plot(\n",
    "    'Entrances+Exits by hour (system-wide, 2022)',\n",
    "    'Avg Weekday Entry', 'Avg Weekday Exit',\n",
    "    start='2022',\n",
    ")"
   ]
  },
  {
   "cell_type": "code",
   "execution_count": 58,
   "id": "10cf6adf",
   "metadata": {},
   "outputs": [
    {
     "data": {
      "application/vnd.plotly.v1+json": {
       "config": {
        "plotlyServerURL": "https://plot.ly"
       },
       "data": [
        {
         "alignmentgroup": "True",
         "hovertemplate": "=%{y}<extra></extra>",
         "legendgroup": "Avg Weekday Entry",
         "marker": {
          "color": "#636efa",
          "pattern": {
           "shape": ""
          }
         },
         "name": "Avg Weekday Entry",
         "offsetgroup": "Avg Weekday Entry",
         "orientation": "v",
         "showlegend": true,
         "textposition": "auto",
         "type": "bar",
         "x": [
          0,
          1,
          2,
          3,
          4,
          5,
          6,
          7,
          8,
          9,
          10,
          11,
          12,
          13,
          14,
          15,
          16,
          17,
          18,
          19,
          20,
          21,
          22,
          23
         ],
         "xaxis": "x",
         "y": [
          244,
          103,
          58,
          64,
          186,
          1211,
          5500,
          15614,
          25992,
          12970,
          5974,
          4642,
          3924,
          3759,
          3520,
          3936,
          5127,
          7768,
          6899,
          3748,
          2153,
          1631,
          1311,
          767
         ],
         "yaxis": "y"
        },
        {
         "alignmentgroup": "True",
         "hovertemplate": "=%{y}<extra></extra>",
         "legendgroup": "Avg Weekday Exit",
         "marker": {
          "color": "#EF553B",
          "pattern": {
           "shape": ""
          }
         },
         "name": "Avg Weekday Exit",
         "offsetgroup": "Avg Weekday Exit",
         "orientation": "v",
         "showlegend": true,
         "textposition": "auto",
         "type": "bar",
         "x": [
          0,
          1,
          2,
          3,
          4,
          5,
          6,
          7,
          8,
          9,
          10,
          11,
          12,
          13,
          14,
          15,
          16,
          17,
          18,
          19,
          20,
          21,
          22,
          23
         ],
         "xaxis": "x",
         "y": [
          2060,
          915,
          369,
          253,
          192,
          384,
          1953,
          3526,
          3990,
          2882,
          2222,
          2503,
          2938,
          3539,
          4472,
          6871,
          10417,
          18223,
          20933,
          13311,
          9565,
          7828,
          5734,
          3809
         ],
         "yaxis": "y"
        }
       ],
       "layout": {
        "barmode": "group",
        "legend": {
         "orientation": "h",
         "title": {
          "text": ""
         },
         "tracegroupgap": 0,
         "x": 0.5,
         "xanchor": "center",
         "yanchor": "top"
        },
        "margin": {
         "t": 60
        },
        "template": {
         "data": {
          "bar": [
           {
            "error_x": {
             "color": "#2a3f5f"
            },
            "error_y": {
             "color": "#2a3f5f"
            },
            "marker": {
             "line": {
              "color": "#E5ECF6",
              "width": 0.5
             },
             "pattern": {
              "fillmode": "overlay",
              "size": 10,
              "solidity": 0.2
             }
            },
            "type": "bar"
           }
          ],
          "barpolar": [
           {
            "marker": {
             "line": {
              "color": "#E5ECF6",
              "width": 0.5
             },
             "pattern": {
              "fillmode": "overlay",
              "size": 10,
              "solidity": 0.2
             }
            },
            "type": "barpolar"
           }
          ],
          "carpet": [
           {
            "aaxis": {
             "endlinecolor": "#2a3f5f",
             "gridcolor": "white",
             "linecolor": "white",
             "minorgridcolor": "white",
             "startlinecolor": "#2a3f5f"
            },
            "baxis": {
             "endlinecolor": "#2a3f5f",
             "gridcolor": "white",
             "linecolor": "white",
             "minorgridcolor": "white",
             "startlinecolor": "#2a3f5f"
            },
            "type": "carpet"
           }
          ],
          "choropleth": [
           {
            "colorbar": {
             "outlinewidth": 0,
             "ticks": ""
            },
            "type": "choropleth"
           }
          ],
          "contour": [
           {
            "colorbar": {
             "outlinewidth": 0,
             "ticks": ""
            },
            "colorscale": [
             [
              0,
              "#0d0887"
             ],
             [
              0.1111111111111111,
              "#46039f"
             ],
             [
              0.2222222222222222,
              "#7201a8"
             ],
             [
              0.3333333333333333,
              "#9c179e"
             ],
             [
              0.4444444444444444,
              "#bd3786"
             ],
             [
              0.5555555555555556,
              "#d8576b"
             ],
             [
              0.6666666666666666,
              "#ed7953"
             ],
             [
              0.7777777777777778,
              "#fb9f3a"
             ],
             [
              0.8888888888888888,
              "#fdca26"
             ],
             [
              1,
              "#f0f921"
             ]
            ],
            "type": "contour"
           }
          ],
          "contourcarpet": [
           {
            "colorbar": {
             "outlinewidth": 0,
             "ticks": ""
            },
            "type": "contourcarpet"
           }
          ],
          "heatmap": [
           {
            "colorbar": {
             "outlinewidth": 0,
             "ticks": ""
            },
            "colorscale": [
             [
              0,
              "#0d0887"
             ],
             [
              0.1111111111111111,
              "#46039f"
             ],
             [
              0.2222222222222222,
              "#7201a8"
             ],
             [
              0.3333333333333333,
              "#9c179e"
             ],
             [
              0.4444444444444444,
              "#bd3786"
             ],
             [
              0.5555555555555556,
              "#d8576b"
             ],
             [
              0.6666666666666666,
              "#ed7953"
             ],
             [
              0.7777777777777778,
              "#fb9f3a"
             ],
             [
              0.8888888888888888,
              "#fdca26"
             ],
             [
              1,
              "#f0f921"
             ]
            ],
            "type": "heatmap"
           }
          ],
          "heatmapgl": [
           {
            "colorbar": {
             "outlinewidth": 0,
             "ticks": ""
            },
            "colorscale": [
             [
              0,
              "#0d0887"
             ],
             [
              0.1111111111111111,
              "#46039f"
             ],
             [
              0.2222222222222222,
              "#7201a8"
             ],
             [
              0.3333333333333333,
              "#9c179e"
             ],
             [
              0.4444444444444444,
              "#bd3786"
             ],
             [
              0.5555555555555556,
              "#d8576b"
             ],
             [
              0.6666666666666666,
              "#ed7953"
             ],
             [
              0.7777777777777778,
              "#fb9f3a"
             ],
             [
              0.8888888888888888,
              "#fdca26"
             ],
             [
              1,
              "#f0f921"
             ]
            ],
            "type": "heatmapgl"
           }
          ],
          "histogram": [
           {
            "marker": {
             "pattern": {
              "fillmode": "overlay",
              "size": 10,
              "solidity": 0.2
             }
            },
            "type": "histogram"
           }
          ],
          "histogram2d": [
           {
            "colorbar": {
             "outlinewidth": 0,
             "ticks": ""
            },
            "colorscale": [
             [
              0,
              "#0d0887"
             ],
             [
              0.1111111111111111,
              "#46039f"
             ],
             [
              0.2222222222222222,
              "#7201a8"
             ],
             [
              0.3333333333333333,
              "#9c179e"
             ],
             [
              0.4444444444444444,
              "#bd3786"
             ],
             [
              0.5555555555555556,
              "#d8576b"
             ],
             [
              0.6666666666666666,
              "#ed7953"
             ],
             [
              0.7777777777777778,
              "#fb9f3a"
             ],
             [
              0.8888888888888888,
              "#fdca26"
             ],
             [
              1,
              "#f0f921"
             ]
            ],
            "type": "histogram2d"
           }
          ],
          "histogram2dcontour": [
           {
            "colorbar": {
             "outlinewidth": 0,
             "ticks": ""
            },
            "colorscale": [
             [
              0,
              "#0d0887"
             ],
             [
              0.1111111111111111,
              "#46039f"
             ],
             [
              0.2222222222222222,
              "#7201a8"
             ],
             [
              0.3333333333333333,
              "#9c179e"
             ],
             [
              0.4444444444444444,
              "#bd3786"
             ],
             [
              0.5555555555555556,
              "#d8576b"
             ],
             [
              0.6666666666666666,
              "#ed7953"
             ],
             [
              0.7777777777777778,
              "#fb9f3a"
             ],
             [
              0.8888888888888888,
              "#fdca26"
             ],
             [
              1,
              "#f0f921"
             ]
            ],
            "type": "histogram2dcontour"
           }
          ],
          "mesh3d": [
           {
            "colorbar": {
             "outlinewidth": 0,
             "ticks": ""
            },
            "type": "mesh3d"
           }
          ],
          "parcoords": [
           {
            "line": {
             "colorbar": {
              "outlinewidth": 0,
              "ticks": ""
             }
            },
            "type": "parcoords"
           }
          ],
          "pie": [
           {
            "automargin": true,
            "type": "pie"
           }
          ],
          "scatter": [
           {
            "fillpattern": {
             "fillmode": "overlay",
             "size": 10,
             "solidity": 0.2
            },
            "type": "scatter"
           }
          ],
          "scatter3d": [
           {
            "line": {
             "colorbar": {
              "outlinewidth": 0,
              "ticks": ""
             }
            },
            "marker": {
             "colorbar": {
              "outlinewidth": 0,
              "ticks": ""
             }
            },
            "type": "scatter3d"
           }
          ],
          "scattercarpet": [
           {
            "marker": {
             "colorbar": {
              "outlinewidth": 0,
              "ticks": ""
             }
            },
            "type": "scattercarpet"
           }
          ],
          "scattergeo": [
           {
            "marker": {
             "colorbar": {
              "outlinewidth": 0,
              "ticks": ""
             }
            },
            "type": "scattergeo"
           }
          ],
          "scattergl": [
           {
            "marker": {
             "colorbar": {
              "outlinewidth": 0,
              "ticks": ""
             }
            },
            "type": "scattergl"
           }
          ],
          "scattermapbox": [
           {
            "marker": {
             "colorbar": {
              "outlinewidth": 0,
              "ticks": ""
             }
            },
            "type": "scattermapbox"
           }
          ],
          "scatterpolar": [
           {
            "marker": {
             "colorbar": {
              "outlinewidth": 0,
              "ticks": ""
             }
            },
            "type": "scatterpolar"
           }
          ],
          "scatterpolargl": [
           {
            "marker": {
             "colorbar": {
              "outlinewidth": 0,
              "ticks": ""
             }
            },
            "type": "scatterpolargl"
           }
          ],
          "scatterternary": [
           {
            "marker": {
             "colorbar": {
              "outlinewidth": 0,
              "ticks": ""
             }
            },
            "type": "scatterternary"
           }
          ],
          "surface": [
           {
            "colorbar": {
             "outlinewidth": 0,
             "ticks": ""
            },
            "colorscale": [
             [
              0,
              "#0d0887"
             ],
             [
              0.1111111111111111,
              "#46039f"
             ],
             [
              0.2222222222222222,
              "#7201a8"
             ],
             [
              0.3333333333333333,
              "#9c179e"
             ],
             [
              0.4444444444444444,
              "#bd3786"
             ],
             [
              0.5555555555555556,
              "#d8576b"
             ],
             [
              0.6666666666666666,
              "#ed7953"
             ],
             [
              0.7777777777777778,
              "#fb9f3a"
             ],
             [
              0.8888888888888888,
              "#fdca26"
             ],
             [
              1,
              "#f0f921"
             ]
            ],
            "type": "surface"
           }
          ],
          "table": [
           {
            "cells": {
             "fill": {
              "color": "#EBF0F8"
             },
             "line": {
              "color": "white"
             }
            },
            "header": {
             "fill": {
              "color": "#C8D4E3"
             },
             "line": {
              "color": "white"
             }
            },
            "type": "table"
           }
          ]
         },
         "layout": {
          "annotationdefaults": {
           "arrowcolor": "#2a3f5f",
           "arrowhead": 0,
           "arrowwidth": 1
          },
          "autotypenumbers": "strict",
          "coloraxis": {
           "colorbar": {
            "outlinewidth": 0,
            "ticks": ""
           }
          },
          "colorscale": {
           "diverging": [
            [
             0,
             "#8e0152"
            ],
            [
             0.1,
             "#c51b7d"
            ],
            [
             0.2,
             "#de77ae"
            ],
            [
             0.3,
             "#f1b6da"
            ],
            [
             0.4,
             "#fde0ef"
            ],
            [
             0.5,
             "#f7f7f7"
            ],
            [
             0.6,
             "#e6f5d0"
            ],
            [
             0.7,
             "#b8e186"
            ],
            [
             0.8,
             "#7fbc41"
            ],
            [
             0.9,
             "#4d9221"
            ],
            [
             1,
             "#276419"
            ]
           ],
           "sequential": [
            [
             0,
             "#0d0887"
            ],
            [
             0.1111111111111111,
             "#46039f"
            ],
            [
             0.2222222222222222,
             "#7201a8"
            ],
            [
             0.3333333333333333,
             "#9c179e"
            ],
            [
             0.4444444444444444,
             "#bd3786"
            ],
            [
             0.5555555555555556,
             "#d8576b"
            ],
            [
             0.6666666666666666,
             "#ed7953"
            ],
            [
             0.7777777777777778,
             "#fb9f3a"
            ],
            [
             0.8888888888888888,
             "#fdca26"
            ],
            [
             1,
             "#f0f921"
            ]
           ],
           "sequentialminus": [
            [
             0,
             "#0d0887"
            ],
            [
             0.1111111111111111,
             "#46039f"
            ],
            [
             0.2222222222222222,
             "#7201a8"
            ],
            [
             0.3333333333333333,
             "#9c179e"
            ],
            [
             0.4444444444444444,
             "#bd3786"
            ],
            [
             0.5555555555555556,
             "#d8576b"
            ],
            [
             0.6666666666666666,
             "#ed7953"
            ],
            [
             0.7777777777777778,
             "#fb9f3a"
            ],
            [
             0.8888888888888888,
             "#fdca26"
            ],
            [
             1,
             "#f0f921"
            ]
           ]
          },
          "colorway": [
           "#636efa",
           "#EF553B",
           "#00cc96",
           "#ab63fa",
           "#FFA15A",
           "#19d3f3",
           "#FF6692",
           "#B6E880",
           "#FF97FF",
           "#FECB52"
          ],
          "font": {
           "color": "#2a3f5f"
          },
          "geo": {
           "bgcolor": "white",
           "lakecolor": "white",
           "landcolor": "#E5ECF6",
           "showlakes": true,
           "showland": true,
           "subunitcolor": "white"
          },
          "hoverlabel": {
           "align": "left"
          },
          "hovermode": "closest",
          "mapbox": {
           "style": "light"
          },
          "paper_bgcolor": "white",
          "plot_bgcolor": "#E5ECF6",
          "polar": {
           "angularaxis": {
            "gridcolor": "white",
            "linecolor": "white",
            "ticks": ""
           },
           "bgcolor": "#E5ECF6",
           "radialaxis": {
            "gridcolor": "white",
            "linecolor": "white",
            "ticks": ""
           }
          },
          "scene": {
           "xaxis": {
            "backgroundcolor": "#E5ECF6",
            "gridcolor": "white",
            "gridwidth": 2,
            "linecolor": "white",
            "showbackground": true,
            "ticks": "",
            "zerolinecolor": "white"
           },
           "yaxis": {
            "backgroundcolor": "#E5ECF6",
            "gridcolor": "white",
            "gridwidth": 2,
            "linecolor": "white",
            "showbackground": true,
            "ticks": "",
            "zerolinecolor": "white"
           },
           "zaxis": {
            "backgroundcolor": "#E5ECF6",
            "gridcolor": "white",
            "gridwidth": 2,
            "linecolor": "white",
            "showbackground": true,
            "ticks": "",
            "zerolinecolor": "white"
           }
          },
          "shapedefaults": {
           "line": {
            "color": "#2a3f5f"
           }
          },
          "ternary": {
           "aaxis": {
            "gridcolor": "white",
            "linecolor": "white",
            "ticks": ""
           },
           "baxis": {
            "gridcolor": "white",
            "linecolor": "white",
            "ticks": ""
           },
           "bgcolor": "#E5ECF6",
           "caxis": {
            "gridcolor": "white",
            "linecolor": "white",
            "ticks": ""
           }
          },
          "title": {
           "x": 0.05
          },
          "xaxis": {
           "automargin": true,
           "gridcolor": "white",
           "linecolor": "white",
           "ticks": "",
           "title": {
            "standoff": 15
           },
           "zerolinecolor": "white",
           "zerolinewidth": 2
          },
          "yaxis": {
           "automargin": true,
           "gridcolor": "white",
           "linecolor": "white",
           "ticks": "",
           "title": {
            "standoff": 15
           },
           "zerolinecolor": "white",
           "zerolinewidth": 2
          }
         }
        },
        "title": {
         "text": "Entrances+Exits by hour (Grove St., 2022)",
         "x": 0.5
        },
        "xaxis": {
         "anchor": "y",
         "domain": [
          0,
          1
         ],
         "tickangle": -60,
         "tickmode": "array",
         "ticktext": [
          "12am",
          "1am",
          "2am",
          "3am",
          "4am",
          "5am",
          "6am",
          "7am",
          "8am",
          "9am",
          "10am",
          "11am",
          "12pm",
          "1pm",
          "2pm",
          "3pm",
          "4pm",
          "5pm",
          "6pm",
          "7pm",
          "8pm",
          "9pm",
          "10pm",
          "11pm"
         ],
         "tickvals": [
          0,
          1,
          2,
          3,
          4,
          5,
          6,
          7,
          8,
          9,
          10,
          11,
          12,
          13,
          14,
          15,
          16,
          17,
          18,
          19,
          20,
          21,
          22,
          23
         ],
         "title": {
          "text": ""
         }
        },
        "yaxis": {
         "anchor": "x",
         "domain": [
          0,
          1
         ],
         "title": {
          "text": ""
         }
        }
       }
      },
      "text/html": [
       "<div>                            <div id=\"5fc617fb-c10b-468a-94db-0fbcc41f53af\" class=\"plotly-graph-div\" style=\"height:525px; width:100%;\"></div>            <script type=\"text/javascript\">                require([\"plotly\"], function(Plotly) {                    window.PLOTLYENV=window.PLOTLYENV || {};                                    if (document.getElementById(\"5fc617fb-c10b-468a-94db-0fbcc41f53af\")) {                    Plotly.newPlot(                        \"5fc617fb-c10b-468a-94db-0fbcc41f53af\",                        [{\"alignmentgroup\":\"True\",\"hovertemplate\":\"=%{y}<extra></extra>\",\"legendgroup\":\"Avg Weekday Entry\",\"marker\":{\"color\":\"#636efa\",\"pattern\":{\"shape\":\"\"}},\"name\":\"Avg Weekday Entry\",\"offsetgroup\":\"Avg Weekday Entry\",\"orientation\":\"v\",\"showlegend\":true,\"textposition\":\"auto\",\"x\":[0,1,2,3,4,5,6,7,8,9,10,11,12,13,14,15,16,17,18,19,20,21,22,23],\"xaxis\":\"x\",\"y\":[244,103,58,64,186,1211,5500,15614,25992,12970,5974,4642,3924,3759,3520,3936,5127,7768,6899,3748,2153,1631,1311,767],\"yaxis\":\"y\",\"type\":\"bar\"},{\"alignmentgroup\":\"True\",\"hovertemplate\":\"=%{y}<extra></extra>\",\"legendgroup\":\"Avg Weekday Exit\",\"marker\":{\"color\":\"#EF553B\",\"pattern\":{\"shape\":\"\"}},\"name\":\"Avg Weekday Exit\",\"offsetgroup\":\"Avg Weekday Exit\",\"orientation\":\"v\",\"showlegend\":true,\"textposition\":\"auto\",\"x\":[0,1,2,3,4,5,6,7,8,9,10,11,12,13,14,15,16,17,18,19,20,21,22,23],\"xaxis\":\"x\",\"y\":[2060,915,369,253,192,384,1953,3526,3990,2882,2222,2503,2938,3539,4472,6871,10417,18223,20933,13311,9565,7828,5734,3809],\"yaxis\":\"y\",\"type\":\"bar\"}],                        {\"template\":{\"data\":{\"histogram2dcontour\":[{\"type\":\"histogram2dcontour\",\"colorbar\":{\"outlinewidth\":0,\"ticks\":\"\"},\"colorscale\":[[0.0,\"#0d0887\"],[0.1111111111111111,\"#46039f\"],[0.2222222222222222,\"#7201a8\"],[0.3333333333333333,\"#9c179e\"],[0.4444444444444444,\"#bd3786\"],[0.5555555555555556,\"#d8576b\"],[0.6666666666666666,\"#ed7953\"],[0.7777777777777778,\"#fb9f3a\"],[0.8888888888888888,\"#fdca26\"],[1.0,\"#f0f921\"]]}],\"choropleth\":[{\"type\":\"choropleth\",\"colorbar\":{\"outlinewidth\":0,\"ticks\":\"\"}}],\"histogram2d\":[{\"type\":\"histogram2d\",\"colorbar\":{\"outlinewidth\":0,\"ticks\":\"\"},\"colorscale\":[[0.0,\"#0d0887\"],[0.1111111111111111,\"#46039f\"],[0.2222222222222222,\"#7201a8\"],[0.3333333333333333,\"#9c179e\"],[0.4444444444444444,\"#bd3786\"],[0.5555555555555556,\"#d8576b\"],[0.6666666666666666,\"#ed7953\"],[0.7777777777777778,\"#fb9f3a\"],[0.8888888888888888,\"#fdca26\"],[1.0,\"#f0f921\"]]}],\"heatmap\":[{\"type\":\"heatmap\",\"colorbar\":{\"outlinewidth\":0,\"ticks\":\"\"},\"colorscale\":[[0.0,\"#0d0887\"],[0.1111111111111111,\"#46039f\"],[0.2222222222222222,\"#7201a8\"],[0.3333333333333333,\"#9c179e\"],[0.4444444444444444,\"#bd3786\"],[0.5555555555555556,\"#d8576b\"],[0.6666666666666666,\"#ed7953\"],[0.7777777777777778,\"#fb9f3a\"],[0.8888888888888888,\"#fdca26\"],[1.0,\"#f0f921\"]]}],\"heatmapgl\":[{\"type\":\"heatmapgl\",\"colorbar\":{\"outlinewidth\":0,\"ticks\":\"\"},\"colorscale\":[[0.0,\"#0d0887\"],[0.1111111111111111,\"#46039f\"],[0.2222222222222222,\"#7201a8\"],[0.3333333333333333,\"#9c179e\"],[0.4444444444444444,\"#bd3786\"],[0.5555555555555556,\"#d8576b\"],[0.6666666666666666,\"#ed7953\"],[0.7777777777777778,\"#fb9f3a\"],[0.8888888888888888,\"#fdca26\"],[1.0,\"#f0f921\"]]}],\"contourcarpet\":[{\"type\":\"contourcarpet\",\"colorbar\":{\"outlinewidth\":0,\"ticks\":\"\"}}],\"contour\":[{\"type\":\"contour\",\"colorbar\":{\"outlinewidth\":0,\"ticks\":\"\"},\"colorscale\":[[0.0,\"#0d0887\"],[0.1111111111111111,\"#46039f\"],[0.2222222222222222,\"#7201a8\"],[0.3333333333333333,\"#9c179e\"],[0.4444444444444444,\"#bd3786\"],[0.5555555555555556,\"#d8576b\"],[0.6666666666666666,\"#ed7953\"],[0.7777777777777778,\"#fb9f3a\"],[0.8888888888888888,\"#fdca26\"],[1.0,\"#f0f921\"]]}],\"surface\":[{\"type\":\"surface\",\"colorbar\":{\"outlinewidth\":0,\"ticks\":\"\"},\"colorscale\":[[0.0,\"#0d0887\"],[0.1111111111111111,\"#46039f\"],[0.2222222222222222,\"#7201a8\"],[0.3333333333333333,\"#9c179e\"],[0.4444444444444444,\"#bd3786\"],[0.5555555555555556,\"#d8576b\"],[0.6666666666666666,\"#ed7953\"],[0.7777777777777778,\"#fb9f3a\"],[0.8888888888888888,\"#fdca26\"],[1.0,\"#f0f921\"]]}],\"mesh3d\":[{\"type\":\"mesh3d\",\"colorbar\":{\"outlinewidth\":0,\"ticks\":\"\"}}],\"scatter\":[{\"fillpattern\":{\"fillmode\":\"overlay\",\"size\":10,\"solidity\":0.2},\"type\":\"scatter\"}],\"parcoords\":[{\"type\":\"parcoords\",\"line\":{\"colorbar\":{\"outlinewidth\":0,\"ticks\":\"\"}}}],\"scatterpolargl\":[{\"type\":\"scatterpolargl\",\"marker\":{\"colorbar\":{\"outlinewidth\":0,\"ticks\":\"\"}}}],\"bar\":[{\"error_x\":{\"color\":\"#2a3f5f\"},\"error_y\":{\"color\":\"#2a3f5f\"},\"marker\":{\"line\":{\"color\":\"#E5ECF6\",\"width\":0.5},\"pattern\":{\"fillmode\":\"overlay\",\"size\":10,\"solidity\":0.2}},\"type\":\"bar\"}],\"scattergeo\":[{\"type\":\"scattergeo\",\"marker\":{\"colorbar\":{\"outlinewidth\":0,\"ticks\":\"\"}}}],\"scatterpolar\":[{\"type\":\"scatterpolar\",\"marker\":{\"colorbar\":{\"outlinewidth\":0,\"ticks\":\"\"}}}],\"histogram\":[{\"marker\":{\"pattern\":{\"fillmode\":\"overlay\",\"size\":10,\"solidity\":0.2}},\"type\":\"histogram\"}],\"scattergl\":[{\"type\":\"scattergl\",\"marker\":{\"colorbar\":{\"outlinewidth\":0,\"ticks\":\"\"}}}],\"scatter3d\":[{\"type\":\"scatter3d\",\"line\":{\"colorbar\":{\"outlinewidth\":0,\"ticks\":\"\"}},\"marker\":{\"colorbar\":{\"outlinewidth\":0,\"ticks\":\"\"}}}],\"scattermapbox\":[{\"type\":\"scattermapbox\",\"marker\":{\"colorbar\":{\"outlinewidth\":0,\"ticks\":\"\"}}}],\"scatterternary\":[{\"type\":\"scatterternary\",\"marker\":{\"colorbar\":{\"outlinewidth\":0,\"ticks\":\"\"}}}],\"scattercarpet\":[{\"type\":\"scattercarpet\",\"marker\":{\"colorbar\":{\"outlinewidth\":0,\"ticks\":\"\"}}}],\"carpet\":[{\"aaxis\":{\"endlinecolor\":\"#2a3f5f\",\"gridcolor\":\"white\",\"linecolor\":\"white\",\"minorgridcolor\":\"white\",\"startlinecolor\":\"#2a3f5f\"},\"baxis\":{\"endlinecolor\":\"#2a3f5f\",\"gridcolor\":\"white\",\"linecolor\":\"white\",\"minorgridcolor\":\"white\",\"startlinecolor\":\"#2a3f5f\"},\"type\":\"carpet\"}],\"table\":[{\"cells\":{\"fill\":{\"color\":\"#EBF0F8\"},\"line\":{\"color\":\"white\"}},\"header\":{\"fill\":{\"color\":\"#C8D4E3\"},\"line\":{\"color\":\"white\"}},\"type\":\"table\"}],\"barpolar\":[{\"marker\":{\"line\":{\"color\":\"#E5ECF6\",\"width\":0.5},\"pattern\":{\"fillmode\":\"overlay\",\"size\":10,\"solidity\":0.2}},\"type\":\"barpolar\"}],\"pie\":[{\"automargin\":true,\"type\":\"pie\"}]},\"layout\":{\"autotypenumbers\":\"strict\",\"colorway\":[\"#636efa\",\"#EF553B\",\"#00cc96\",\"#ab63fa\",\"#FFA15A\",\"#19d3f3\",\"#FF6692\",\"#B6E880\",\"#FF97FF\",\"#FECB52\"],\"font\":{\"color\":\"#2a3f5f\"},\"hovermode\":\"closest\",\"hoverlabel\":{\"align\":\"left\"},\"paper_bgcolor\":\"white\",\"plot_bgcolor\":\"#E5ECF6\",\"polar\":{\"bgcolor\":\"#E5ECF6\",\"angularaxis\":{\"gridcolor\":\"white\",\"linecolor\":\"white\",\"ticks\":\"\"},\"radialaxis\":{\"gridcolor\":\"white\",\"linecolor\":\"white\",\"ticks\":\"\"}},\"ternary\":{\"bgcolor\":\"#E5ECF6\",\"aaxis\":{\"gridcolor\":\"white\",\"linecolor\":\"white\",\"ticks\":\"\"},\"baxis\":{\"gridcolor\":\"white\",\"linecolor\":\"white\",\"ticks\":\"\"},\"caxis\":{\"gridcolor\":\"white\",\"linecolor\":\"white\",\"ticks\":\"\"}},\"coloraxis\":{\"colorbar\":{\"outlinewidth\":0,\"ticks\":\"\"}},\"colorscale\":{\"sequential\":[[0.0,\"#0d0887\"],[0.1111111111111111,\"#46039f\"],[0.2222222222222222,\"#7201a8\"],[0.3333333333333333,\"#9c179e\"],[0.4444444444444444,\"#bd3786\"],[0.5555555555555556,\"#d8576b\"],[0.6666666666666666,\"#ed7953\"],[0.7777777777777778,\"#fb9f3a\"],[0.8888888888888888,\"#fdca26\"],[1.0,\"#f0f921\"]],\"sequentialminus\":[[0.0,\"#0d0887\"],[0.1111111111111111,\"#46039f\"],[0.2222222222222222,\"#7201a8\"],[0.3333333333333333,\"#9c179e\"],[0.4444444444444444,\"#bd3786\"],[0.5555555555555556,\"#d8576b\"],[0.6666666666666666,\"#ed7953\"],[0.7777777777777778,\"#fb9f3a\"],[0.8888888888888888,\"#fdca26\"],[1.0,\"#f0f921\"]],\"diverging\":[[0,\"#8e0152\"],[0.1,\"#c51b7d\"],[0.2,\"#de77ae\"],[0.3,\"#f1b6da\"],[0.4,\"#fde0ef\"],[0.5,\"#f7f7f7\"],[0.6,\"#e6f5d0\"],[0.7,\"#b8e186\"],[0.8,\"#7fbc41\"],[0.9,\"#4d9221\"],[1,\"#276419\"]]},\"xaxis\":{\"gridcolor\":\"white\",\"linecolor\":\"white\",\"ticks\":\"\",\"title\":{\"standoff\":15},\"zerolinecolor\":\"white\",\"automargin\":true,\"zerolinewidth\":2},\"yaxis\":{\"gridcolor\":\"white\",\"linecolor\":\"white\",\"ticks\":\"\",\"title\":{\"standoff\":15},\"zerolinecolor\":\"white\",\"automargin\":true,\"zerolinewidth\":2},\"scene\":{\"xaxis\":{\"backgroundcolor\":\"#E5ECF6\",\"gridcolor\":\"white\",\"linecolor\":\"white\",\"showbackground\":true,\"ticks\":\"\",\"zerolinecolor\":\"white\",\"gridwidth\":2},\"yaxis\":{\"backgroundcolor\":\"#E5ECF6\",\"gridcolor\":\"white\",\"linecolor\":\"white\",\"showbackground\":true,\"ticks\":\"\",\"zerolinecolor\":\"white\",\"gridwidth\":2},\"zaxis\":{\"backgroundcolor\":\"#E5ECF6\",\"gridcolor\":\"white\",\"linecolor\":\"white\",\"showbackground\":true,\"ticks\":\"\",\"zerolinecolor\":\"white\",\"gridwidth\":2}},\"shapedefaults\":{\"line\":{\"color\":\"#2a3f5f\"}},\"annotationdefaults\":{\"arrowcolor\":\"#2a3f5f\",\"arrowhead\":0,\"arrowwidth\":1},\"geo\":{\"bgcolor\":\"white\",\"landcolor\":\"#E5ECF6\",\"subunitcolor\":\"white\",\"showland\":true,\"showlakes\":true,\"lakecolor\":\"white\"},\"title\":{\"x\":0.05},\"mapbox\":{\"style\":\"light\"}}},\"xaxis\":{\"anchor\":\"y\",\"domain\":[0.0,1.0],\"title\":{\"text\":\"\"},\"tickangle\":-60,\"tickmode\":\"array\",\"tickvals\":[0,1,2,3,4,5,6,7,8,9,10,11,12,13,14,15,16,17,18,19,20,21,22,23],\"ticktext\":[\"12am\",\"1am\",\"2am\",\"3am\",\"4am\",\"5am\",\"6am\",\"7am\",\"8am\",\"9am\",\"10am\",\"11am\",\"12pm\",\"1pm\",\"2pm\",\"3pm\",\"4pm\",\"5pm\",\"6pm\",\"7pm\",\"8pm\",\"9pm\",\"10pm\",\"11pm\"]},\"yaxis\":{\"anchor\":\"x\",\"domain\":[0.0,1.0],\"title\":{\"text\":\"\"}},\"legend\":{\"title\":{\"text\":\"\"},\"tracegroupgap\":0,\"orientation\":\"h\",\"x\":0.5,\"xanchor\":\"center\",\"yanchor\":\"top\"},\"margin\":{\"t\":60},\"barmode\":\"group\",\"title\":{\"text\":\"Entrances+Exits by hour (Grove St., 2022)\",\"x\":0.5}},                        {\"responsive\": true}                    ).then(function(){\n",
       "                            \n",
       "var gd = document.getElementById('5fc617fb-c10b-468a-94db-0fbcc41f53af');\n",
       "var x = new MutationObserver(function (mutations, observer) {{\n",
       "        var display = window.getComputedStyle(gd).display;\n",
       "        if (!display || display === 'none') {{\n",
       "            console.log([gd, 'removed!']);\n",
       "            Plotly.purge(gd);\n",
       "            observer.disconnect();\n",
       "        }}\n",
       "}});\n",
       "\n",
       "// Listen for the removal of the full notebook cells\n",
       "var notebookContainer = gd.closest('#notebook-container');\n",
       "if (notebookContainer) {{\n",
       "    x.observe(notebookContainer, {childList: true});\n",
       "}}\n",
       "\n",
       "// Listen for the clearing of the current output cell\n",
       "var outputEl = gd.closest('.output');\n",
       "if (outputEl) {{\n",
       "    x.observe(outputEl, {childList: true});\n",
       "}}\n",
       "\n",
       "                        })                };                });            </script>        </div>"
      ]
     },
     "metadata": {},
     "output_type": "display_data"
    }
   ],
   "source": [
    "station_entry_exits_plot(\n",
    "    'Entrances+Exits by hour (Grove St., 2022)',\n",
    "    'Avg Weekday Entry', 'Avg Weekday Exit',\n",
    "    station='Grove Street',\n",
    "    start='2022',\n",
    ")"
   ]
  },
  {
   "cell_type": "code",
   "execution_count": null,
   "id": "3098c175",
   "metadata": {},
   "outputs": [],
   "source": []
  }
 ],
 "metadata": {
  "kernelspec": {
   "display_name": "Python 3 (ipykernel)",
   "language": "python",
   "name": "python3"
  },
  "language_info": {
   "codemirror_mode": {
    "name": "ipython",
    "version": 3
   },
   "file_extension": ".py",
   "mimetype": "text/x-python",
   "name": "python",
   "nbconvert_exporter": "python",
   "pygments_lexer": "ipython3",
   "version": "3.9.13"
  }
 },
 "nbformat": 4,
 "nbformat_minor": 5
}
