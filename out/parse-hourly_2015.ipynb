{
 "cells": [
  {
   "cell_type": "markdown",
   "id": "1821be1c",
   "metadata": {
    "tags": [
     "papermill-error-cell-tag"
    ]
   },
   "source": [
    "<span style=\"color:red; font-family:Helvetica Neue, Helvetica, Arial, sans-serif; font-size:2em;\">An Exception was encountered at '<a href=\"#papermill-error-cell\">In [9]</a>'.</span>"
   ]
  },
  {
   "cell_type": "code",
   "execution_count": 1,
   "id": "bd9885ec",
   "metadata": {
    "execution": {
     "iopub.execute_input": "2022-12-03T14:51:43.293777Z",
     "iopub.status.busy": "2022-12-03T14:51:43.293122Z",
     "iopub.status.idle": "2022-12-03T14:51:43.608665Z",
     "shell.execute_reply": "2022-12-03T14:51:43.608339Z"
    },
    "papermill": {
     "duration": 0.331644,
     "end_time": "2022-12-03T14:51:43.609852",
     "exception": false,
     "start_time": "2022-12-03T14:51:43.278208",
     "status": "completed"
    },
    "tags": []
   },
   "outputs": [],
   "source": [
    "from utz import *\n",
    "from numpy import dtype\n",
    "from tabula import read_pdf"
   ]
  },
  {
   "cell_type": "code",
   "execution_count": 2,
   "id": "b030d7de",
   "metadata": {
    "execution": {
     "iopub.execute_input": "2022-12-03T14:51:43.613111Z",
     "iopub.status.busy": "2022-12-03T14:51:43.612915Z",
     "iopub.status.idle": "2022-12-03T14:51:43.614836Z",
     "shell.execute_reply": "2022-12-03T14:51:43.614593Z"
    },
    "papermill": {
     "duration": 0.00456,
     "end_time": "2022-12-03T14:51:43.615783",
     "exception": false,
     "start_time": "2022-12-03T14:51:43.611223",
     "status": "completed"
    },
    "tags": [
     "parameters"
    ]
   },
   "outputs": [],
   "source": [
    "year = 2022\n",
    "last_month = None\n",
    "n_jobs = 4\n",
    "overwrite = False"
   ]
  },
  {
   "cell_type": "code",
   "execution_count": 3,
   "id": "8230f41c",
   "metadata": {
    "execution": {
     "iopub.execute_input": "2022-12-03T14:51:43.618630Z",
     "iopub.status.busy": "2022-12-03T14:51:43.618518Z",
     "iopub.status.idle": "2022-12-03T14:51:43.620061Z",
     "shell.execute_reply": "2022-12-03T14:51:43.619830Z"
    },
    "papermill": {
     "duration": 0.004062,
     "end_time": "2022-12-03T14:51:43.620996",
     "exception": false,
     "start_time": "2022-12-03T14:51:43.616934",
     "status": "completed"
    },
    "tags": [
     "injected-parameters"
    ]
   },
   "outputs": [],
   "source": [
    "# Parameters\n",
    "year = 2015\n"
   ]
  },
  {
   "cell_type": "code",
   "execution_count": 4,
   "id": "eb816d5c",
   "metadata": {
    "execution": {
     "iopub.execute_input": "2022-12-03T14:51:43.623744Z",
     "iopub.status.busy": "2022-12-03T14:51:43.623639Z",
     "iopub.status.idle": "2022-12-03T14:51:43.625328Z",
     "shell.execute_reply": "2022-12-03T14:51:43.625108Z"
    },
    "papermill": {
     "duration": 0.004063,
     "end_time": "2022-12-03T14:51:43.626226",
     "exception": false,
     "start_time": "2022-12-03T14:51:43.622163",
     "status": "completed"
    },
    "tags": []
   },
   "outputs": [],
   "source": [
    "if year == 2022 and last_month is None:\n",
    "    last_month = 9  # 2022 data only committed here through September"
   ]
  },
  {
   "cell_type": "code",
   "execution_count": 5,
   "id": "dc6d3bd1",
   "metadata": {
    "execution": {
     "iopub.execute_input": "2022-12-03T14:51:43.628901Z",
     "iopub.status.busy": "2022-12-03T14:51:43.628798Z",
     "iopub.status.idle": "2022-12-03T14:51:43.631811Z",
     "shell.execute_reply": "2022-12-03T14:51:43.631564Z"
    },
    "papermill": {
     "duration": 0.005429,
     "end_time": "2022-12-03T14:51:43.632748",
     "exception": false,
     "start_time": "2022-12-03T14:51:43.627319",
     "status": "completed"
    },
    "tags": []
   },
   "outputs": [
    {
     "name": "stdout",
     "output_type": "stream",
     "text": [
      "[19, 33) [34, 48) [49, 63) [64, 78) [79, 93) [94, 108) [109, 123) [124, 138) [139, 153) [154, 168) [169, 183) [184, 198)\n"
     ]
    }
   ],
   "source": [
    "stations = [\n",
    "    'Christopher St.',\n",
    "    '9th Street',\n",
    "    '14th Street',\n",
    "    '23rd Street',\n",
    "    '33rd Street',\n",
    "    'WTC',\n",
    "    'Newark',\n",
    "    'Harrison',\n",
    "    'Journal Square',\n",
    "    'Grove Street',\n",
    "    'Exchange Place',\n",
    "    'Newport',\n",
    "    'Hoboken',\n",
    "    'System-wide',\n",
    "]\n",
    "title = 1\n",
    "contents = 2\n",
    "ytd = 3\n",
    "num_stations = len(stations)\n",
    "section_pages = num_stations + 1  # title page\n",
    "def month_page_range(month):\n",
    "    start = 4 + month * section_pages\n",
    "    end = start + num_stations\n",
    "    return start, end\n",
    "\n",
    "print(' '.join([ f'[{\", \".join(map(str, month_page_range(month)))})' for month in range(1, 13) ]))"
   ]
  },
  {
   "cell_type": "code",
   "execution_count": 6,
   "id": "b7380d14",
   "metadata": {
    "execution": {
     "iopub.execute_input": "2022-12-03T14:51:43.635716Z",
     "iopub.status.busy": "2022-12-03T14:51:43.635603Z",
     "iopub.status.idle": "2022-12-03T14:51:43.640425Z",
     "shell.execute_reply": "2022-12-03T14:51:43.640150Z"
    },
    "papermill": {
     "duration": 0.007315,
     "end_time": "2022-12-03T14:51:43.641341",
     "exception": false,
     "start_time": "2022-12-03T14:51:43.634026",
     "status": "completed"
    },
    "tags": []
   },
   "outputs": [
    {
     "data": {
      "text/plain": [
       "{'Christopher St.': 0,\n",
       " '9th Street': 1,\n",
       " '14th Street': 2,\n",
       " '23rd Street': 3,\n",
       " '33rd Street': 4,\n",
       " 'WTC': 5,\n",
       " 'Newark': 6,\n",
       " 'Harrison': 7,\n",
       " 'Journal Square': 8,\n",
       " 'Grove Street': 9,\n",
       " 'Exchange Place': 10,\n",
       " 'Newport': 11,\n",
       " 'Hoboken': 12,\n",
       " 'System-wide': 13}"
      ]
     },
     "execution_count": 6,
     "metadata": {},
     "output_type": "execute_result"
    }
   ],
   "source": [
    "station_offsets = { station: idx for idx, station in enumerate(stations) }\n",
    "station_offsets"
   ]
  },
  {
   "cell_type": "code",
   "execution_count": 7,
   "id": "a4de7249",
   "metadata": {
    "execution": {
     "iopub.execute_input": "2022-12-03T14:51:43.644438Z",
     "iopub.status.busy": "2022-12-03T14:51:43.644328Z",
     "iopub.status.idle": "2022-12-03T14:51:43.646979Z",
     "shell.execute_reply": "2022-12-03T14:51:43.646749Z"
    },
    "papermill": {
     "duration": 0.005171,
     "end_time": "2022-12-03T14:51:43.647864",
     "exception": false,
     "start_time": "2022-12-03T14:51:43.642693",
     "status": "completed"
    },
    "tags": []
   },
   "outputs": [
    {
     "data": {
      "text/plain": [
       "[{'page': 19,\n",
       "  'extraction_method': 'guess',\n",
       "  'x1': 0.495,\n",
       "  'x2': 780.615,\n",
       "  'y1': 126.225,\n",
       "  'y2': 558.855,\n",
       "  'width': 780.12,\n",
       "  'height': 432.63},\n",
       " {'page': 19,\n",
       "  'extraction_method': 'guess',\n",
       "  'x1': 257.895,\n",
       "  'x2': 535.095,\n",
       "  'y1': 14.355,\n",
       "  'y2': 77.715,\n",
       "  'width': 277.2,\n",
       "  'height': 63.36},\n",
       " {'page': 19,\n",
       "  'extraction_method': 'guess',\n",
       "  'x1': 83.655,\n",
       "  'x2': 205.425,\n",
       "  'y1': 98.505,\n",
       "  'y2': 121.275,\n",
       "  'width': 121.77,\n",
       "  'height': 22.77}]"
      ]
     },
     "execution_count": 7,
     "metadata": {},
     "output_type": "execute_result"
    }
   ],
   "source": [
    "template_path = 'templates/2022-PATH-hourly-Ridership-Report.tabula-template.json'\n",
    "with open(template_path, 'r') as f:\n",
    "    rects = json.load(f)\n",
    "rects"
   ]
  },
  {
   "cell_type": "code",
   "execution_count": 8,
   "id": "5c7c84db",
   "metadata": {
    "execution": {
     "iopub.execute_input": "2022-12-03T14:51:43.651166Z",
     "iopub.status.busy": "2022-12-03T14:51:43.651041Z",
     "iopub.status.idle": "2022-12-03T14:51:43.660435Z",
     "shell.execute_reply": "2022-12-03T14:51:43.660152Z"
    },
    "papermill": {
     "duration": 0.012154,
     "end_time": "2022-12-03T14:51:43.661354",
     "exception": false,
     "start_time": "2022-12-03T14:51:43.649200",
     "status": "completed"
    },
    "tags": []
   },
   "outputs": [],
   "source": [
    "based_on_regex = '\\(Based on (?P<month>\\w+) (?P<year>\\d{4}) Turnstile Count\\)'\n",
    "cross_honor_regex = '\\(Cross[‐\\-]honor (?:Entry )?Count not Included\\)'\n",
    "\n",
    "def clean(s):\n",
    "    \"\"\"Some years have \"‐\" (ord(\"‐\") == 8028) instead of \"-\" (ord(\"-\") == 45) in various titles/messages.\"\"\"\n",
    "    return s.replace('‐', '-')\n",
    "\n",
    "def read_station_month_hours_tables(year, month, station):\n",
    "    station_offset = station_offsets[station]\n",
    "    pdf = f'data/{year}-PATH-hourly-Ridership-Report.pdf'\n",
    "    start, _ = month_page_range(month)\n",
    "    pg = start + station_offset\n",
    "    month_name = to_dt('%d-%02d' % (year, month)).strftime('%B')\n",
    "    print(f'Reading {pdf}, pg. {pg}: {month_name}, {station}')\n",
    "    tables = [\n",
    "        read_pdf(\n",
    "            pdf,\n",
    "            pages=pg,\n",
    "            area=[ rect[k] for k in [ 'y1', 'x1', 'y2', 'x2', ] ],\n",
    "            pandas_options={'header': None},\n",
    "        )\n",
    "        for rect in rects\n",
    "    ]\n",
    "    return tables\n",
    "\n",
    "def to_hour(r):\n",
    "    hour, AM = r['hour'], r['am'] == 'AM'\n",
    "    return (0 if hour == 12 else hour) + (0 if AM else 12)\n",
    "\n",
    "def parse_station_month_hours_tables(year, month, station):\n",
    "    [hrs], [header], [actual_station] = read_station_month_hours_tables(year, month, station)\n",
    "    [[actual_station]] = actual_station.values\n",
    "    actual_station = clean(actual_station)  # \"System-wide\" can have either dash character\n",
    "    if actual_station != station:\n",
    "        raise RuntimeError(f\"Parsed station {actual_station} != {station}\")\n",
    "\n",
    "    [[title], [based_on_msg], [cross_msg]] = header.values\n",
    "    if clean(title) != 'PATH - Average Hourly Entry and Exit Counts by Station':\n",
    "        raise RuntimeError(f'Unexpected title: \"{title}\"')\n",
    "\n",
    "    m = fullmatch(based_on_regex, based_on_msg)\n",
    "    if not m:\n",
    "        raise RuntimeError(f'Unrecognized \"based on\" message: \"{based_on_msg}\"')\n",
    "    parsed_year = int(m['year'])\n",
    "    if year != parsed_year:\n",
    "        raise RuntimeError(f\"Parsed year {parsed_year} != {year}\")\n",
    "    parsed_month = m['month']\n",
    "    month_name = to_dt('%d-%02d' % (year, month)).strftime('%B')\n",
    "    if parsed_month != month_name:\n",
    "        raise RuntimeError(f\"Parsed month {parsed_month} != {month}\")\n",
    "\n",
    "    if not fullmatch(cross_honor_regex, cross_msg):\n",
    "        raise RuntimeError(f'Unexpected cross-honor message: \"{cross_msg}\"')\n",
    "\n",
    "    hrs = hrs.dropna(axis=1, how='all')\n",
    "    headers = (hrs.iloc[0].fillna('') + ' ' + hrs.iloc[1]).str.strip()\n",
    "    hrs = hrs.copy().iloc[2:]\n",
    "    hrs = hrs.dropna(axis=1, how='all')\n",
    "    headers = headers.dropna()\n",
    "    hrs.columns = headers\n",
    "    hrs['Year'] = year\n",
    "    hrs['Month'] = month\n",
    "    hrs['Station'] = station\n",
    "    hrs = hrs[['Year', 'Month', 'Station'] + headers.tolist()]\n",
    "    for k in hrs.columns[4:]:\n",
    "        col = hrs[k]\n",
    "        dt = col.dtype\n",
    "        if dt == dtype('O'):\n",
    "            hrs[k] = hrs[k].str.replace(',', '').astype(int)\n",
    "        elif dt == dtype('float64'):\n",
    "            hrs[k] = hrs[k].astype(int)\n",
    "        elif dt == dtype('int64'):\n",
    "            pass\n",
    "        else:\n",
    "            raise RuntimeError(f'Unexpected dtype, col {k}: {dt}')\n",
    "\n",
    "    total_rows = hrs.Hour == 'Total'\n",
    "    totals = hrs[total_rows]\n",
    "    hrs = hrs[~total_rows]\n",
    "\n",
    "    Hour = hrs.Hour.str.extract('(?P<hour>\\d\\d?):00:00 (?P<am>AM|PM)').astype({ 'hour': int }).apply(to_hour, axis=1)\n",
    "    hrs['Hour'] = Hour\n",
    "\n",
    "    system_wide_rows = hrs.Station == 'System-wide'\n",
    "    system_wide = hrs[system_wide_rows]\n",
    "    hrs = hrs[~system_wide_rows]\n",
    "\n",
    "    return hrs, totals, system_wide\n",
    "\n",
    "def read_month_hours_stations(year, month, n_jobs=None, concat=True):\n",
    "    if n_jobs:\n",
    "        parallel = Parallel(n_jobs=n_jobs)\n",
    "        fn = delayed(parse_station_month_hours_tables)\n",
    "        rvs = parallel(\n",
    "            fn(year, month, station)\n",
    "            for station in stations\n",
    "        )\n",
    "    else:\n",
    "        rvs = [\n",
    "            parse_station_month_hours_tables(year, month, station)\n",
    "            for station in stations\n",
    "        ]\n",
    "    if concat:\n",
    "        return [ pd.concat(dfs) for dfs in zip(*rvs) ]\n",
    "    else:\n",
    "        return dfs\n",
    "\n",
    "def read_year_hours_stations(year, last_month=None, n_jobs=None, concat=True):\n",
    "    rvs = [\n",
    "        read_month_hours_stations(year, month, n_jobs=n_jobs)\n",
    "        for month in range(1, 13 if last_month is None else (last_month + 1))\n",
    "    ]\n",
    "    if concat:\n",
    "        return [ pd.concat(dfs) for dfs in zip(*rvs) ]\n",
    "    else:\n",
    "        return rvs"
   ]
  },
  {
   "cell_type": "markdown",
   "id": "3a162348",
   "metadata": {
    "tags": [
     "papermill-error-cell-tag"
    ]
   },
   "source": [
    "<span id=\"papermill-error-cell\" style=\"color:red; font-family:Helvetica Neue, Helvetica, Arial, sans-serif; font-size:2em;\">Execution using papermill encountered an exception here and stopped:</span>"
   ]
  },
  {
   "cell_type": "code",
   "execution_count": 9,
   "id": "080063c1",
   "metadata": {
    "execution": {
     "iopub.execute_input": "2022-12-03T14:51:43.664498Z",
     "iopub.status.busy": "2022-12-03T14:51:43.664383Z",
     "iopub.status.idle": "2022-12-03T14:51:44.316176Z",
     "shell.execute_reply": "2022-12-03T14:51:44.315869Z"
    },
    "papermill": {
     "duration": 0.65455,
     "end_time": "2022-12-03T14:51:44.317249",
     "exception": false,
     "start_time": "2022-12-03T14:51:43.662699",
     "status": "completed"
    },
    "scrolled": true,
    "tags": []
   },
   "outputs": [
    {
     "ename": "FileNotFoundError",
     "evalue": "[Errno 2] No such file or directory: 'data/2015-PATH-hourly-Ridership-Report.pdf'",
     "output_type": "error",
     "traceback": [
      "\u001b[0;31m---------------------------------------------------------------------------\u001b[0m",
      "\u001b[0;31m_RemoteTraceback\u001b[0m                          Traceback (most recent call last)",
      "\u001b[0;31m_RemoteTraceback\u001b[0m: \n\"\"\"\nTraceback (most recent call last):\n  File \"/Users/ryan/.pyenv/versions/3.9.13/envs/path-3.9.13/lib/python3.9/site-packages/joblib/externals/loky/process_executor.py\", line 428, in _process_worker\n    r = call_item()\n  File \"/Users/ryan/.pyenv/versions/3.9.13/envs/path-3.9.13/lib/python3.9/site-packages/joblib/externals/loky/process_executor.py\", line 275, in __call__\n    return self.fn(*self.args, **self.kwargs)\n  File \"/Users/ryan/.pyenv/versions/3.9.13/envs/path-3.9.13/lib/python3.9/site-packages/joblib/_parallel_backends.py\", line 620, in __call__\n    return self.func(*args, **kwargs)\n  File \"/Users/ryan/.pyenv/versions/3.9.13/envs/path-3.9.13/lib/python3.9/site-packages/joblib/parallel.py\", line 288, in __call__\n    return [func(*args, **kwargs)\n  File \"/Users/ryan/.pyenv/versions/3.9.13/envs/path-3.9.13/lib/python3.9/site-packages/joblib/parallel.py\", line 288, in <listcomp>\n    return [func(*args, **kwargs)\n  File \"/var/folders/dc/gqj_cd8d0d9c1nppd5_yl7bc0000gn/T/ipykernel_57141/2091731891.py\", line 31, in parse_station_month_hours_tables\n  File \"/var/folders/dc/gqj_cd8d0d9c1nppd5_yl7bc0000gn/T/ipykernel_57141/2091731891.py\", line 15, in read_station_month_hours_tables\n  File \"/var/folders/dc/gqj_cd8d0d9c1nppd5_yl7bc0000gn/T/ipykernel_57141/2091731891.py\", line 16, in <listcomp>\n  File \"/Users/ryan/.pyenv/versions/3.9.13/envs/path-3.9.13/lib/python3.9/site-packages/tabula/io.py\", line 412, in read_pdf\n    raise FileNotFoundError(errno.ENOENT, os.strerror(errno.ENOENT), path)\nFileNotFoundError: [Errno 2] No such file or directory: 'data/2015-PATH-hourly-Ridership-Report.pdf'\n\"\"\"",
      "\nThe above exception was the direct cause of the following exception:\n",
      "\u001b[0;31mFileNotFoundError\u001b[0m                         Traceback (most recent call last)",
      "File \u001b[0;32m<timed exec>:11\u001b[0m\n",
      "Cell \u001b[0;32mIn [8], line 109\u001b[0m, in \u001b[0;36mread_year_hours_stations\u001b[0;34m(year, last_month, n_jobs, concat)\u001b[0m\n\u001b[1;32m    108\u001b[0m \u001b[38;5;28;01mdef\u001b[39;00m \u001b[38;5;21mread_year_hours_stations\u001b[39m(year, last_month\u001b[38;5;241m=\u001b[39m\u001b[38;5;28;01mNone\u001b[39;00m, n_jobs\u001b[38;5;241m=\u001b[39m\u001b[38;5;28;01mNone\u001b[39;00m, concat\u001b[38;5;241m=\u001b[39m\u001b[38;5;28;01mTrue\u001b[39;00m):\n\u001b[0;32m--> 109\u001b[0m     rvs \u001b[38;5;241m=\u001b[39m [\n\u001b[1;32m    110\u001b[0m         read_month_hours_stations(year, month, n_jobs\u001b[38;5;241m=\u001b[39mn_jobs)\n\u001b[1;32m    111\u001b[0m         \u001b[38;5;28;01mfor\u001b[39;00m month \u001b[38;5;129;01min\u001b[39;00m \u001b[38;5;28mrange\u001b[39m(\u001b[38;5;241m1\u001b[39m, \u001b[38;5;241m13\u001b[39m \u001b[38;5;28;01mif\u001b[39;00m last_month \u001b[38;5;129;01mis\u001b[39;00m \u001b[38;5;28;01mNone\u001b[39;00m \u001b[38;5;28;01melse\u001b[39;00m (last_month \u001b[38;5;241m+\u001b[39m \u001b[38;5;241m1\u001b[39m))\n\u001b[1;32m    112\u001b[0m     ]\n\u001b[1;32m    113\u001b[0m     \u001b[38;5;28;01mif\u001b[39;00m concat:\n\u001b[1;32m    114\u001b[0m         \u001b[38;5;28;01mreturn\u001b[39;00m [ pd\u001b[38;5;241m.\u001b[39mconcat(dfs) \u001b[38;5;28;01mfor\u001b[39;00m dfs \u001b[38;5;129;01min\u001b[39;00m \u001b[38;5;28mzip\u001b[39m(\u001b[38;5;241m*\u001b[39mrvs) ]\n",
      "Cell \u001b[0;32mIn [8], line 110\u001b[0m, in \u001b[0;36m<listcomp>\u001b[0;34m(.0)\u001b[0m\n\u001b[1;32m    108\u001b[0m \u001b[38;5;28;01mdef\u001b[39;00m \u001b[38;5;21mread_year_hours_stations\u001b[39m(year, last_month\u001b[38;5;241m=\u001b[39m\u001b[38;5;28;01mNone\u001b[39;00m, n_jobs\u001b[38;5;241m=\u001b[39m\u001b[38;5;28;01mNone\u001b[39;00m, concat\u001b[38;5;241m=\u001b[39m\u001b[38;5;28;01mTrue\u001b[39;00m):\n\u001b[1;32m    109\u001b[0m     rvs \u001b[38;5;241m=\u001b[39m [\n\u001b[0;32m--> 110\u001b[0m         \u001b[43mread_month_hours_stations\u001b[49m\u001b[43m(\u001b[49m\u001b[43myear\u001b[49m\u001b[43m,\u001b[49m\u001b[43m \u001b[49m\u001b[43mmonth\u001b[49m\u001b[43m,\u001b[49m\u001b[43m \u001b[49m\u001b[43mn_jobs\u001b[49m\u001b[38;5;241;43m=\u001b[39;49m\u001b[43mn_jobs\u001b[49m\u001b[43m)\u001b[49m\n\u001b[1;32m    111\u001b[0m         \u001b[38;5;28;01mfor\u001b[39;00m month \u001b[38;5;129;01min\u001b[39;00m \u001b[38;5;28mrange\u001b[39m(\u001b[38;5;241m1\u001b[39m, \u001b[38;5;241m13\u001b[39m \u001b[38;5;28;01mif\u001b[39;00m last_month \u001b[38;5;129;01mis\u001b[39;00m \u001b[38;5;28;01mNone\u001b[39;00m \u001b[38;5;28;01melse\u001b[39;00m (last_month \u001b[38;5;241m+\u001b[39m \u001b[38;5;241m1\u001b[39m))\n\u001b[1;32m    112\u001b[0m     ]\n\u001b[1;32m    113\u001b[0m     \u001b[38;5;28;01mif\u001b[39;00m concat:\n\u001b[1;32m    114\u001b[0m         \u001b[38;5;28;01mreturn\u001b[39;00m [ pd\u001b[38;5;241m.\u001b[39mconcat(dfs) \u001b[38;5;28;01mfor\u001b[39;00m dfs \u001b[38;5;129;01min\u001b[39;00m \u001b[38;5;28mzip\u001b[39m(\u001b[38;5;241m*\u001b[39mrvs) ]\n",
      "Cell \u001b[0;32mIn [8], line 94\u001b[0m, in \u001b[0;36mread_month_hours_stations\u001b[0;34m(year, month, n_jobs, concat)\u001b[0m\n\u001b[1;32m     92\u001b[0m     parallel \u001b[38;5;241m=\u001b[39m Parallel(n_jobs\u001b[38;5;241m=\u001b[39mn_jobs)\n\u001b[1;32m     93\u001b[0m     fn \u001b[38;5;241m=\u001b[39m delayed(parse_station_month_hours_tables)\n\u001b[0;32m---> 94\u001b[0m     rvs \u001b[38;5;241m=\u001b[39m \u001b[43mparallel\u001b[49m\u001b[43m(\u001b[49m\n\u001b[1;32m     95\u001b[0m \u001b[43m        \u001b[49m\u001b[43mfn\u001b[49m\u001b[43m(\u001b[49m\u001b[43myear\u001b[49m\u001b[43m,\u001b[49m\u001b[43m \u001b[49m\u001b[43mmonth\u001b[49m\u001b[43m,\u001b[49m\u001b[43m \u001b[49m\u001b[43mstation\u001b[49m\u001b[43m)\u001b[49m\n\u001b[1;32m     96\u001b[0m \u001b[43m        \u001b[49m\u001b[38;5;28;43;01mfor\u001b[39;49;00m\u001b[43m \u001b[49m\u001b[43mstation\u001b[49m\u001b[43m \u001b[49m\u001b[38;5;129;43;01min\u001b[39;49;00m\u001b[43m \u001b[49m\u001b[43mstations\u001b[49m\n\u001b[1;32m     97\u001b[0m \u001b[43m    \u001b[49m\u001b[43m)\u001b[49m\n\u001b[1;32m     98\u001b[0m \u001b[38;5;28;01melse\u001b[39;00m:\n\u001b[1;32m     99\u001b[0m     rvs \u001b[38;5;241m=\u001b[39m [\n\u001b[1;32m    100\u001b[0m         parse_station_month_hours_tables(year, month, station)\n\u001b[1;32m    101\u001b[0m         \u001b[38;5;28;01mfor\u001b[39;00m station \u001b[38;5;129;01min\u001b[39;00m stations\n\u001b[1;32m    102\u001b[0m     ]\n",
      "File \u001b[0;32m~/.pyenv/versions/3.9.13/envs/path-3.9.13/lib/python3.9/site-packages/joblib/parallel.py:1098\u001b[0m, in \u001b[0;36mParallel.__call__\u001b[0;34m(self, iterable)\u001b[0m\n\u001b[1;32m   1095\u001b[0m     \u001b[38;5;28mself\u001b[39m\u001b[38;5;241m.\u001b[39m_iterating \u001b[38;5;241m=\u001b[39m \u001b[38;5;28;01mFalse\u001b[39;00m\n\u001b[1;32m   1097\u001b[0m \u001b[38;5;28;01mwith\u001b[39;00m \u001b[38;5;28mself\u001b[39m\u001b[38;5;241m.\u001b[39m_backend\u001b[38;5;241m.\u001b[39mretrieval_context():\n\u001b[0;32m-> 1098\u001b[0m     \u001b[38;5;28;43mself\u001b[39;49m\u001b[38;5;241;43m.\u001b[39;49m\u001b[43mretrieve\u001b[49m\u001b[43m(\u001b[49m\u001b[43m)\u001b[49m\n\u001b[1;32m   1099\u001b[0m \u001b[38;5;66;03m# Make sure that we get a last message telling us we are done\u001b[39;00m\n\u001b[1;32m   1100\u001b[0m elapsed_time \u001b[38;5;241m=\u001b[39m time\u001b[38;5;241m.\u001b[39mtime() \u001b[38;5;241m-\u001b[39m \u001b[38;5;28mself\u001b[39m\u001b[38;5;241m.\u001b[39m_start_time\n",
      "File \u001b[0;32m~/.pyenv/versions/3.9.13/envs/path-3.9.13/lib/python3.9/site-packages/joblib/parallel.py:975\u001b[0m, in \u001b[0;36mParallel.retrieve\u001b[0;34m(self)\u001b[0m\n\u001b[1;32m    973\u001b[0m \u001b[38;5;28;01mtry\u001b[39;00m:\n\u001b[1;32m    974\u001b[0m     \u001b[38;5;28;01mif\u001b[39;00m \u001b[38;5;28mgetattr\u001b[39m(\u001b[38;5;28mself\u001b[39m\u001b[38;5;241m.\u001b[39m_backend, \u001b[38;5;124m'\u001b[39m\u001b[38;5;124msupports_timeout\u001b[39m\u001b[38;5;124m'\u001b[39m, \u001b[38;5;28;01mFalse\u001b[39;00m):\n\u001b[0;32m--> 975\u001b[0m         \u001b[38;5;28mself\u001b[39m\u001b[38;5;241m.\u001b[39m_output\u001b[38;5;241m.\u001b[39mextend(\u001b[43mjob\u001b[49m\u001b[38;5;241;43m.\u001b[39;49m\u001b[43mget\u001b[49m\u001b[43m(\u001b[49m\u001b[43mtimeout\u001b[49m\u001b[38;5;241;43m=\u001b[39;49m\u001b[38;5;28;43mself\u001b[39;49m\u001b[38;5;241;43m.\u001b[39;49m\u001b[43mtimeout\u001b[49m\u001b[43m)\u001b[49m)\n\u001b[1;32m    976\u001b[0m     \u001b[38;5;28;01melse\u001b[39;00m:\n\u001b[1;32m    977\u001b[0m         \u001b[38;5;28mself\u001b[39m\u001b[38;5;241m.\u001b[39m_output\u001b[38;5;241m.\u001b[39mextend(job\u001b[38;5;241m.\u001b[39mget())\n",
      "File \u001b[0;32m~/.pyenv/versions/3.9.13/envs/path-3.9.13/lib/python3.9/site-packages/joblib/_parallel_backends.py:567\u001b[0m, in \u001b[0;36mLokyBackend.wrap_future_result\u001b[0;34m(future, timeout)\u001b[0m\n\u001b[1;32m    564\u001b[0m \u001b[38;5;124;03m\"\"\"Wrapper for Future.result to implement the same behaviour as\u001b[39;00m\n\u001b[1;32m    565\u001b[0m \u001b[38;5;124;03mAsyncResults.get from multiprocessing.\"\"\"\u001b[39;00m\n\u001b[1;32m    566\u001b[0m \u001b[38;5;28;01mtry\u001b[39;00m:\n\u001b[0;32m--> 567\u001b[0m     \u001b[38;5;28;01mreturn\u001b[39;00m \u001b[43mfuture\u001b[49m\u001b[38;5;241;43m.\u001b[39;49m\u001b[43mresult\u001b[49m\u001b[43m(\u001b[49m\u001b[43mtimeout\u001b[49m\u001b[38;5;241;43m=\u001b[39;49m\u001b[43mtimeout\u001b[49m\u001b[43m)\u001b[49m\n\u001b[1;32m    568\u001b[0m \u001b[38;5;28;01mexcept\u001b[39;00m CfTimeoutError \u001b[38;5;28;01mas\u001b[39;00m e:\n\u001b[1;32m    569\u001b[0m     \u001b[38;5;28;01mraise\u001b[39;00m \u001b[38;5;167;01mTimeoutError\u001b[39;00m \u001b[38;5;28;01mfrom\u001b[39;00m \u001b[38;5;21;01me\u001b[39;00m\n",
      "File \u001b[0;32m~/.pyenv/versions/3.9.13/lib/python3.9/concurrent/futures/_base.py:446\u001b[0m, in \u001b[0;36mFuture.result\u001b[0;34m(self, timeout)\u001b[0m\n\u001b[1;32m    444\u001b[0m     \u001b[38;5;28;01mraise\u001b[39;00m CancelledError()\n\u001b[1;32m    445\u001b[0m \u001b[38;5;28;01melif\u001b[39;00m \u001b[38;5;28mself\u001b[39m\u001b[38;5;241m.\u001b[39m_state \u001b[38;5;241m==\u001b[39m FINISHED:\n\u001b[0;32m--> 446\u001b[0m     \u001b[38;5;28;01mreturn\u001b[39;00m \u001b[38;5;28;43mself\u001b[39;49m\u001b[38;5;241;43m.\u001b[39;49m\u001b[43m__get_result\u001b[49m\u001b[43m(\u001b[49m\u001b[43m)\u001b[49m\n\u001b[1;32m    447\u001b[0m \u001b[38;5;28;01melse\u001b[39;00m:\n\u001b[1;32m    448\u001b[0m     \u001b[38;5;28;01mraise\u001b[39;00m \u001b[38;5;167;01mTimeoutError\u001b[39;00m()\n",
      "File \u001b[0;32m~/.pyenv/versions/3.9.13/lib/python3.9/concurrent/futures/_base.py:391\u001b[0m, in \u001b[0;36mFuture.__get_result\u001b[0;34m(self)\u001b[0m\n\u001b[1;32m    389\u001b[0m \u001b[38;5;28;01mif\u001b[39;00m \u001b[38;5;28mself\u001b[39m\u001b[38;5;241m.\u001b[39m_exception:\n\u001b[1;32m    390\u001b[0m     \u001b[38;5;28;01mtry\u001b[39;00m:\n\u001b[0;32m--> 391\u001b[0m         \u001b[38;5;28;01mraise\u001b[39;00m \u001b[38;5;28mself\u001b[39m\u001b[38;5;241m.\u001b[39m_exception\n\u001b[1;32m    392\u001b[0m     \u001b[38;5;28;01mfinally\u001b[39;00m:\n\u001b[1;32m    393\u001b[0m         \u001b[38;5;66;03m# Break a reference cycle with the exception in self._exception\u001b[39;00m\n\u001b[1;32m    394\u001b[0m         \u001b[38;5;28mself\u001b[39m \u001b[38;5;241m=\u001b[39m \u001b[38;5;28;01mNone\u001b[39;00m\n",
      "\u001b[0;31mFileNotFoundError\u001b[0m: [Errno 2] No such file or directory: 'data/2015-PATH-hourly-Ridership-Report.pdf'"
     ]
    }
   ],
   "source": [
    "%%time\n",
    "suffixes = ['', '-total', '-system']\n",
    "base = f'data/{year}-hourly'\n",
    "paths = [ f'{base}{suffix}.pqt' for suffix in suffixes ]\n",
    "extant = list(filter(exists, paths))\n",
    "\n",
    "if extant and overwrite:\n",
    "    print(f'Overwriting {\", \".join(extant)}')\n",
    "\n",
    "hrs, totals, system_wide = None, None, None\n",
    "if extant != paths or overwrite:\n",
    "    dfs = read_year_hours_stations(year, last_month=last_month, n_jobs=n_jobs)\n",
    "    for df, path in zip(dfs, paths):\n",
    "        print(f'Writing {path}')\n",
    "        df.to_parquet(path, index=False)\n",
    "    hrs, totals, system_wide = dfs\n",
    "\n",
    "hrs"
   ]
  },
  {
   "cell_type": "code",
   "execution_count": 10,
   "id": "2b560ce1",
   "metadata": {
    "execution": {
     "iopub.execute_input": "2022-12-03T14:51:44.320986Z",
     "iopub.status.busy": "2022-12-03T14:51:44.320854Z",
     "iopub.status.idle": "2022-12-03T14:51:44.322562Z",
     "shell.execute_reply": "2022-12-03T14:51:44.322331Z"
    },
    "papermill": {
     "duration": 0.00452,
     "end_time": "2022-12-03T14:51:44.323474",
     "exception": false,
     "start_time": "2022-12-03T14:51:44.318954",
     "status": "completed"
    },
    "tags": []
   },
   "outputs": [],
   "source": [
    "totals"
   ]
  },
  {
   "cell_type": "code",
   "execution_count": 11,
   "id": "a64b25e5",
   "metadata": {
    "execution": {
     "iopub.execute_input": "2022-12-03T14:51:44.326828Z",
     "iopub.status.busy": "2022-12-03T14:51:44.326717Z",
     "iopub.status.idle": "2022-12-03T14:51:44.328303Z",
     "shell.execute_reply": "2022-12-03T14:51:44.328030Z"
    },
    "papermill": {
     "duration": 0.004151,
     "end_time": "2022-12-03T14:51:44.329169",
     "exception": false,
     "start_time": "2022-12-03T14:51:44.325018",
     "status": "completed"
    },
    "tags": []
   },
   "outputs": [],
   "source": [
    "system_wide"
   ]
  }
 ],
 "metadata": {
  "kernelspec": {
   "display_name": "Python 3 (ipykernel)",
   "language": "python",
   "name": "python3"
  },
  "language_info": {
   "codemirror_mode": {
    "name": "ipython",
    "version": 3
   },
   "file_extension": ".py",
   "mimetype": "text/x-python",
   "name": "python",
   "nbconvert_exporter": "python",
   "pygments_lexer": "ipython3",
   "version": "3.9.13"
  },
  "papermill": {
   "default_parameters": {},
   "duration": 4.568458,
   "end_time": "2022-12-03T14:51:46.949724",
   "environment_variables": {},
   "exception": null,
   "input_path": "parse-hourly.ipynb",
   "output_path": "out/parse-hourly_2015.ipynb",
   "parameters": {
    "year": 2015
   },
   "start_time": "2022-12-03T14:51:42.381266",
   "version": "2.4.0"
  }
 },
 "nbformat": 4,
 "nbformat_minor": 5
}