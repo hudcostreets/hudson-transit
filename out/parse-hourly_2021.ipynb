{
 "cells": [
  {
   "cell_type": "code",
   "execution_count": 1,
   "id": "9145a48e",
   "metadata": {
    "execution": {
     "iopub.execute_input": "2022-12-03T14:50:28.974169Z",
     "iopub.status.busy": "2022-12-03T14:50:28.973233Z",
     "iopub.status.idle": "2022-12-03T14:50:29.289939Z",
     "shell.execute_reply": "2022-12-03T14:50:29.289585Z"
    },
    "papermill": {
     "duration": 0.334151,
     "end_time": "2022-12-03T14:50:29.291084",
     "exception": false,
     "start_time": "2022-12-03T14:50:28.956933",
     "status": "completed"
    },
    "tags": []
   },
   "outputs": [],
   "source": [
    "from utz import *\n",
    "from numpy import dtype\n",
    "from tabula import read_pdf"
   ]
  },
  {
   "cell_type": "code",
   "execution_count": 2,
   "id": "00c631c0",
   "metadata": {
    "execution": {
     "iopub.execute_input": "2022-12-03T14:50:29.294182Z",
     "iopub.status.busy": "2022-12-03T14:50:29.293986Z",
     "iopub.status.idle": "2022-12-03T14:50:29.295880Z",
     "shell.execute_reply": "2022-12-03T14:50:29.295649Z"
    },
    "papermill": {
     "duration": 0.004386,
     "end_time": "2022-12-03T14:50:29.296780",
     "exception": false,
     "start_time": "2022-12-03T14:50:29.292394",
     "status": "completed"
    },
    "tags": [
     "parameters"
    ]
   },
   "outputs": [],
   "source": [
    "year = 2022\n",
    "last_month = None\n",
    "n_jobs = 4\n",
    "overwrite = False"
   ]
  },
  {
   "cell_type": "code",
   "execution_count": 3,
   "id": "a4837372",
   "metadata": {
    "execution": {
     "iopub.execute_input": "2022-12-03T14:50:29.299494Z",
     "iopub.status.busy": "2022-12-03T14:50:29.299388Z",
     "iopub.status.idle": "2022-12-03T14:50:29.300958Z",
     "shell.execute_reply": "2022-12-03T14:50:29.300715Z"
    },
    "papermill": {
     "duration": 0.003993,
     "end_time": "2022-12-03T14:50:29.301862",
     "exception": false,
     "start_time": "2022-12-03T14:50:29.297869",
     "status": "completed"
    },
    "tags": [
     "injected-parameters"
    ]
   },
   "outputs": [],
   "source": [
    "# Parameters\n",
    "year = 2021\n"
   ]
  },
  {
   "cell_type": "code",
   "execution_count": 4,
   "id": "b9355038",
   "metadata": {
    "execution": {
     "iopub.execute_input": "2022-12-03T14:50:29.304576Z",
     "iopub.status.busy": "2022-12-03T14:50:29.304468Z",
     "iopub.status.idle": "2022-12-03T14:50:29.306136Z",
     "shell.execute_reply": "2022-12-03T14:50:29.305898Z"
    },
    "papermill": {
     "duration": 0.004026,
     "end_time": "2022-12-03T14:50:29.307007",
     "exception": false,
     "start_time": "2022-12-03T14:50:29.302981",
     "status": "completed"
    },
    "tags": []
   },
   "outputs": [],
   "source": [
    "if year == 2022 and last_month is None:\n",
    "    last_month = 9  # 2022 data only committed here through September"
   ]
  },
  {
   "cell_type": "code",
   "execution_count": 5,
   "id": "20325194",
   "metadata": {
    "execution": {
     "iopub.execute_input": "2022-12-03T14:50:29.309899Z",
     "iopub.status.busy": "2022-12-03T14:50:29.309799Z",
     "iopub.status.idle": "2022-12-03T14:50:29.312722Z",
     "shell.execute_reply": "2022-12-03T14:50:29.312446Z"
    },
    "papermill": {
     "duration": 0.005307,
     "end_time": "2022-12-03T14:50:29.313622",
     "exception": false,
     "start_time": "2022-12-03T14:50:29.308315",
     "status": "completed"
    },
    "tags": []
   },
   "outputs": [
    {
     "name": "stdout",
     "output_type": "stream",
     "text": [
      "[19, 33) [34, 48) [49, 63) [64, 78) [79, 93) [94, 108) [109, 123) [124, 138) [139, 153) [154, 168) [169, 183) [184, 198)\n"
     ]
    }
   ],
   "source": [
    "stations = [\n",
    "    'Christopher St.',\n",
    "    '9th Street',\n",
    "    '14th Street',\n",
    "    '23rd Street',\n",
    "    '33rd Street',\n",
    "    'WTC',\n",
    "    'Newark',\n",
    "    'Harrison',\n",
    "    'Journal Square',\n",
    "    'Grove Street',\n",
    "    'Exchange Place',\n",
    "    'Newport',\n",
    "    'Hoboken',\n",
    "    'System-wide',\n",
    "]\n",
    "title = 1\n",
    "contents = 2\n",
    "ytd = 3\n",
    "num_stations = len(stations)\n",
    "section_pages = num_stations + 1  # title page\n",
    "def month_page_range(month):\n",
    "    start = 4 + month * section_pages\n",
    "    end = start + num_stations\n",
    "    return start, end\n",
    "\n",
    "print(' '.join([ f'[{\", \".join(map(str, month_page_range(month)))})' for month in range(1, 13) ]))"
   ]
  },
  {
   "cell_type": "code",
   "execution_count": 6,
   "id": "5246d233",
   "metadata": {
    "execution": {
     "iopub.execute_input": "2022-12-03T14:50:29.316818Z",
     "iopub.status.busy": "2022-12-03T14:50:29.316699Z",
     "iopub.status.idle": "2022-12-03T14:50:29.321242Z",
     "shell.execute_reply": "2022-12-03T14:50:29.321026Z"
    },
    "papermill": {
     "duration": 0.00716,
     "end_time": "2022-12-03T14:50:29.322121",
     "exception": false,
     "start_time": "2022-12-03T14:50:29.314961",
     "status": "completed"
    },
    "tags": []
   },
   "outputs": [
    {
     "data": {
      "text/plain": [
       "{'Christopher St.': 0,\n",
       " '9th Street': 1,\n",
       " '14th Street': 2,\n",
       " '23rd Street': 3,\n",
       " '33rd Street': 4,\n",
       " 'WTC': 5,\n",
       " 'Newark': 6,\n",
       " 'Harrison': 7,\n",
       " 'Journal Square': 8,\n",
       " 'Grove Street': 9,\n",
       " 'Exchange Place': 10,\n",
       " 'Newport': 11,\n",
       " 'Hoboken': 12,\n",
       " 'System-wide': 13}"
      ]
     },
     "execution_count": 6,
     "metadata": {},
     "output_type": "execute_result"
    }
   ],
   "source": [
    "station_offsets = { station: idx for idx, station in enumerate(stations) }\n",
    "station_offsets"
   ]
  },
  {
   "cell_type": "code",
   "execution_count": 7,
   "id": "072a9a4d",
   "metadata": {
    "execution": {
     "iopub.execute_input": "2022-12-03T14:50:29.325037Z",
     "iopub.status.busy": "2022-12-03T14:50:29.324928Z",
     "iopub.status.idle": "2022-12-03T14:50:29.327661Z",
     "shell.execute_reply": "2022-12-03T14:50:29.327415Z"
    },
    "papermill": {
     "duration": 0.005167,
     "end_time": "2022-12-03T14:50:29.328525",
     "exception": false,
     "start_time": "2022-12-03T14:50:29.323358",
     "status": "completed"
    },
    "tags": []
   },
   "outputs": [
    {
     "data": {
      "text/plain": [
       "[{'page': 19,\n",
       "  'extraction_method': 'guess',\n",
       "  'x1': 0.495,\n",
       "  'x2': 780.615,\n",
       "  'y1': 126.225,\n",
       "  'y2': 558.855,\n",
       "  'width': 780.12,\n",
       "  'height': 432.63},\n",
       " {'page': 19,\n",
       "  'extraction_method': 'guess',\n",
       "  'x1': 257.895,\n",
       "  'x2': 535.095,\n",
       "  'y1': 14.355,\n",
       "  'y2': 77.715,\n",
       "  'width': 277.2,\n",
       "  'height': 63.36},\n",
       " {'page': 19,\n",
       "  'extraction_method': 'guess',\n",
       "  'x1': 83.655,\n",
       "  'x2': 205.425,\n",
       "  'y1': 98.505,\n",
       "  'y2': 121.275,\n",
       "  'width': 121.77,\n",
       "  'height': 22.77}]"
      ]
     },
     "execution_count": 7,
     "metadata": {},
     "output_type": "execute_result"
    }
   ],
   "source": [
    "template_path = 'templates/2022-PATH-hourly-Ridership-Report.tabula-template.json'\n",
    "with open(template_path, 'r') as f:\n",
    "    rects = json.load(f)\n",
    "rects"
   ]
  },
  {
   "cell_type": "code",
   "execution_count": 8,
   "id": "a40a965d",
   "metadata": {
    "execution": {
     "iopub.execute_input": "2022-12-03T14:50:29.332073Z",
     "iopub.status.busy": "2022-12-03T14:50:29.331940Z",
     "iopub.status.idle": "2022-12-03T14:50:29.341302Z",
     "shell.execute_reply": "2022-12-03T14:50:29.341041Z"
    },
    "papermill": {
     "duration": 0.012227,
     "end_time": "2022-12-03T14:50:29.342190",
     "exception": false,
     "start_time": "2022-12-03T14:50:29.329963",
     "status": "completed"
    },
    "tags": []
   },
   "outputs": [],
   "source": [
    "based_on_regex = '\\(Based on (?P<month>\\w+) (?P<year>\\d{4}) Turnstile Count\\)'\n",
    "cross_honor_regex = '\\(Cross[‐\\-]honor (?:Entry )?Count not Included\\)'\n",
    "\n",
    "def clean(s):\n",
    "    \"\"\"Some years have \"‐\" (ord(\"‐\") == 8028) instead of \"-\" (ord(\"-\") == 45) in various titles/messages.\"\"\"\n",
    "    return s.replace('‐', '-')\n",
    "\n",
    "def read_station_month_hours_tables(year, month, station):\n",
    "    station_offset = station_offsets[station]\n",
    "    pdf = f'data/{year}-PATH-hourly-Ridership-Report.pdf'\n",
    "    start, _ = month_page_range(month)\n",
    "    pg = start + station_offset\n",
    "    month_name = to_dt('%d-%02d' % (year, month)).strftime('%B')\n",
    "    print(f'Reading {pdf}, pg. {pg}: {month_name}, {station}')\n",
    "    tables = [\n",
    "        read_pdf(\n",
    "            pdf,\n",
    "            pages=pg,\n",
    "            area=[ rect[k] for k in [ 'y1', 'x1', 'y2', 'x2', ] ],\n",
    "            pandas_options={'header': None},\n",
    "        )\n",
    "        for rect in rects\n",
    "    ]\n",
    "    return tables\n",
    "\n",
    "def to_hour(r):\n",
    "    hour, AM = r['hour'], r['am'] == 'AM'\n",
    "    return (0 if hour == 12 else hour) + (0 if AM else 12)\n",
    "\n",
    "def parse_station_month_hours_tables(year, month, station):\n",
    "    [hrs], [header], [actual_station] = read_station_month_hours_tables(year, month, station)\n",
    "    [[actual_station]] = actual_station.values\n",
    "    actual_station = clean(actual_station)  # \"System-wide\" can have either dash character\n",
    "    if actual_station != station:\n",
    "        raise RuntimeError(f\"Parsed station {actual_station} != {station}\")\n",
    "\n",
    "    [[title], [based_on_msg], [cross_msg]] = header.values\n",
    "    if clean(title) != 'PATH - Average Hourly Entry and Exit Counts by Station':\n",
    "        raise RuntimeError(f'Unexpected title: \"{title}\"')\n",
    "\n",
    "    m = fullmatch(based_on_regex, based_on_msg)\n",
    "    if not m:\n",
    "        raise RuntimeError(f'Unrecognized \"based on\" message: \"{based_on_msg}\"')\n",
    "    parsed_year = int(m['year'])\n",
    "    if year != parsed_year:\n",
    "        raise RuntimeError(f\"Parsed year {parsed_year} != {year}\")\n",
    "    parsed_month = m['month']\n",
    "    month_name = to_dt('%d-%02d' % (year, month)).strftime('%B')\n",
    "    if parsed_month != month_name:\n",
    "        raise RuntimeError(f\"Parsed month {parsed_month} != {month}\")\n",
    "\n",
    "    if not fullmatch(cross_honor_regex, cross_msg):\n",
    "        raise RuntimeError(f'Unexpected cross-honor message: \"{cross_msg}\"')\n",
    "\n",
    "    hrs = hrs.dropna(axis=1, how='all')\n",
    "    headers = (hrs.iloc[0].fillna('') + ' ' + hrs.iloc[1]).str.strip()\n",
    "    hrs = hrs.copy().iloc[2:]\n",
    "    hrs = hrs.dropna(axis=1, how='all')\n",
    "    headers = headers.dropna()\n",
    "    hrs.columns = headers\n",
    "    hrs['Year'] = year\n",
    "    hrs['Month'] = month\n",
    "    hrs['Station'] = station\n",
    "    hrs = hrs[['Year', 'Month', 'Station'] + headers.tolist()]\n",
    "    for k in hrs.columns[4:]:\n",
    "        col = hrs[k]\n",
    "        dt = col.dtype\n",
    "        if dt == dtype('O'):\n",
    "            hrs[k] = hrs[k].str.replace(',', '').astype(int)\n",
    "        elif dt == dtype('float64'):\n",
    "            hrs[k] = hrs[k].astype(int)\n",
    "        elif dt == dtype('int64'):\n",
    "            pass\n",
    "        else:\n",
    "            raise RuntimeError(f'Unexpected dtype, col {k}: {dt}')\n",
    "\n",
    "    total_rows = hrs.Hour == 'Total'\n",
    "    totals = hrs[total_rows]\n",
    "    hrs = hrs[~total_rows]\n",
    "\n",
    "    Hour = hrs.Hour.str.extract('(?P<hour>\\d\\d?):00:00 (?P<am>AM|PM)').astype({ 'hour': int }).apply(to_hour, axis=1)\n",
    "    hrs['Hour'] = Hour\n",
    "\n",
    "    system_wide_rows = hrs.Station == 'System-wide'\n",
    "    system_wide = hrs[system_wide_rows]\n",
    "    hrs = hrs[~system_wide_rows]\n",
    "\n",
    "    return hrs, totals, system_wide\n",
    "\n",
    "def read_month_hours_stations(year, month, n_jobs=None, concat=True):\n",
    "    if n_jobs:\n",
    "        parallel = Parallel(n_jobs=n_jobs)\n",
    "        fn = delayed(parse_station_month_hours_tables)\n",
    "        rvs = parallel(\n",
    "            fn(year, month, station)\n",
    "            for station in stations\n",
    "        )\n",
    "    else:\n",
    "        rvs = [\n",
    "            parse_station_month_hours_tables(year, month, station)\n",
    "            for station in stations\n",
    "        ]\n",
    "    if concat:\n",
    "        return [ pd.concat(dfs) for dfs in zip(*rvs) ]\n",
    "    else:\n",
    "        return dfs\n",
    "\n",
    "def read_year_hours_stations(year, last_month=None, n_jobs=None, concat=True):\n",
    "    rvs = [\n",
    "        read_month_hours_stations(year, month, n_jobs=n_jobs)\n",
    "        for month in range(1, 13 if last_month is None else (last_month + 1))\n",
    "    ]\n",
    "    if concat:\n",
    "        return [ pd.concat(dfs) for dfs in zip(*rvs) ]\n",
    "    else:\n",
    "        return rvs"
   ]
  },
  {
   "cell_type": "code",
   "execution_count": 9,
   "id": "3aeab457",
   "metadata": {
    "execution": {
     "iopub.execute_input": "2022-12-03T14:50:29.345838Z",
     "iopub.status.busy": "2022-12-03T14:50:29.345717Z",
     "iopub.status.idle": "2022-12-03T14:50:29.348436Z",
     "shell.execute_reply": "2022-12-03T14:50:29.348184Z"
    },
    "papermill": {
     "duration": 0.005707,
     "end_time": "2022-12-03T14:50:29.349337",
     "exception": false,
     "start_time": "2022-12-03T14:50:29.343630",
     "status": "completed"
    },
    "scrolled": true,
    "tags": []
   },
   "outputs": [
    {
     "name": "stdout",
     "output_type": "stream",
     "text": [
      "CPU times: user 14 µs, sys: 12 µs, total: 26 µs\n",
      "Wall time: 29.1 µs\n"
     ]
    }
   ],
   "source": [
    "%%time\n",
    "suffixes = ['', '-total', '-system']\n",
    "base = f'data/{year}-hourly'\n",
    "paths = [ f'{base}{suffix}.pqt' for suffix in suffixes ]\n",
    "extant = list(filter(exists, paths))\n",
    "\n",
    "if extant and overwrite:\n",
    "    print(f'Overwriting {\", \".join(extant)}')\n",
    "\n",
    "hrs, totals, system_wide = None, None, None\n",
    "if extant != paths or overwrite:\n",
    "    dfs = read_year_hours_stations(year, last_month=last_month, n_jobs=n_jobs)\n",
    "    for df, path in zip(dfs, paths):\n",
    "        print(f'Writing {path}')\n",
    "        df.to_parquet(path, index=False)\n",
    "    hrs, totals, system_wide = dfs\n",
    "\n",
    "hrs"
   ]
  },
  {
   "cell_type": "code",
   "execution_count": 10,
   "id": "3f520702",
   "metadata": {
    "execution": {
     "iopub.execute_input": "2022-12-03T14:50:29.352383Z",
     "iopub.status.busy": "2022-12-03T14:50:29.352274Z",
     "iopub.status.idle": "2022-12-03T14:50:29.353832Z",
     "shell.execute_reply": "2022-12-03T14:50:29.353622Z"
    },
    "papermill": {
     "duration": 0.004091,
     "end_time": "2022-12-03T14:50:29.354741",
     "exception": false,
     "start_time": "2022-12-03T14:50:29.350650",
     "status": "completed"
    },
    "tags": []
   },
   "outputs": [],
   "source": [
    "totals"
   ]
  },
  {
   "cell_type": "code",
   "execution_count": 11,
   "id": "4d8f136c",
   "metadata": {
    "execution": {
     "iopub.execute_input": "2022-12-03T14:50:29.357967Z",
     "iopub.status.busy": "2022-12-03T14:50:29.357860Z",
     "iopub.status.idle": "2022-12-03T14:50:29.359418Z",
     "shell.execute_reply": "2022-12-03T14:50:29.359186Z"
    },
    "papermill": {
     "duration": 0.004126,
     "end_time": "2022-12-03T14:50:29.360311",
     "exception": false,
     "start_time": "2022-12-03T14:50:29.356185",
     "status": "completed"
    },
    "tags": []
   },
   "outputs": [],
   "source": [
    "system_wide"
   ]
  }
 ],
 "metadata": {
  "kernelspec": {
   "display_name": "Python 3 (ipykernel)",
   "language": "python",
   "name": "python3"
  },
  "language_info": {
   "codemirror_mode": {
    "name": "ipython",
    "version": 3
   },
   "file_extension": ".py",
   "mimetype": "text/x-python",
   "name": "python",
   "nbconvert_exporter": "python",
   "pygments_lexer": "ipython3",
   "version": "3.9.13"
  },
  "papermill": {
   "default_parameters": {},
   "duration": 1.610193,
   "end_time": "2022-12-03T14:50:29.578196",
   "environment_variables": {},
   "exception": null,
   "input_path": "parse-hourly.ipynb",
   "output_path": "out/parse-hourly_2021.ipynb",
   "parameters": {
    "year": 2021
   },
   "start_time": "2022-12-03T14:50:27.968003",
   "version": "2.4.0"
  }
 },
 "nbformat": 4,
 "nbformat_minor": 5
}