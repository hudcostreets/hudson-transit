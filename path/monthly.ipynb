{
 "cells": [
  {
   "cell_type": "markdown",
   "id": "00e0ac44",
   "metadata": {},
   "source": [
    "# Parse PATH monthly ridership PDF\n",
    "```bash\n",
    "papermill -p year $year [-p last_month $last_month] monthly.ipynb out/monthly-$year.ipynb\n",
    "```"
   ]
  },
  {
   "cell_type": "code",
   "execution_count": null,
   "id": "1b0e0e6e",
   "metadata": {},
   "outputs": [],
   "source": [
    "from utz import *\n",
    "from tabula import read_pdf"
   ]
  },
  {
   "cell_type": "code",
   "execution_count": null,
   "id": "f4b44bab",
   "metadata": {},
   "outputs": [],
   "source": [
    "n = now()\n",
    "cur_year = n.year\n",
    "cur_month = n.month\n",
    "cur_year, cur_month"
   ]
  },
  {
   "cell_type": "code",
   "execution_count": null,
   "id": "f354a72e",
   "metadata": {
    "tags": [
     "parameters"
    ]
   },
   "outputs": [],
   "source": [
    "year = 2023"
   ]
  },
  {
   "cell_type": "code",
   "execution_count": null,
   "id": "67e1e429",
   "metadata": {},
   "outputs": [],
   "source": [
    "cur_year = 2023\n",
    "last_month = 10 if year == cur_year else 12"
   ]
  },
  {
   "cell_type": "code",
   "execution_count": null,
   "id": "280d1426",
   "metadata": {},
   "outputs": [],
   "source": [
    "pdf = f'data/{year}-PATH-Monthly-Ridership-Report.pdf'\n",
    "pdf"
   ]
  },
  {
   "cell_type": "code",
   "execution_count": null,
   "id": "6be0c906",
   "metadata": {
    "scrolled": true
   },
   "outputs": [],
   "source": [
    "with open('templates/PATH-Monthly-Ridership-Report.json', 'r') as f:\n",
    "    rects = json.load(f)\n",
    "rects"
   ]
  },
  {
   "cell_type": "code",
   "execution_count": null,
   "id": "eb31a18e",
   "metadata": {},
   "outputs": [],
   "source": [
    "area = [ [ r[k] for k in [ 'y1', 'x1', 'y2', 'x2' ] ] for r in rects ]\n",
    "area"
   ]
  },
  {
   "cell_type": "code",
   "execution_count": null,
   "id": "dd2bc0e3",
   "metadata": {
    "scrolled": true
   },
   "outputs": [],
   "source": [
    "tables = {\n",
    "    month: read_pdf(\n",
    "        pdf,\n",
    "        pages=month,\n",
    "        area=area,\n",
    "        pandas_options={'header': None},\n",
    "    ) \n",
    "    for month in range(1, last_month + 1)\n",
    "}\n",
    "\n",
    "tables"
   ]
  },
  {
   "cell_type": "code",
   "execution_count": null,
   "id": "bdc5a891",
   "metadata": {},
   "outputs": [],
   "source": [
    "cols1 = [ 'station', 'total', 'avg weekday', 'avg sat', 'avg sun', 'avg holiday' ]\n",
    "cols2 = [ 'station', 'avg daily', 'total weekday', 'total sat', 'total sun', 'total holiday' ]"
   ]
  },
  {
   "cell_type": "code",
   "execution_count": null,
   "id": "462a641d",
   "metadata": {
    "scrolled": false
   },
   "outputs": [],
   "source": [
    "avgs = pd.concat([\n",
    "    df.assign(date=to_dt(f'{year}-{month}'))\n",
    "    for month, dfs in tables.items()\n",
    "    for df in dfs[:2]\n",
    "])\n",
    "avgs.columns = cols1 + ['month']\n",
    "avgs = avgs.assign(**{\n",
    "    k: avgs[k].astype(str).str.replace(',', '').astype(int)\n",
    "    for k in cols1[1:]\n",
    "})\n",
    "avgs"
   ]
  },
  {
   "cell_type": "code",
   "execution_count": null,
   "id": "0fd8fec9",
   "metadata": {},
   "outputs": [],
   "source": [
    "avgs.isna().sum(axis=0)"
   ]
  },
  {
   "cell_type": "code",
   "execution_count": null,
   "id": "b15b15fd",
   "metadata": {},
   "outputs": [],
   "source": [
    "avgs.dtypes"
   ]
  },
  {
   "cell_type": "code",
   "execution_count": null,
   "id": "131a096e",
   "metadata": {},
   "outputs": [],
   "source": [
    "sums = pd.concat([\n",
    "    df.assign(date=to_dt(f'{year}-{month}'))\n",
    "    for month, dfs in tables.items()\n",
    "    for df in dfs[2:]\n",
    "])\n",
    "sums.columns = cols2 + ['month']\n",
    "sums = sums.assign(**{\n",
    "    k: sums[k].astype(str).str.replace(',', '').astype(int)\n",
    "    for k in cols2[1:]\n",
    "})\n",
    "sums"
   ]
  },
  {
   "cell_type": "code",
   "execution_count": null,
   "id": "3f872f31",
   "metadata": {},
   "outputs": [],
   "source": [
    "sums.isna().sum(axis=0)"
   ]
  },
  {
   "cell_type": "code",
   "execution_count": null,
   "id": "3bbdff5e",
   "metadata": {},
   "outputs": [],
   "source": [
    "sums.dtypes"
   ]
  },
  {
   "cell_type": "code",
   "execution_count": null,
   "id": "b4d389e4",
   "metadata": {},
   "outputs": [],
   "source": [
    "df = sxs(\n",
    "    avgs.set_index(['month', 'station']),\n",
    "    sums.set_index(['month', 'station']),\n",
    ")\n",
    "df = df[[cols2[1]] + cols1[2:] + [cols1[1]] + cols2[2:]]\n",
    "df"
   ]
  },
  {
   "cell_type": "code",
   "execution_count": null,
   "id": "aba5369e",
   "metadata": {},
   "outputs": [],
   "source": [
    "path = f'data/{year}.pqt'\n",
    "df.to_parquet(path)"
   ]
  },
  {
   "cell_type": "code",
   "execution_count": null,
   "id": "ea5b16cc",
   "metadata": {},
   "outputs": [],
   "source": [
    "import plotly.express as px\n",
    "from IPython.display import Image"
   ]
  },
  {
   "cell_type": "code",
   "execution_count": null,
   "id": "21330c90",
   "metadata": {},
   "outputs": [],
   "source": [
    "fig = px.bar(\n",
    "    avgs[~avgs.station.str.contains('TOTAL')],\n",
    "    x='month', y='avg weekday', color='station',\n",
    ")\n",
    "Image(fig.to_image(width=1200, height=600))"
   ]
  }
 ],
 "metadata": {
  "kernelspec": {
   "display_name": "Python 3 (ipykernel)",
   "language": "python",
   "name": "python3"
  },
  "language_info": {
   "codemirror_mode": {
    "name": "ipython",
    "version": 3
   },
   "file_extension": ".py",
   "mimetype": "text/x-python",
   "name": "python",
   "nbconvert_exporter": "python",
   "pygments_lexer": "ipython3",
   "version": "3.9.13"
  }
 },
 "nbformat": 4,
 "nbformat_minor": 5
}
