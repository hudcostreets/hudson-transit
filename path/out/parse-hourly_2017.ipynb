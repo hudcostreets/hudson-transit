{
 "cells": [
  {
   "cell_type": "code",
   "execution_count": 1,
   "id": "9145a48e",
   "metadata": {
    "execution": {
     "iopub.execute_input": "2022-12-03T14:50:36.648720Z",
     "iopub.status.busy": "2022-12-03T14:50:36.648229Z",
     "iopub.status.idle": "2022-12-03T14:50:36.973398Z",
     "shell.execute_reply": "2022-12-03T14:50:36.973073Z"
    },
    "papermill": {
     "duration": 0.336678,
     "end_time": "2022-12-03T14:50:36.974626",
     "exception": false,
     "start_time": "2022-12-03T14:50:36.637948",
     "status": "completed"
    },
    "tags": []
   },
   "outputs": [],
   "source": [
    "from utz import *\n",
    "from numpy import dtype\n",
    "from tabula import read_pdf"
   ]
  },
  {
   "cell_type": "code",
   "execution_count": 2,
   "id": "00c631c0",
   "metadata": {
    "execution": {
     "iopub.execute_input": "2022-12-03T14:50:36.977853Z",
     "iopub.status.busy": "2022-12-03T14:50:36.977645Z",
     "iopub.status.idle": "2022-12-03T14:50:36.979582Z",
     "shell.execute_reply": "2022-12-03T14:50:36.979318Z"
    },
    "papermill": {
     "duration": 0.004463,
     "end_time": "2022-12-03T14:50:36.980480",
     "exception": false,
     "start_time": "2022-12-03T14:50:36.976017",
     "status": "completed"
    },
    "tags": [
     "parameters"
    ]
   },
   "outputs": [],
   "source": [
    "year = 2022\n",
    "last_month = None\n",
    "n_jobs = 4\n",
    "overwrite = False"
   ]
  },
  {
   "cell_type": "code",
   "execution_count": 3,
   "id": "ca5cd5bd",
   "metadata": {
    "execution": {
     "iopub.execute_input": "2022-12-03T14:50:36.983541Z",
     "iopub.status.busy": "2022-12-03T14:50:36.983421Z",
     "iopub.status.idle": "2022-12-03T14:50:36.985004Z",
     "shell.execute_reply": "2022-12-03T14:50:36.984756Z"
    },
    "papermill": {
     "duration": 0.004093,
     "end_time": "2022-12-03T14:50:36.985903",
     "exception": false,
     "start_time": "2022-12-03T14:50:36.981810",
     "status": "completed"
    },
    "tags": [
     "injected-parameters"
    ]
   },
   "outputs": [],
   "source": [
    "# Parameters\n",
    "year = 2017\n"
   ]
  },
  {
   "cell_type": "code",
   "execution_count": 4,
   "id": "b9355038",
   "metadata": {
    "execution": {
     "iopub.execute_input": "2022-12-03T14:50:36.988686Z",
     "iopub.status.busy": "2022-12-03T14:50:36.988495Z",
     "iopub.status.idle": "2022-12-03T14:50:36.990243Z",
     "shell.execute_reply": "2022-12-03T14:50:36.990014Z"
    },
    "papermill": {
     "duration": 0.004053,
     "end_time": "2022-12-03T14:50:36.991090",
     "exception": false,
     "start_time": "2022-12-03T14:50:36.987037",
     "status": "completed"
    },
    "tags": []
   },
   "outputs": [],
   "source": [
    "if year == 2022 and last_month is None:\n",
    "    last_month = 9  # 2022 data only committed here through September"
   ]
  },
  {
   "cell_type": "code",
   "execution_count": 5,
   "id": "20325194",
   "metadata": {
    "execution": {
     "iopub.execute_input": "2022-12-03T14:50:36.993783Z",
     "iopub.status.busy": "2022-12-03T14:50:36.993672Z",
     "iopub.status.idle": "2022-12-03T14:50:36.996636Z",
     "shell.execute_reply": "2022-12-03T14:50:36.996407Z"
    },
    "papermill": {
     "duration": 0.005326,
     "end_time": "2022-12-03T14:50:36.997528",
     "exception": false,
     "start_time": "2022-12-03T14:50:36.992202",
     "status": "completed"
    },
    "tags": []
   },
   "outputs": [
    {
     "name": "stdout",
     "output_type": "stream",
     "text": [
      "[19, 33) [34, 48) [49, 63) [64, 78) [79, 93) [94, 108) [109, 123) [124, 138) [139, 153) [154, 168) [169, 183) [184, 198)\n"
     ]
    }
   ],
   "source": [
    "stations = [\n",
    "    'Christopher St.',\n",
    "    '9th Street',\n",
    "    '14th Street',\n",
    "    '23rd Street',\n",
    "    '33rd Street',\n",
    "    'WTC',\n",
    "    'Newark',\n",
    "    'Harrison',\n",
    "    'Journal Square',\n",
    "    'Grove Street',\n",
    "    'Exchange Place',\n",
    "    'Newport',\n",
    "    'Hoboken',\n",
    "    'System-wide',\n",
    "]\n",
    "title = 1\n",
    "contents = 2\n",
    "ytd = 3\n",
    "num_stations = len(stations)\n",
    "section_pages = num_stations + 1  # title page\n",
    "def month_page_range(month):\n",
    "    start = 4 + month * section_pages\n",
    "    end = start + num_stations\n",
    "    return start, end\n",
    "\n",
    "print(' '.join([ f'[{\", \".join(map(str, month_page_range(month)))})' for month in range(1, 13) ]))"
   ]
  },
  {
   "cell_type": "code",
   "execution_count": 6,
   "id": "5246d233",
   "metadata": {
    "execution": {
     "iopub.execute_input": "2022-12-03T14:50:37.000507Z",
     "iopub.status.busy": "2022-12-03T14:50:37.000307Z",
     "iopub.status.idle": "2022-12-03T14:50:37.004854Z",
     "shell.execute_reply": "2022-12-03T14:50:37.004599Z"
    },
    "papermill": {
     "duration": 0.006994,
     "end_time": "2022-12-03T14:50:37.005787",
     "exception": false,
     "start_time": "2022-12-03T14:50:36.998793",
     "status": "completed"
    },
    "tags": []
   },
   "outputs": [
    {
     "data": {
      "text/plain": [
       "{'Christopher St.': 0,\n",
       " '9th Street': 1,\n",
       " '14th Street': 2,\n",
       " '23rd Street': 3,\n",
       " '33rd Street': 4,\n",
       " 'WTC': 5,\n",
       " 'Newark': 6,\n",
       " 'Harrison': 7,\n",
       " 'Journal Square': 8,\n",
       " 'Grove Street': 9,\n",
       " 'Exchange Place': 10,\n",
       " 'Newport': 11,\n",
       " 'Hoboken': 12,\n",
       " 'System-wide': 13}"
      ]
     },
     "execution_count": 6,
     "metadata": {},
     "output_type": "execute_result"
    }
   ],
   "source": [
    "station_offsets = { station: idx for idx, station in enumerate(stations) }\n",
    "station_offsets"
   ]
  },
  {
   "cell_type": "code",
   "execution_count": 7,
   "id": "072a9a4d",
   "metadata": {
    "execution": {
     "iopub.execute_input": "2022-12-03T14:50:37.009101Z",
     "iopub.status.busy": "2022-12-03T14:50:37.008969Z",
     "iopub.status.idle": "2022-12-03T14:50:37.011857Z",
     "shell.execute_reply": "2022-12-03T14:50:37.011619Z"
    },
    "papermill": {
     "duration": 0.005521,
     "end_time": "2022-12-03T14:50:37.012772",
     "exception": false,
     "start_time": "2022-12-03T14:50:37.007251",
     "status": "completed"
    },
    "tags": []
   },
   "outputs": [
    {
     "data": {
      "text/plain": [
       "[{'page': 19,\n",
       "  'extraction_method': 'guess',\n",
       "  'x1': 0.495,\n",
       "  'x2': 780.615,\n",
       "  'y1': 126.225,\n",
       "  'y2': 558.855,\n",
       "  'width': 780.12,\n",
       "  'height': 432.63},\n",
       " {'page': 19,\n",
       "  'extraction_method': 'guess',\n",
       "  'x1': 257.895,\n",
       "  'x2': 535.095,\n",
       "  'y1': 14.355,\n",
       "  'y2': 77.715,\n",
       "  'width': 277.2,\n",
       "  'height': 63.36},\n",
       " {'page': 19,\n",
       "  'extraction_method': 'guess',\n",
       "  'x1': 83.655,\n",
       "  'x2': 205.425,\n",
       "  'y1': 98.505,\n",
       "  'y2': 121.275,\n",
       "  'width': 121.77,\n",
       "  'height': 22.77}]"
      ]
     },
     "execution_count": 7,
     "metadata": {},
     "output_type": "execute_result"
    }
   ],
   "source": [
    "template_path = 'templates/2022-PATH-hourly-Ridership-Report.tabula-template.json'\n",
    "with open(template_path, 'r') as f:\n",
    "    rects = json.load(f)\n",
    "rects"
   ]
  },
  {
   "cell_type": "code",
   "execution_count": 8,
   "id": "a40a965d",
   "metadata": {
    "execution": {
     "iopub.execute_input": "2022-12-03T14:50:37.016143Z",
     "iopub.status.busy": "2022-12-03T14:50:37.016004Z",
     "iopub.status.idle": "2022-12-03T14:50:37.025474Z",
     "shell.execute_reply": "2022-12-03T14:50:37.025215Z"
    },
    "papermill": {
     "duration": 0.012276,
     "end_time": "2022-12-03T14:50:37.026379",
     "exception": false,
     "start_time": "2022-12-03T14:50:37.014103",
     "status": "completed"
    },
    "tags": []
   },
   "outputs": [],
   "source": [
    "based_on_regex = '\\(Based on (?P<month>\\w+) (?P<year>\\d{4}) Turnstile Count\\)'\n",
    "cross_honor_regex = '\\(Cross[‐\\-]honor (?:Entry )?Count not Included\\)'\n",
    "\n",
    "def clean(s):\n",
    "    \"\"\"Some years have \"‐\" (ord(\"‐\") == 8028) instead of \"-\" (ord(\"-\") == 45) in various titles/messages.\"\"\"\n",
    "    return s.replace('‐', '-')\n",
    "\n",
    "def read_station_month_hours_tables(year, month, station):\n",
    "    station_offset = station_offsets[station]\n",
    "    pdf = f'data/{year}-PATH-hourly-Ridership-Report.pdf'\n",
    "    start, _ = month_page_range(month)\n",
    "    pg = start + station_offset\n",
    "    month_name = to_dt('%d-%02d' % (year, month)).strftime('%B')\n",
    "    print(f'Reading {pdf}, pg. {pg}: {month_name}, {station}')\n",
    "    tables = [\n",
    "        read_pdf(\n",
    "            pdf,\n",
    "            pages=pg,\n",
    "            area=[ rect[k] for k in [ 'y1', 'x1', 'y2', 'x2', ] ],\n",
    "            pandas_options={'header': None},\n",
    "        )\n",
    "        for rect in rects\n",
    "    ]\n",
    "    return tables\n",
    "\n",
    "def to_hour(r):\n",
    "    hour, AM = r['hour'], r['am'] == 'AM'\n",
    "    return (0 if hour == 12 else hour) + (0 if AM else 12)\n",
    "\n",
    "def parse_station_month_hours_tables(year, month, station):\n",
    "    [hrs], [header], [actual_station] = read_station_month_hours_tables(year, month, station)\n",
    "    [[actual_station]] = actual_station.values\n",
    "    actual_station = clean(actual_station)  # \"System-wide\" can have either dash character\n",
    "    if actual_station != station:\n",
    "        raise RuntimeError(f\"Parsed station {actual_station} != {station}\")\n",
    "\n",
    "    [[title], [based_on_msg], [cross_msg]] = header.values\n",
    "    if clean(title) != 'PATH - Average Hourly Entry and Exit Counts by Station':\n",
    "        raise RuntimeError(f'Unexpected title: \"{title}\"')\n",
    "\n",
    "    m = fullmatch(based_on_regex, based_on_msg)\n",
    "    if not m:\n",
    "        raise RuntimeError(f'Unrecognized \"based on\" message: \"{based_on_msg}\"')\n",
    "    parsed_year = int(m['year'])\n",
    "    if year != parsed_year:\n",
    "        raise RuntimeError(f\"Parsed year {parsed_year} != {year}\")\n",
    "    parsed_month = m['month']\n",
    "    month_name = to_dt('%d-%02d' % (year, month)).strftime('%B')\n",
    "    if parsed_month != month_name:\n",
    "        raise RuntimeError(f\"Parsed month {parsed_month} != {month}\")\n",
    "\n",
    "    if not fullmatch(cross_honor_regex, cross_msg):\n",
    "        raise RuntimeError(f'Unexpected cross-honor message: \"{cross_msg}\"')\n",
    "\n",
    "    hrs = hrs.dropna(axis=1, how='all')\n",
    "    headers = (hrs.iloc[0].fillna('') + ' ' + hrs.iloc[1]).str.strip()\n",
    "    hrs = hrs.copy().iloc[2:]\n",
    "    hrs = hrs.dropna(axis=1, how='all')\n",
    "    headers = headers.dropna()\n",
    "    hrs.columns = headers\n",
    "    hrs['Year'] = year\n",
    "    hrs['Month'] = month\n",
    "    hrs['Station'] = station\n",
    "    hrs = hrs[['Year', 'Month', 'Station'] + headers.tolist()]\n",
    "    for k in hrs.columns[4:]:\n",
    "        col = hrs[k]\n",
    "        dt = col.dtype\n",
    "        if dt == dtype('O'):\n",
    "            hrs[k] = hrs[k].str.replace(',', '').astype(int)\n",
    "        elif dt == dtype('float64'):\n",
    "            hrs[k] = hrs[k].astype(int)\n",
    "        elif dt == dtype('int64'):\n",
    "            pass\n",
    "        else:\n",
    "            raise RuntimeError(f'Unexpected dtype, col {k}: {dt}')\n",
    "\n",
    "    total_rows = hrs.Hour == 'Total'\n",
    "    totals = hrs[total_rows]\n",
    "    hrs = hrs[~total_rows]\n",
    "\n",
    "    Hour = hrs.Hour.str.extract('(?P<hour>\\d\\d?):00:00 (?P<am>AM|PM)').astype({ 'hour': int }).apply(to_hour, axis=1)\n",
    "    hrs['Hour'] = Hour\n",
    "\n",
    "    system_wide_rows = hrs.Station == 'System-wide'\n",
    "    system_wide = hrs[system_wide_rows]\n",
    "    hrs = hrs[~system_wide_rows]\n",
    "\n",
    "    return hrs, totals, system_wide\n",
    "\n",
    "def read_month_hours_stations(year, month, n_jobs=None, concat=True):\n",
    "    if n_jobs:\n",
    "        parallel = Parallel(n_jobs=n_jobs)\n",
    "        fn = delayed(parse_station_month_hours_tables)\n",
    "        rvs = parallel(\n",
    "            fn(year, month, station)\n",
    "            for station in stations\n",
    "        )\n",
    "    else:\n",
    "        rvs = [\n",
    "            parse_station_month_hours_tables(year, month, station)\n",
    "            for station in stations\n",
    "        ]\n",
    "    if concat:\n",
    "        return [ pd.concat(dfs) for dfs in zip(*rvs) ]\n",
    "    else:\n",
    "        return dfs\n",
    "\n",
    "def read_year_hours_stations(year, last_month=None, n_jobs=None, concat=True):\n",
    "    rvs = [\n",
    "        read_month_hours_stations(year, month, n_jobs=n_jobs)\n",
    "        for month in range(1, 13 if last_month is None else (last_month + 1))\n",
    "    ]\n",
    "    if concat:\n",
    "        return [ pd.concat(dfs) for dfs in zip(*rvs) ]\n",
    "    else:\n",
    "        return rvs"
   ]
  },
  {
   "cell_type": "code",
   "execution_count": 9,
   "id": "3aeab457",
   "metadata": {
    "execution": {
     "iopub.execute_input": "2022-12-03T14:50:37.029559Z",
     "iopub.status.busy": "2022-12-03T14:50:37.029440Z",
     "iopub.status.idle": "2022-12-03T14:50:37.032098Z",
     "shell.execute_reply": "2022-12-03T14:50:37.031850Z"
    },
    "papermill": {
     "duration": 0.0052,
     "end_time": "2022-12-03T14:50:37.032935",
     "exception": false,
     "start_time": "2022-12-03T14:50:37.027735",
     "status": "completed"
    },
    "scrolled": true,
    "tags": []
   },
   "outputs": [
    {
     "name": "stdout",
     "output_type": "stream",
     "text": [
      "CPU times: user 15 µs, sys: 13 µs, total: 28 µs\n",
      "Wall time: 29.8 µs\n"
     ]
    }
   ],
   "source": [
    "%%time\n",
    "suffixes = ['', '-total', '-system']\n",
    "base = f'data/{year}-hourly'\n",
    "paths = [ f'{base}{suffix}.pqt' for suffix in suffixes ]\n",
    "extant = list(filter(exists, paths))\n",
    "\n",
    "if extant and overwrite:\n",
    "    print(f'Overwriting {\", \".join(extant)}')\n",
    "\n",
    "hrs, totals, system_wide = None, None, None\n",
    "if extant != paths or overwrite:\n",
    "    dfs = read_year_hours_stations(year, last_month=last_month, n_jobs=n_jobs)\n",
    "    for df, path in zip(dfs, paths):\n",
    "        print(f'Writing {path}')\n",
    "        df.to_parquet(path, index=False)\n",
    "    hrs, totals, system_wide = dfs\n",
    "\n",
    "hrs"
   ]
  },
  {
   "cell_type": "code",
   "execution_count": 10,
   "id": "3f520702",
   "metadata": {
    "execution": {
     "iopub.execute_input": "2022-12-03T14:50:37.036170Z",
     "iopub.status.busy": "2022-12-03T14:50:37.035981Z",
     "iopub.status.idle": "2022-12-03T14:50:37.037606Z",
     "shell.execute_reply": "2022-12-03T14:50:37.037332Z"
    },
    "papermill": {
     "duration": 0.004214,
     "end_time": "2022-12-03T14:50:37.038498",
     "exception": false,
     "start_time": "2022-12-03T14:50:37.034284",
     "status": "completed"
    },
    "tags": []
   },
   "outputs": [],
   "source": [
    "totals"
   ]
  },
  {
   "cell_type": "code",
   "execution_count": 11,
   "id": "4d8f136c",
   "metadata": {
    "execution": {
     "iopub.execute_input": "2022-12-03T14:50:37.041636Z",
     "iopub.status.busy": "2022-12-03T14:50:37.041528Z",
     "iopub.status.idle": "2022-12-03T14:50:37.043044Z",
     "shell.execute_reply": "2022-12-03T14:50:37.042815Z"
    },
    "papermill": {
     "duration": 0.004022,
     "end_time": "2022-12-03T14:50:37.043915",
     "exception": false,
     "start_time": "2022-12-03T14:50:37.039893",
     "status": "completed"
    },
    "tags": []
   },
   "outputs": [],
   "source": [
    "system_wide"
   ]
  }
 ],
 "metadata": {
  "kernelspec": {
   "display_name": "Python 3 (ipykernel)",
   "language": "python",
   "name": "python3"
  },
  "language_info": {
   "codemirror_mode": {
    "name": "ipython",
    "version": 3
   },
   "file_extension": ".py",
   "mimetype": "text/x-python",
   "name": "python",
   "nbconvert_exporter": "python",
   "pygments_lexer": "ipython3",
   "version": "3.9.13"
  },
  "papermill": {
   "default_parameters": {},
   "duration": 1.530137,
   "end_time": "2022-12-03T14:50:37.262585",
   "environment_variables": {},
   "exception": null,
   "input_path": "parse-hourly.ipynb",
   "output_path": "out/parse-hourly_2017.ipynb",
   "parameters": {
    "year": 2017
   },
   "start_time": "2022-12-03T14:50:35.732448",
   "version": "2.4.0"
  }
 },
 "nbformat": 4,
 "nbformat_minor": 5
}