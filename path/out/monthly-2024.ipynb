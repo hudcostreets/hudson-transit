{
 "cells": [
  {
   "cell_type": "markdown",
   "id": "00e0ac44",
   "metadata": {
    "papermill": {
     "duration": 0.010409,
     "end_time": "2024-04-21T21:34:40.019904",
     "exception": false,
     "start_time": "2024-04-21T21:34:40.009495",
     "status": "completed"
    },
    "slideshow": {
     "slide_type": ""
    },
    "tags": []
   },
   "source": [
    "# Parse PATH monthly ridership PDF\n",
    "```bash\n",
    "papermill -p year $year [-p last_month $last_month] monthly.ipynb out/monthly-$year.ipynb\n",
    "```"
   ]
  },
  {
   "cell_type": "code",
   "execution_count": 1,
   "id": "1b0e0e6e",
   "metadata": {
    "execution": {
     "iopub.execute_input": "2024-04-21T21:34:40.031461Z",
     "iopub.status.busy": "2024-04-21T21:34:40.031010Z",
     "iopub.status.idle": "2024-04-21T21:34:40.428963Z",
     "shell.execute_reply": "2024-04-21T21:34:40.428628Z"
    },
    "papermill": {
     "duration": 0.404782,
     "end_time": "2024-04-21T21:34:40.430077",
     "exception": false,
     "start_time": "2024-04-21T21:34:40.025295",
     "status": "completed"
    },
    "slideshow": {
     "slide_type": ""
    },
    "tags": []
   },
   "outputs": [],
   "source": [
    "from utz import *\n",
    "import json\n",
    "from tabula import read_pdf"
   ]
  },
  {
   "cell_type": "code",
   "execution_count": 2,
   "id": "f4b44bab",
   "metadata": {
    "execution": {
     "iopub.execute_input": "2024-04-21T21:34:40.434675Z",
     "iopub.status.busy": "2024-04-21T21:34:40.434495Z",
     "iopub.status.idle": "2024-04-21T21:34:40.437866Z",
     "shell.execute_reply": "2024-04-21T21:34:40.437606Z"
    },
    "papermill": {
     "duration": 0.00638,
     "end_time": "2024-04-21T21:34:40.438688",
     "exception": false,
     "start_time": "2024-04-21T21:34:40.432308",
     "status": "completed"
    },
    "slideshow": {
     "slide_type": ""
    },
    "tags": []
   },
   "outputs": [
    {
     "data": {
      "text/plain": [
       "(2024, 4)"
      ]
     },
     "execution_count": 2,
     "metadata": {},
     "output_type": "execute_result"
    }
   ],
   "source": [
    "n = now()\n",
    "cur_year = n.year\n",
    "cur_month = n.month\n",
    "cur_year, cur_month"
   ]
  },
  {
   "cell_type": "markdown",
   "id": "856cc866-4578-4e2b-86d8-0db63aa83bde",
   "metadata": {
    "papermill": {
     "duration": 0.001651,
     "end_time": "2024-04-21T21:34:40.442041",
     "exception": false,
     "start_time": "2024-04-21T21:34:40.440390",
     "status": "completed"
    },
    "slideshow": {
     "slide_type": ""
    },
    "tags": []
   },
   "source": [
    "Papermill parameters:"
   ]
  },
  {
   "cell_type": "code",
   "execution_count": 3,
   "id": "f354a72e",
   "metadata": {
    "execution": {
     "iopub.execute_input": "2024-04-21T21:34:40.445737Z",
     "iopub.status.busy": "2024-04-21T21:34:40.445640Z",
     "iopub.status.idle": "2024-04-21T21:34:40.447262Z",
     "shell.execute_reply": "2024-04-21T21:34:40.447023Z"
    },
    "papermill": {
     "duration": 0.00439,
     "end_time": "2024-04-21T21:34:40.448030",
     "exception": false,
     "start_time": "2024-04-21T21:34:40.443640",
     "status": "completed"
    },
    "slideshow": {
     "slide_type": ""
    },
    "tags": [
     "parameters"
    ]
   },
   "outputs": [],
   "source": [
    "year = None\n",
    "last_month = None\n",
    "template = None"
   ]
  },
  {
   "cell_type": "code",
   "execution_count": 4,
   "id": "0f3014e5",
   "metadata": {
    "execution": {
     "iopub.execute_input": "2024-04-21T21:34:40.451945Z",
     "iopub.status.busy": "2024-04-21T21:34:40.451848Z",
     "iopub.status.idle": "2024-04-21T21:34:40.453571Z",
     "shell.execute_reply": "2024-04-21T21:34:40.453325Z"
    },
    "papermill": {
     "duration": 0.004647,
     "end_time": "2024-04-21T21:34:40.454415",
     "exception": false,
     "start_time": "2024-04-21T21:34:40.449768",
     "status": "completed"
    },
    "tags": [
     "injected-parameters"
    ]
   },
   "outputs": [],
   "source": [
    "# Parameters\n",
    "year = 2024\n",
    "last_month = 1\n",
    "template = \"2023-PATH-Monthly-Ridership-Report.tabula-template.json\"\n"
   ]
  },
  {
   "cell_type": "code",
   "execution_count": 5,
   "id": "69e65e93-7be8-4e84-8580-023527a52d05",
   "metadata": {
    "execution": {
     "iopub.execute_input": "2024-04-21T21:34:40.458596Z",
     "iopub.status.busy": "2024-04-21T21:34:40.458488Z",
     "iopub.status.idle": "2024-04-21T21:34:40.460441Z",
     "shell.execute_reply": "2024-04-21T21:34:40.460214Z"
    },
    "papermill": {
     "duration": 0.00508,
     "end_time": "2024-04-21T21:34:40.461259",
     "exception": false,
     "start_time": "2024-04-21T21:34:40.456179",
     "status": "completed"
    },
    "slideshow": {
     "slide_type": ""
    },
    "tags": []
   },
   "outputs": [],
   "source": [
    "if year is None:\n",
    "    year = cur_year\n",
    "\n",
    "if last_month is None:\n",
    "    if year == cur_year:\n",
    "        last_moonth = 1\n",
    "    else:\n",
    "        last_month = 12\n",
    "\n",
    "if template is None:\n",
    "    template = 'PATH-Monthly-Ridership-Report.json'"
   ]
  },
  {
   "cell_type": "code",
   "execution_count": 6,
   "id": "280d1426",
   "metadata": {
    "execution": {
     "iopub.execute_input": "2024-04-21T21:34:40.465080Z",
     "iopub.status.busy": "2024-04-21T21:34:40.464982Z",
     "iopub.status.idle": "2024-04-21T21:34:40.466949Z",
     "shell.execute_reply": "2024-04-21T21:34:40.466723Z"
    },
    "papermill": {
     "duration": 0.004813,
     "end_time": "2024-04-21T21:34:40.467777",
     "exception": false,
     "start_time": "2024-04-21T21:34:40.462964",
     "status": "completed"
    },
    "slideshow": {
     "slide_type": ""
    },
    "tags": []
   },
   "outputs": [
    {
     "data": {
      "text/plain": [
       "'data/2024-PATH-Monthly-Ridership-Report.pdf'"
      ]
     },
     "execution_count": 6,
     "metadata": {},
     "output_type": "execute_result"
    }
   ],
   "source": [
    "pdf = f'data/{year}-PATH-Monthly-Ridership-Report.pdf'\n",
    "pdf"
   ]
  },
  {
   "cell_type": "code",
   "execution_count": 7,
   "id": "6be0c906",
   "metadata": {
    "execution": {
     "iopub.execute_input": "2024-04-21T21:34:40.472439Z",
     "iopub.status.busy": "2024-04-21T21:34:40.472321Z",
     "iopub.status.idle": "2024-04-21T21:34:40.475208Z",
     "shell.execute_reply": "2024-04-21T21:34:40.474993Z"
    },
    "papermill": {
     "duration": 0.006035,
     "end_time": "2024-04-21T21:34:40.475963",
     "exception": false,
     "start_time": "2024-04-21T21:34:40.469928",
     "status": "completed"
    },
    "scrolled": true,
    "slideshow": {
     "slide_type": ""
    },
    "tags": []
   },
   "outputs": [
    {
     "data": {
      "text/plain": [
       "[{'page': 1,\n",
       "  'extraction_method': 'guess',\n",
       "  'x1': 54.315,\n",
       "  'x2': 577.575,\n",
       "  'y1': 116.00001000000002,\n",
       "  'y2': 238.40001,\n",
       "  'width': 523.26,\n",
       "  'height': 122.4},\n",
       " {'page': 1,\n",
       "  'extraction_method': 'guess',\n",
       "  'x1': 58.14,\n",
       "  'x2': 577.575,\n",
       "  'y1': 253.000035,\n",
       "  'y2': 373.87003500000003,\n",
       "  'width': 519.4350000000001,\n",
       "  'height': 120.87},\n",
       " {'page': 1,\n",
       "  'extraction_method': 'guess',\n",
       "  'x1': 58.14,\n",
       "  'x2': 577.575,\n",
       "  'y1': 474.999975,\n",
       "  'y2': 592.809975,\n",
       "  'width': 519.4350000000001,\n",
       "  'height': 117.81},\n",
       " {'page': 1,\n",
       "  'extraction_method': 'guess',\n",
       "  'x1': 56.61,\n",
       "  'x2': 578.34,\n",
       "  'y1': 611.000145,\n",
       "  'y2': 724.220145,\n",
       "  'width': 521.73,\n",
       "  'height': 113.22}]"
      ]
     },
     "execution_count": 7,
     "metadata": {},
     "output_type": "execute_result"
    }
   ],
   "source": [
    "with open(f'templates/{template}', 'r') as f:\n",
    "    rects = json.load(f)\n",
    "rects"
   ]
  },
  {
   "cell_type": "code",
   "execution_count": 8,
   "id": "eb31a18e",
   "metadata": {
    "execution": {
     "iopub.execute_input": "2024-04-21T21:34:40.480218Z",
     "iopub.status.busy": "2024-04-21T21:34:40.480116Z",
     "iopub.status.idle": "2024-04-21T21:34:40.482464Z",
     "shell.execute_reply": "2024-04-21T21:34:40.482205Z"
    },
    "papermill": {
     "duration": 0.005486,
     "end_time": "2024-04-21T21:34:40.483254",
     "exception": false,
     "start_time": "2024-04-21T21:34:40.477768",
     "status": "completed"
    },
    "slideshow": {
     "slide_type": ""
    },
    "tags": []
   },
   "outputs": [
    {
     "data": {
      "text/plain": [
       "[[116.00001000000002, 54.315, 238.40001, 577.575],\n",
       " [253.000035, 58.14, 373.87003500000003, 577.575],\n",
       " [474.999975, 58.14, 592.809975, 577.575],\n",
       " [611.000145, 56.61, 724.220145, 578.34]]"
      ]
     },
     "execution_count": 8,
     "metadata": {},
     "output_type": "execute_result"
    }
   ],
   "source": [
    "area = [ [ r[k] for k in [ 'y1', 'x1', 'y2', 'x2' ] ] for r in rects ]\n",
    "area"
   ]
  },
  {
   "cell_type": "code",
   "execution_count": 9,
   "id": "dd2bc0e3",
   "metadata": {
    "execution": {
     "iopub.execute_input": "2024-04-21T21:34:40.488050Z",
     "iopub.status.busy": "2024-04-21T21:34:40.487962Z",
     "iopub.status.idle": "2024-04-21T21:34:41.336255Z",
     "shell.execute_reply": "2024-04-21T21:34:41.335933Z"
    },
    "papermill": {
     "duration": 0.851677,
     "end_time": "2024-04-21T21:34:41.337153",
     "exception": false,
     "start_time": "2024-04-21T21:34:40.485476",
     "status": "completed"
    },
    "scrolled": true,
    "slideshow": {
     "slide_type": ""
    },
    "tags": []
   },
   "outputs": [
    {
     "data": {
      "text/plain": [
       "{1: [                    0          1       2       3       4       5\n",
       "  0  Christopher Street     86,831   3,147   2,511   1,784   1,784\n",
       "  1          9th Street     75,977   2,792   2,108   1,401   1,651\n",
       "  2         14th Street    127,321   4,834   3,037   2,180   2,472\n",
       "  3         23rd Street    122,336   5,033   1,964   1,287   1,817\n",
       "  4         33rd Street    500,254  19,543   9,702   6,865  11,787\n",
       "  5     UPTOWN SUBTOTAL    912,719  35,350  19,322  13,517  19,510\n",
       "  6                 WTC    922,430  37,278  15,316  11,296  16,569\n",
       "  7   NEW YORK SUBTOTAL  1,835,149  72,628  34,638  24,813  36,079,\n",
       "                       0          1       2       3       4       5\n",
       "  0               Newark    344,156  14,267   5,102   3,413   5,244\n",
       "  1             Harrison    130,445   5,417   2,086   1,154   1,862\n",
       "  2       Journal Square    474,171  18,174  10,822   7,634   9,348\n",
       "  3         Grove Street    366,378  14,545   7,620   4,638   5,955\n",
       "  4       Exchange Place    248,376  10,112   4,418   2,761   3,649\n",
       "  5              Newport    262,353  10,678   4,533   3,073   3,842\n",
       "  6              Hoboken    397,724  15,943   8,225   4,637   5,734\n",
       "  7  NEW JERSEY SUBTOTAL  2,223,603  89,137  42,806  27,309  35,633,\n",
       "                      0       1          2        3       4       5\n",
       "  0  Christopher Street   2,801     66,085   10,043   7,136   3,567\n",
       "  1          9th Street   2,451     58,641    8,433   5,602   3,301\n",
       "  2         14th Street   4,107    101,507   12,149   8,721   4,944\n",
       "  3         23rd Street   3,946    105,700    7,855   5,147   3,634\n",
       "  4         33rd Street  16,137    410,413   38,806  27,461  23,574\n",
       "  5     UPTOWN SUBTOTAL  29,443    742,346   77,286  54,067  39,020\n",
       "  6                 WTC  29,756    782,844   61,264  45,185  33,137\n",
       "  7   NEW YORK SUBTOTAL  59,198  1,525,190  138,550  99,252  72,157,\n",
       "                       0       1          2        3        4       5\n",
       "  0               Newark  11,102    299,611   20,406   13,651  10,488\n",
       "  1             Harrison   4,208    113,764    8,344    4,614   3,723\n",
       "  2       Journal Square  15,296    381,652   43,289   30,534  18,696\n",
       "  3         Grove Street  11,819    305,435   30,480   18,553  11,910\n",
       "  4       Exchange Place   8,012    212,362   17,673   11,044   7,297\n",
       "  5              Newport   8,463    224,243   18,133   12,293   7,684\n",
       "  6              Hoboken  12,830    334,811   32,898   18,548  11,467\n",
       "  7  NEW JERSEY SUBTOTAL  71,729  1,871,878  171,223  109,237  71,265]}"
      ]
     },
     "execution_count": 9,
     "metadata": {},
     "output_type": "execute_result"
    }
   ],
   "source": [
    "tables = {\n",
    "    month: read_pdf(\n",
    "        pdf,\n",
    "        pages=month,\n",
    "        area=area,\n",
    "        pandas_options={'header': None},\n",
    "        stream=True,\n",
    "    ) \n",
    "    for month in range(1, last_month + 1)\n",
    "}\n",
    "\n",
    "tables"
   ]
  },
  {
   "cell_type": "code",
   "execution_count": 10,
   "id": "bdc5a891",
   "metadata": {
    "execution": {
     "iopub.execute_input": "2024-04-21T21:34:41.342302Z",
     "iopub.status.busy": "2024-04-21T21:34:41.342187Z",
     "iopub.status.idle": "2024-04-21T21:34:41.344093Z",
     "shell.execute_reply": "2024-04-21T21:34:41.343846Z"
    },
    "papermill": {
     "duration": 0.005176,
     "end_time": "2024-04-21T21:34:41.344876",
     "exception": false,
     "start_time": "2024-04-21T21:34:41.339700",
     "status": "completed"
    },
    "slideshow": {
     "slide_type": ""
    },
    "tags": []
   },
   "outputs": [],
   "source": [
    "cols1 = [ 'station', 'total', 'avg weekday', 'avg sat', 'avg sun', 'avg holiday' ]\n",
    "cols2 = [ 'station', 'avg daily', 'total weekday', 'total sat', 'total sun', 'total holiday' ]"
   ]
  },
  {
   "cell_type": "code",
   "execution_count": 11,
   "id": "fa2c55f1",
   "metadata": {
    "execution": {
     "iopub.execute_input": "2024-04-21T21:34:41.349234Z",
     "iopub.status.busy": "2024-04-21T21:34:41.349142Z",
     "iopub.status.idle": "2024-04-21T21:34:41.351800Z",
     "shell.execute_reply": "2024-04-21T21:34:41.351566Z"
    },
    "papermill": {
     "duration": 0.005729,
     "end_time": "2024-04-21T21:34:41.352603",
     "exception": false,
     "start_time": "2024-04-21T21:34:41.346874",
     "status": "completed"
    },
    "tags": []
   },
   "outputs": [
    {
     "name": "stdout",
     "output_type": "stream",
     "text": [
      "Pg 1: 4 tables\n"
     ]
    },
    {
     "data": {
      "text/plain": [
       "1"
      ]
     },
     "execution_count": 11,
     "metadata": {},
     "output_type": "execute_result"
    }
   ],
   "source": [
    "for k, v in tables.items():\n",
    "    n = len(v)\n",
    "    msg = f'Pg {k}: {n} tables'\n",
    "    if n == 4:\n",
    "        print(msg)\n",
    "    else:\n",
    "        err(msg)\n",
    "len(tables)"
   ]
  },
  {
   "cell_type": "code",
   "execution_count": 12,
   "id": "b6b79a4f",
   "metadata": {
    "execution": {
     "iopub.execute_input": "2024-04-21T21:34:41.357135Z",
     "iopub.status.busy": "2024-04-21T21:34:41.357049Z",
     "iopub.status.idle": "2024-04-21T21:34:41.364893Z",
     "shell.execute_reply": "2024-04-21T21:34:41.364606Z"
    },
    "papermill": {
     "duration": 0.011038,
     "end_time": "2024-04-21T21:34:41.365745",
     "exception": false,
     "start_time": "2024-04-21T21:34:41.354707",
     "status": "completed"
    },
    "tags": []
   },
   "outputs": [
    {
     "data": {
      "text/html": [
       "<div>\n",
       "<style scoped>\n",
       "    .dataframe tbody tr th:only-of-type {\n",
       "        vertical-align: middle;\n",
       "    }\n",
       "\n",
       "    .dataframe tbody tr th {\n",
       "        vertical-align: top;\n",
       "    }\n",
       "\n",
       "    .dataframe thead th {\n",
       "        text-align: right;\n",
       "    }\n",
       "</style>\n",
       "<table border=\"1\" class=\"dataframe\">\n",
       "  <thead>\n",
       "    <tr style=\"text-align: right;\">\n",
       "      <th></th>\n",
       "      <th>0</th>\n",
       "      <th>1</th>\n",
       "      <th>2</th>\n",
       "      <th>3</th>\n",
       "      <th>4</th>\n",
       "      <th>5</th>\n",
       "      <th>date</th>\n",
       "    </tr>\n",
       "  </thead>\n",
       "  <tbody>\n",
       "    <tr>\n",
       "      <th>0</th>\n",
       "      <td>Christopher Street</td>\n",
       "      <td>86,831</td>\n",
       "      <td>3,147</td>\n",
       "      <td>2,511</td>\n",
       "      <td>1,784</td>\n",
       "      <td>1,784</td>\n",
       "      <td>2024-01-01</td>\n",
       "    </tr>\n",
       "    <tr>\n",
       "      <th>1</th>\n",
       "      <td>9th Street</td>\n",
       "      <td>75,977</td>\n",
       "      <td>2,792</td>\n",
       "      <td>2,108</td>\n",
       "      <td>1,401</td>\n",
       "      <td>1,651</td>\n",
       "      <td>2024-01-01</td>\n",
       "    </tr>\n",
       "    <tr>\n",
       "      <th>2</th>\n",
       "      <td>14th Street</td>\n",
       "      <td>127,321</td>\n",
       "      <td>4,834</td>\n",
       "      <td>3,037</td>\n",
       "      <td>2,180</td>\n",
       "      <td>2,472</td>\n",
       "      <td>2024-01-01</td>\n",
       "    </tr>\n",
       "    <tr>\n",
       "      <th>3</th>\n",
       "      <td>23rd Street</td>\n",
       "      <td>122,336</td>\n",
       "      <td>5,033</td>\n",
       "      <td>1,964</td>\n",
       "      <td>1,287</td>\n",
       "      <td>1,817</td>\n",
       "      <td>2024-01-01</td>\n",
       "    </tr>\n",
       "    <tr>\n",
       "      <th>4</th>\n",
       "      <td>33rd Street</td>\n",
       "      <td>500,254</td>\n",
       "      <td>19,543</td>\n",
       "      <td>9,702</td>\n",
       "      <td>6,865</td>\n",
       "      <td>11,787</td>\n",
       "      <td>2024-01-01</td>\n",
       "    </tr>\n",
       "    <tr>\n",
       "      <th>5</th>\n",
       "      <td>UPTOWN SUBTOTAL</td>\n",
       "      <td>912,719</td>\n",
       "      <td>35,350</td>\n",
       "      <td>19,322</td>\n",
       "      <td>13,517</td>\n",
       "      <td>19,510</td>\n",
       "      <td>2024-01-01</td>\n",
       "    </tr>\n",
       "    <tr>\n",
       "      <th>6</th>\n",
       "      <td>WTC</td>\n",
       "      <td>922,430</td>\n",
       "      <td>37,278</td>\n",
       "      <td>15,316</td>\n",
       "      <td>11,296</td>\n",
       "      <td>16,569</td>\n",
       "      <td>2024-01-01</td>\n",
       "    </tr>\n",
       "    <tr>\n",
       "      <th>7</th>\n",
       "      <td>NEW YORK SUBTOTAL</td>\n",
       "      <td>1,835,149</td>\n",
       "      <td>72,628</td>\n",
       "      <td>34,638</td>\n",
       "      <td>24,813</td>\n",
       "      <td>36,079</td>\n",
       "      <td>2024-01-01</td>\n",
       "    </tr>\n",
       "    <tr>\n",
       "      <th>0</th>\n",
       "      <td>Newark</td>\n",
       "      <td>344,156</td>\n",
       "      <td>14,267</td>\n",
       "      <td>5,102</td>\n",
       "      <td>3,413</td>\n",
       "      <td>5,244</td>\n",
       "      <td>2024-01-01</td>\n",
       "    </tr>\n",
       "    <tr>\n",
       "      <th>1</th>\n",
       "      <td>Harrison</td>\n",
       "      <td>130,445</td>\n",
       "      <td>5,417</td>\n",
       "      <td>2,086</td>\n",
       "      <td>1,154</td>\n",
       "      <td>1,862</td>\n",
       "      <td>2024-01-01</td>\n",
       "    </tr>\n",
       "    <tr>\n",
       "      <th>2</th>\n",
       "      <td>Journal Square</td>\n",
       "      <td>474,171</td>\n",
       "      <td>18,174</td>\n",
       "      <td>10,822</td>\n",
       "      <td>7,634</td>\n",
       "      <td>9,348</td>\n",
       "      <td>2024-01-01</td>\n",
       "    </tr>\n",
       "    <tr>\n",
       "      <th>3</th>\n",
       "      <td>Grove Street</td>\n",
       "      <td>366,378</td>\n",
       "      <td>14,545</td>\n",
       "      <td>7,620</td>\n",
       "      <td>4,638</td>\n",
       "      <td>5,955</td>\n",
       "      <td>2024-01-01</td>\n",
       "    </tr>\n",
       "    <tr>\n",
       "      <th>4</th>\n",
       "      <td>Exchange Place</td>\n",
       "      <td>248,376</td>\n",
       "      <td>10,112</td>\n",
       "      <td>4,418</td>\n",
       "      <td>2,761</td>\n",
       "      <td>3,649</td>\n",
       "      <td>2024-01-01</td>\n",
       "    </tr>\n",
       "    <tr>\n",
       "      <th>5</th>\n",
       "      <td>Newport</td>\n",
       "      <td>262,353</td>\n",
       "      <td>10,678</td>\n",
       "      <td>4,533</td>\n",
       "      <td>3,073</td>\n",
       "      <td>3,842</td>\n",
       "      <td>2024-01-01</td>\n",
       "    </tr>\n",
       "    <tr>\n",
       "      <th>6</th>\n",
       "      <td>Hoboken</td>\n",
       "      <td>397,724</td>\n",
       "      <td>15,943</td>\n",
       "      <td>8,225</td>\n",
       "      <td>4,637</td>\n",
       "      <td>5,734</td>\n",
       "      <td>2024-01-01</td>\n",
       "    </tr>\n",
       "    <tr>\n",
       "      <th>7</th>\n",
       "      <td>NEW JERSEY SUBTOTAL</td>\n",
       "      <td>2,223,603</td>\n",
       "      <td>89,137</td>\n",
       "      <td>42,806</td>\n",
       "      <td>27,309</td>\n",
       "      <td>35,633</td>\n",
       "      <td>2024-01-01</td>\n",
       "    </tr>\n",
       "  </tbody>\n",
       "</table>\n",
       "</div>"
      ],
      "text/plain": [
       "                     0          1       2       3       4       5       date\n",
       "0   Christopher Street     86,831   3,147   2,511   1,784   1,784 2024-01-01\n",
       "1           9th Street     75,977   2,792   2,108   1,401   1,651 2024-01-01\n",
       "2          14th Street    127,321   4,834   3,037   2,180   2,472 2024-01-01\n",
       "3          23rd Street    122,336   5,033   1,964   1,287   1,817 2024-01-01\n",
       "4          33rd Street    500,254  19,543   9,702   6,865  11,787 2024-01-01\n",
       "5      UPTOWN SUBTOTAL    912,719  35,350  19,322  13,517  19,510 2024-01-01\n",
       "6                  WTC    922,430  37,278  15,316  11,296  16,569 2024-01-01\n",
       "7    NEW YORK SUBTOTAL  1,835,149  72,628  34,638  24,813  36,079 2024-01-01\n",
       "0               Newark    344,156  14,267   5,102   3,413   5,244 2024-01-01\n",
       "1             Harrison    130,445   5,417   2,086   1,154   1,862 2024-01-01\n",
       "2       Journal Square    474,171  18,174  10,822   7,634   9,348 2024-01-01\n",
       "3         Grove Street    366,378  14,545   7,620   4,638   5,955 2024-01-01\n",
       "4       Exchange Place    248,376  10,112   4,418   2,761   3,649 2024-01-01\n",
       "5              Newport    262,353  10,678   4,533   3,073   3,842 2024-01-01\n",
       "6              Hoboken    397,724  15,943   8,225   4,637   5,734 2024-01-01\n",
       "7  NEW JERSEY SUBTOTAL  2,223,603  89,137  42,806  27,309  35,633 2024-01-01"
      ]
     },
     "execution_count": 12,
     "metadata": {},
     "output_type": "execute_result"
    }
   ],
   "source": [
    "avgs = pd.concat([\n",
    "    df.assign(date=to_dt(f'{year}-{month}'))\n",
    "    for month, dfs in tables.items()\n",
    "    for df in dfs[:2]\n",
    "])\n",
    "avgs"
   ]
  },
  {
   "cell_type": "code",
   "execution_count": 13,
   "id": "462a641d",
   "metadata": {
    "execution": {
     "iopub.execute_input": "2024-04-21T21:34:41.370638Z",
     "iopub.status.busy": "2024-04-21T21:34:41.370545Z",
     "iopub.status.idle": "2024-04-21T21:34:41.376146Z",
     "shell.execute_reply": "2024-04-21T21:34:41.375918Z"
    },
    "papermill": {
     "duration": 0.008856,
     "end_time": "2024-04-21T21:34:41.376903",
     "exception": false,
     "start_time": "2024-04-21T21:34:41.368047",
     "status": "completed"
    },
    "tags": []
   },
   "outputs": [
    {
     "data": {
      "text/html": [
       "<div>\n",
       "<style scoped>\n",
       "    .dataframe tbody tr th:only-of-type {\n",
       "        vertical-align: middle;\n",
       "    }\n",
       "\n",
       "    .dataframe tbody tr th {\n",
       "        vertical-align: top;\n",
       "    }\n",
       "\n",
       "    .dataframe thead th {\n",
       "        text-align: right;\n",
       "    }\n",
       "</style>\n",
       "<table border=\"1\" class=\"dataframe\">\n",
       "  <thead>\n",
       "    <tr style=\"text-align: right;\">\n",
       "      <th></th>\n",
       "      <th>station</th>\n",
       "      <th>total</th>\n",
       "      <th>avg weekday</th>\n",
       "      <th>avg sat</th>\n",
       "      <th>avg sun</th>\n",
       "      <th>avg holiday</th>\n",
       "      <th>month</th>\n",
       "    </tr>\n",
       "  </thead>\n",
       "  <tbody>\n",
       "    <tr>\n",
       "      <th>0</th>\n",
       "      <td>Christopher Street</td>\n",
       "      <td>86831</td>\n",
       "      <td>3147</td>\n",
       "      <td>2511</td>\n",
       "      <td>1784</td>\n",
       "      <td>1784</td>\n",
       "      <td>2024-01-01</td>\n",
       "    </tr>\n",
       "    <tr>\n",
       "      <th>1</th>\n",
       "      <td>9th Street</td>\n",
       "      <td>75977</td>\n",
       "      <td>2792</td>\n",
       "      <td>2108</td>\n",
       "      <td>1401</td>\n",
       "      <td>1651</td>\n",
       "      <td>2024-01-01</td>\n",
       "    </tr>\n",
       "    <tr>\n",
       "      <th>2</th>\n",
       "      <td>14th Street</td>\n",
       "      <td>127321</td>\n",
       "      <td>4834</td>\n",
       "      <td>3037</td>\n",
       "      <td>2180</td>\n",
       "      <td>2472</td>\n",
       "      <td>2024-01-01</td>\n",
       "    </tr>\n",
       "    <tr>\n",
       "      <th>3</th>\n",
       "      <td>23rd Street</td>\n",
       "      <td>122336</td>\n",
       "      <td>5033</td>\n",
       "      <td>1964</td>\n",
       "      <td>1287</td>\n",
       "      <td>1817</td>\n",
       "      <td>2024-01-01</td>\n",
       "    </tr>\n",
       "    <tr>\n",
       "      <th>4</th>\n",
       "      <td>33rd Street</td>\n",
       "      <td>500254</td>\n",
       "      <td>19543</td>\n",
       "      <td>9702</td>\n",
       "      <td>6865</td>\n",
       "      <td>11787</td>\n",
       "      <td>2024-01-01</td>\n",
       "    </tr>\n",
       "    <tr>\n",
       "      <th>5</th>\n",
       "      <td>UPTOWN SUBTOTAL</td>\n",
       "      <td>912719</td>\n",
       "      <td>35350</td>\n",
       "      <td>19322</td>\n",
       "      <td>13517</td>\n",
       "      <td>19510</td>\n",
       "      <td>2024-01-01</td>\n",
       "    </tr>\n",
       "    <tr>\n",
       "      <th>6</th>\n",
       "      <td>WTC</td>\n",
       "      <td>922430</td>\n",
       "      <td>37278</td>\n",
       "      <td>15316</td>\n",
       "      <td>11296</td>\n",
       "      <td>16569</td>\n",
       "      <td>2024-01-01</td>\n",
       "    </tr>\n",
       "    <tr>\n",
       "      <th>7</th>\n",
       "      <td>NEW YORK SUBTOTAL</td>\n",
       "      <td>1835149</td>\n",
       "      <td>72628</td>\n",
       "      <td>34638</td>\n",
       "      <td>24813</td>\n",
       "      <td>36079</td>\n",
       "      <td>2024-01-01</td>\n",
       "    </tr>\n",
       "    <tr>\n",
       "      <th>0</th>\n",
       "      <td>Newark</td>\n",
       "      <td>344156</td>\n",
       "      <td>14267</td>\n",
       "      <td>5102</td>\n",
       "      <td>3413</td>\n",
       "      <td>5244</td>\n",
       "      <td>2024-01-01</td>\n",
       "    </tr>\n",
       "    <tr>\n",
       "      <th>1</th>\n",
       "      <td>Harrison</td>\n",
       "      <td>130445</td>\n",
       "      <td>5417</td>\n",
       "      <td>2086</td>\n",
       "      <td>1154</td>\n",
       "      <td>1862</td>\n",
       "      <td>2024-01-01</td>\n",
       "    </tr>\n",
       "    <tr>\n",
       "      <th>2</th>\n",
       "      <td>Journal Square</td>\n",
       "      <td>474171</td>\n",
       "      <td>18174</td>\n",
       "      <td>10822</td>\n",
       "      <td>7634</td>\n",
       "      <td>9348</td>\n",
       "      <td>2024-01-01</td>\n",
       "    </tr>\n",
       "    <tr>\n",
       "      <th>3</th>\n",
       "      <td>Grove Street</td>\n",
       "      <td>366378</td>\n",
       "      <td>14545</td>\n",
       "      <td>7620</td>\n",
       "      <td>4638</td>\n",
       "      <td>5955</td>\n",
       "      <td>2024-01-01</td>\n",
       "    </tr>\n",
       "    <tr>\n",
       "      <th>4</th>\n",
       "      <td>Exchange Place</td>\n",
       "      <td>248376</td>\n",
       "      <td>10112</td>\n",
       "      <td>4418</td>\n",
       "      <td>2761</td>\n",
       "      <td>3649</td>\n",
       "      <td>2024-01-01</td>\n",
       "    </tr>\n",
       "    <tr>\n",
       "      <th>5</th>\n",
       "      <td>Newport</td>\n",
       "      <td>262353</td>\n",
       "      <td>10678</td>\n",
       "      <td>4533</td>\n",
       "      <td>3073</td>\n",
       "      <td>3842</td>\n",
       "      <td>2024-01-01</td>\n",
       "    </tr>\n",
       "    <tr>\n",
       "      <th>6</th>\n",
       "      <td>Hoboken</td>\n",
       "      <td>397724</td>\n",
       "      <td>15943</td>\n",
       "      <td>8225</td>\n",
       "      <td>4637</td>\n",
       "      <td>5734</td>\n",
       "      <td>2024-01-01</td>\n",
       "    </tr>\n",
       "    <tr>\n",
       "      <th>7</th>\n",
       "      <td>NEW JERSEY SUBTOTAL</td>\n",
       "      <td>2223603</td>\n",
       "      <td>89137</td>\n",
       "      <td>42806</td>\n",
       "      <td>27309</td>\n",
       "      <td>35633</td>\n",
       "      <td>2024-01-01</td>\n",
       "    </tr>\n",
       "  </tbody>\n",
       "</table>\n",
       "</div>"
      ],
      "text/plain": [
       "               station    total  avg weekday  avg sat  avg sun  avg holiday  \\\n",
       "0   Christopher Street    86831         3147     2511     1784         1784   \n",
       "1           9th Street    75977         2792     2108     1401         1651   \n",
       "2          14th Street   127321         4834     3037     2180         2472   \n",
       "3          23rd Street   122336         5033     1964     1287         1817   \n",
       "4          33rd Street   500254        19543     9702     6865        11787   \n",
       "5      UPTOWN SUBTOTAL   912719        35350    19322    13517        19510   \n",
       "6                  WTC   922430        37278    15316    11296        16569   \n",
       "7    NEW YORK SUBTOTAL  1835149        72628    34638    24813        36079   \n",
       "0               Newark   344156        14267     5102     3413         5244   \n",
       "1             Harrison   130445         5417     2086     1154         1862   \n",
       "2       Journal Square   474171        18174    10822     7634         9348   \n",
       "3         Grove Street   366378        14545     7620     4638         5955   \n",
       "4       Exchange Place   248376        10112     4418     2761         3649   \n",
       "5              Newport   262353        10678     4533     3073         3842   \n",
       "6              Hoboken   397724        15943     8225     4637         5734   \n",
       "7  NEW JERSEY SUBTOTAL  2223603        89137    42806    27309        35633   \n",
       "\n",
       "       month  \n",
       "0 2024-01-01  \n",
       "1 2024-01-01  \n",
       "2 2024-01-01  \n",
       "3 2024-01-01  \n",
       "4 2024-01-01  \n",
       "5 2024-01-01  \n",
       "6 2024-01-01  \n",
       "7 2024-01-01  \n",
       "0 2024-01-01  \n",
       "1 2024-01-01  \n",
       "2 2024-01-01  \n",
       "3 2024-01-01  \n",
       "4 2024-01-01  \n",
       "5 2024-01-01  \n",
       "6 2024-01-01  \n",
       "7 2024-01-01  "
      ]
     },
     "execution_count": 13,
     "metadata": {},
     "output_type": "execute_result"
    }
   ],
   "source": [
    "avgs.columns = cols1 + ['month']\n",
    "avgs = avgs.assign(**{\n",
    "    k: avgs[k].astype(str).str.replace(',', '').astype(int)\n",
    "    for k in cols1[1:]\n",
    "})\n",
    "avgs"
   ]
  },
  {
   "cell_type": "code",
   "execution_count": 14,
   "id": "0fd8fec9",
   "metadata": {
    "execution": {
     "iopub.execute_input": "2024-04-21T21:34:41.381969Z",
     "iopub.status.busy": "2024-04-21T21:34:41.381872Z",
     "iopub.status.idle": "2024-04-21T21:34:41.384623Z",
     "shell.execute_reply": "2024-04-21T21:34:41.384388Z"
    },
    "papermill": {
     "duration": 0.006111,
     "end_time": "2024-04-21T21:34:41.385366",
     "exception": false,
     "start_time": "2024-04-21T21:34:41.379255",
     "status": "completed"
    },
    "tags": []
   },
   "outputs": [
    {
     "data": {
      "text/plain": [
       "station        0\n",
       "total          0\n",
       "avg weekday    0\n",
       "avg sat        0\n",
       "avg sun        0\n",
       "avg holiday    0\n",
       "month          0\n",
       "dtype: int64"
      ]
     },
     "execution_count": 14,
     "metadata": {},
     "output_type": "execute_result"
    }
   ],
   "source": [
    "avgs.isna().sum(axis=0)"
   ]
  },
  {
   "cell_type": "code",
   "execution_count": 15,
   "id": "b15b15fd",
   "metadata": {
    "execution": {
     "iopub.execute_input": "2024-04-21T21:34:41.390592Z",
     "iopub.status.busy": "2024-04-21T21:34:41.390492Z",
     "iopub.status.idle": "2024-04-21T21:34:41.392966Z",
     "shell.execute_reply": "2024-04-21T21:34:41.392749Z"
    },
    "papermill": {
     "duration": 0.005962,
     "end_time": "2024-04-21T21:34:41.393748",
     "exception": false,
     "start_time": "2024-04-21T21:34:41.387786",
     "status": "completed"
    },
    "tags": []
   },
   "outputs": [
    {
     "data": {
      "text/plain": [
       "station                object\n",
       "total                   int64\n",
       "avg weekday             int64\n",
       "avg sat                 int64\n",
       "avg sun                 int64\n",
       "avg holiday             int64\n",
       "month          datetime64[ns]\n",
       "dtype: object"
      ]
     },
     "execution_count": 15,
     "metadata": {},
     "output_type": "execute_result"
    }
   ],
   "source": [
    "avgs.dtypes"
   ]
  },
  {
   "cell_type": "code",
   "execution_count": 16,
   "id": "131a096e",
   "metadata": {
    "execution": {
     "iopub.execute_input": "2024-04-21T21:34:41.398946Z",
     "iopub.status.busy": "2024-04-21T21:34:41.398864Z",
     "iopub.status.idle": "2024-04-21T21:34:41.405680Z",
     "shell.execute_reply": "2024-04-21T21:34:41.405459Z"
    },
    "papermill": {
     "duration": 0.0103,
     "end_time": "2024-04-21T21:34:41.406477",
     "exception": false,
     "start_time": "2024-04-21T21:34:41.396177",
     "status": "completed"
    },
    "tags": []
   },
   "outputs": [
    {
     "data": {
      "text/html": [
       "<div>\n",
       "<style scoped>\n",
       "    .dataframe tbody tr th:only-of-type {\n",
       "        vertical-align: middle;\n",
       "    }\n",
       "\n",
       "    .dataframe tbody tr th {\n",
       "        vertical-align: top;\n",
       "    }\n",
       "\n",
       "    .dataframe thead th {\n",
       "        text-align: right;\n",
       "    }\n",
       "</style>\n",
       "<table border=\"1\" class=\"dataframe\">\n",
       "  <thead>\n",
       "    <tr style=\"text-align: right;\">\n",
       "      <th></th>\n",
       "      <th>station</th>\n",
       "      <th>avg daily</th>\n",
       "      <th>total weekday</th>\n",
       "      <th>total sat</th>\n",
       "      <th>total sun</th>\n",
       "      <th>total holiday</th>\n",
       "      <th>month</th>\n",
       "    </tr>\n",
       "  </thead>\n",
       "  <tbody>\n",
       "    <tr>\n",
       "      <th>0</th>\n",
       "      <td>Christopher Street</td>\n",
       "      <td>2801</td>\n",
       "      <td>66085</td>\n",
       "      <td>10043</td>\n",
       "      <td>7136</td>\n",
       "      <td>3567</td>\n",
       "      <td>2024-01-01</td>\n",
       "    </tr>\n",
       "    <tr>\n",
       "      <th>1</th>\n",
       "      <td>9th Street</td>\n",
       "      <td>2451</td>\n",
       "      <td>58641</td>\n",
       "      <td>8433</td>\n",
       "      <td>5602</td>\n",
       "      <td>3301</td>\n",
       "      <td>2024-01-01</td>\n",
       "    </tr>\n",
       "    <tr>\n",
       "      <th>2</th>\n",
       "      <td>14th Street</td>\n",
       "      <td>4107</td>\n",
       "      <td>101507</td>\n",
       "      <td>12149</td>\n",
       "      <td>8721</td>\n",
       "      <td>4944</td>\n",
       "      <td>2024-01-01</td>\n",
       "    </tr>\n",
       "    <tr>\n",
       "      <th>3</th>\n",
       "      <td>23rd Street</td>\n",
       "      <td>3946</td>\n",
       "      <td>105700</td>\n",
       "      <td>7855</td>\n",
       "      <td>5147</td>\n",
       "      <td>3634</td>\n",
       "      <td>2024-01-01</td>\n",
       "    </tr>\n",
       "    <tr>\n",
       "      <th>4</th>\n",
       "      <td>33rd Street</td>\n",
       "      <td>16137</td>\n",
       "      <td>410413</td>\n",
       "      <td>38806</td>\n",
       "      <td>27461</td>\n",
       "      <td>23574</td>\n",
       "      <td>2024-01-01</td>\n",
       "    </tr>\n",
       "    <tr>\n",
       "      <th>5</th>\n",
       "      <td>UPTOWN SUBTOTAL</td>\n",
       "      <td>29443</td>\n",
       "      <td>742346</td>\n",
       "      <td>77286</td>\n",
       "      <td>54067</td>\n",
       "      <td>39020</td>\n",
       "      <td>2024-01-01</td>\n",
       "    </tr>\n",
       "    <tr>\n",
       "      <th>6</th>\n",
       "      <td>WTC</td>\n",
       "      <td>29756</td>\n",
       "      <td>782844</td>\n",
       "      <td>61264</td>\n",
       "      <td>45185</td>\n",
       "      <td>33137</td>\n",
       "      <td>2024-01-01</td>\n",
       "    </tr>\n",
       "    <tr>\n",
       "      <th>7</th>\n",
       "      <td>NEW YORK SUBTOTAL</td>\n",
       "      <td>59198</td>\n",
       "      <td>1525190</td>\n",
       "      <td>138550</td>\n",
       "      <td>99252</td>\n",
       "      <td>72157</td>\n",
       "      <td>2024-01-01</td>\n",
       "    </tr>\n",
       "    <tr>\n",
       "      <th>0</th>\n",
       "      <td>Newark</td>\n",
       "      <td>11102</td>\n",
       "      <td>299611</td>\n",
       "      <td>20406</td>\n",
       "      <td>13651</td>\n",
       "      <td>10488</td>\n",
       "      <td>2024-01-01</td>\n",
       "    </tr>\n",
       "    <tr>\n",
       "      <th>1</th>\n",
       "      <td>Harrison</td>\n",
       "      <td>4208</td>\n",
       "      <td>113764</td>\n",
       "      <td>8344</td>\n",
       "      <td>4614</td>\n",
       "      <td>3723</td>\n",
       "      <td>2024-01-01</td>\n",
       "    </tr>\n",
       "    <tr>\n",
       "      <th>2</th>\n",
       "      <td>Journal Square</td>\n",
       "      <td>15296</td>\n",
       "      <td>381652</td>\n",
       "      <td>43289</td>\n",
       "      <td>30534</td>\n",
       "      <td>18696</td>\n",
       "      <td>2024-01-01</td>\n",
       "    </tr>\n",
       "    <tr>\n",
       "      <th>3</th>\n",
       "      <td>Grove Street</td>\n",
       "      <td>11819</td>\n",
       "      <td>305435</td>\n",
       "      <td>30480</td>\n",
       "      <td>18553</td>\n",
       "      <td>11910</td>\n",
       "      <td>2024-01-01</td>\n",
       "    </tr>\n",
       "    <tr>\n",
       "      <th>4</th>\n",
       "      <td>Exchange Place</td>\n",
       "      <td>8012</td>\n",
       "      <td>212362</td>\n",
       "      <td>17673</td>\n",
       "      <td>11044</td>\n",
       "      <td>7297</td>\n",
       "      <td>2024-01-01</td>\n",
       "    </tr>\n",
       "    <tr>\n",
       "      <th>5</th>\n",
       "      <td>Newport</td>\n",
       "      <td>8463</td>\n",
       "      <td>224243</td>\n",
       "      <td>18133</td>\n",
       "      <td>12293</td>\n",
       "      <td>7684</td>\n",
       "      <td>2024-01-01</td>\n",
       "    </tr>\n",
       "    <tr>\n",
       "      <th>6</th>\n",
       "      <td>Hoboken</td>\n",
       "      <td>12830</td>\n",
       "      <td>334811</td>\n",
       "      <td>32898</td>\n",
       "      <td>18548</td>\n",
       "      <td>11467</td>\n",
       "      <td>2024-01-01</td>\n",
       "    </tr>\n",
       "    <tr>\n",
       "      <th>7</th>\n",
       "      <td>NEW JERSEY SUBTOTAL</td>\n",
       "      <td>71729</td>\n",
       "      <td>1871878</td>\n",
       "      <td>171223</td>\n",
       "      <td>109237</td>\n",
       "      <td>71265</td>\n",
       "      <td>2024-01-01</td>\n",
       "    </tr>\n",
       "  </tbody>\n",
       "</table>\n",
       "</div>"
      ],
      "text/plain": [
       "               station  avg daily  total weekday  total sat  total sun  \\\n",
       "0   Christopher Street       2801          66085      10043       7136   \n",
       "1           9th Street       2451          58641       8433       5602   \n",
       "2          14th Street       4107         101507      12149       8721   \n",
       "3          23rd Street       3946         105700       7855       5147   \n",
       "4          33rd Street      16137         410413      38806      27461   \n",
       "5      UPTOWN SUBTOTAL      29443         742346      77286      54067   \n",
       "6                  WTC      29756         782844      61264      45185   \n",
       "7    NEW YORK SUBTOTAL      59198        1525190     138550      99252   \n",
       "0               Newark      11102         299611      20406      13651   \n",
       "1             Harrison       4208         113764       8344       4614   \n",
       "2       Journal Square      15296         381652      43289      30534   \n",
       "3         Grove Street      11819         305435      30480      18553   \n",
       "4       Exchange Place       8012         212362      17673      11044   \n",
       "5              Newport       8463         224243      18133      12293   \n",
       "6              Hoboken      12830         334811      32898      18548   \n",
       "7  NEW JERSEY SUBTOTAL      71729        1871878     171223     109237   \n",
       "\n",
       "   total holiday      month  \n",
       "0           3567 2024-01-01  \n",
       "1           3301 2024-01-01  \n",
       "2           4944 2024-01-01  \n",
       "3           3634 2024-01-01  \n",
       "4          23574 2024-01-01  \n",
       "5          39020 2024-01-01  \n",
       "6          33137 2024-01-01  \n",
       "7          72157 2024-01-01  \n",
       "0          10488 2024-01-01  \n",
       "1           3723 2024-01-01  \n",
       "2          18696 2024-01-01  \n",
       "3          11910 2024-01-01  \n",
       "4           7297 2024-01-01  \n",
       "5           7684 2024-01-01  \n",
       "6          11467 2024-01-01  \n",
       "7          71265 2024-01-01  "
      ]
     },
     "execution_count": 16,
     "metadata": {},
     "output_type": "execute_result"
    }
   ],
   "source": [
    "sums = pd.concat([\n",
    "    df.assign(date=to_dt(f'{year}-{month}'))\n",
    "    for month, dfs in tables.items()\n",
    "    for df in dfs[2:]\n",
    "])\n",
    "sums.columns = cols2 + ['month']\n",
    "sums = sums.assign(**{\n",
    "    k: sums[k].astype(str).str.replace(',', '').astype(int)\n",
    "    for k in cols2[1:]\n",
    "})\n",
    "sums"
   ]
  },
  {
   "cell_type": "code",
   "execution_count": 17,
   "id": "3f872f31",
   "metadata": {
    "execution": {
     "iopub.execute_input": "2024-04-21T21:34:41.411966Z",
     "iopub.status.busy": "2024-04-21T21:34:41.411878Z",
     "iopub.status.idle": "2024-04-21T21:34:41.414385Z",
     "shell.execute_reply": "2024-04-21T21:34:41.414173Z"
    },
    "papermill": {
     "duration": 0.006074,
     "end_time": "2024-04-21T21:34:41.415134",
     "exception": false,
     "start_time": "2024-04-21T21:34:41.409060",
     "status": "completed"
    },
    "tags": []
   },
   "outputs": [
    {
     "data": {
      "text/plain": [
       "station          0\n",
       "avg daily        0\n",
       "total weekday    0\n",
       "total sat        0\n",
       "total sun        0\n",
       "total holiday    0\n",
       "month            0\n",
       "dtype: int64"
      ]
     },
     "execution_count": 17,
     "metadata": {},
     "output_type": "execute_result"
    }
   ],
   "source": [
    "sums.isna().sum(axis=0)"
   ]
  },
  {
   "cell_type": "code",
   "execution_count": 18,
   "id": "3bbdff5e",
   "metadata": {
    "execution": {
     "iopub.execute_input": "2024-04-21T21:34:41.421600Z",
     "iopub.status.busy": "2024-04-21T21:34:41.421509Z",
     "iopub.status.idle": "2024-04-21T21:34:41.423925Z",
     "shell.execute_reply": "2024-04-21T21:34:41.423706Z"
    },
    "papermill": {
     "duration": 0.006783,
     "end_time": "2024-04-21T21:34:41.424688",
     "exception": false,
     "start_time": "2024-04-21T21:34:41.417905",
     "status": "completed"
    },
    "tags": []
   },
   "outputs": [
    {
     "data": {
      "text/plain": [
       "station                  object\n",
       "avg daily                 int64\n",
       "total weekday             int64\n",
       "total sat                 int64\n",
       "total sun                 int64\n",
       "total holiday             int64\n",
       "month            datetime64[ns]\n",
       "dtype: object"
      ]
     },
     "execution_count": 18,
     "metadata": {},
     "output_type": "execute_result"
    }
   ],
   "source": [
    "sums.dtypes"
   ]
  },
  {
   "cell_type": "code",
   "execution_count": 19,
   "id": "b4d389e4",
   "metadata": {
    "execution": {
     "iopub.execute_input": "2024-04-21T21:34:41.431492Z",
     "iopub.status.busy": "2024-04-21T21:34:41.431403Z",
     "iopub.status.idle": "2024-04-21T21:34:41.438382Z",
     "shell.execute_reply": "2024-04-21T21:34:41.438162Z"
    },
    "papermill": {
     "duration": 0.010798,
     "end_time": "2024-04-21T21:34:41.439172",
     "exception": false,
     "start_time": "2024-04-21T21:34:41.428374",
     "status": "completed"
    },
    "tags": []
   },
   "outputs": [
    {
     "data": {
      "text/html": [
       "<div>\n",
       "<style scoped>\n",
       "    .dataframe tbody tr th:only-of-type {\n",
       "        vertical-align: middle;\n",
       "    }\n",
       "\n",
       "    .dataframe tbody tr th {\n",
       "        vertical-align: top;\n",
       "    }\n",
       "\n",
       "    .dataframe thead th {\n",
       "        text-align: right;\n",
       "    }\n",
       "</style>\n",
       "<table border=\"1\" class=\"dataframe\">\n",
       "  <thead>\n",
       "    <tr style=\"text-align: right;\">\n",
       "      <th></th>\n",
       "      <th></th>\n",
       "      <th>avg daily</th>\n",
       "      <th>avg weekday</th>\n",
       "      <th>avg sat</th>\n",
       "      <th>avg sun</th>\n",
       "      <th>avg holiday</th>\n",
       "      <th>total</th>\n",
       "      <th>total weekday</th>\n",
       "      <th>total sat</th>\n",
       "      <th>total sun</th>\n",
       "      <th>total holiday</th>\n",
       "    </tr>\n",
       "    <tr>\n",
       "      <th>month</th>\n",
       "      <th>station</th>\n",
       "      <th></th>\n",
       "      <th></th>\n",
       "      <th></th>\n",
       "      <th></th>\n",
       "      <th></th>\n",
       "      <th></th>\n",
       "      <th></th>\n",
       "      <th></th>\n",
       "      <th></th>\n",
       "      <th></th>\n",
       "    </tr>\n",
       "  </thead>\n",
       "  <tbody>\n",
       "    <tr>\n",
       "      <th rowspan=\"16\" valign=\"top\">2024-01-01</th>\n",
       "      <th>Christopher Street</th>\n",
       "      <td>2801</td>\n",
       "      <td>3147</td>\n",
       "      <td>2511</td>\n",
       "      <td>1784</td>\n",
       "      <td>1784</td>\n",
       "      <td>86831</td>\n",
       "      <td>66085</td>\n",
       "      <td>10043</td>\n",
       "      <td>7136</td>\n",
       "      <td>3567</td>\n",
       "    </tr>\n",
       "    <tr>\n",
       "      <th>9th Street</th>\n",
       "      <td>2451</td>\n",
       "      <td>2792</td>\n",
       "      <td>2108</td>\n",
       "      <td>1401</td>\n",
       "      <td>1651</td>\n",
       "      <td>75977</td>\n",
       "      <td>58641</td>\n",
       "      <td>8433</td>\n",
       "      <td>5602</td>\n",
       "      <td>3301</td>\n",
       "    </tr>\n",
       "    <tr>\n",
       "      <th>14th Street</th>\n",
       "      <td>4107</td>\n",
       "      <td>4834</td>\n",
       "      <td>3037</td>\n",
       "      <td>2180</td>\n",
       "      <td>2472</td>\n",
       "      <td>127321</td>\n",
       "      <td>101507</td>\n",
       "      <td>12149</td>\n",
       "      <td>8721</td>\n",
       "      <td>4944</td>\n",
       "    </tr>\n",
       "    <tr>\n",
       "      <th>23rd Street</th>\n",
       "      <td>3946</td>\n",
       "      <td>5033</td>\n",
       "      <td>1964</td>\n",
       "      <td>1287</td>\n",
       "      <td>1817</td>\n",
       "      <td>122336</td>\n",
       "      <td>105700</td>\n",
       "      <td>7855</td>\n",
       "      <td>5147</td>\n",
       "      <td>3634</td>\n",
       "    </tr>\n",
       "    <tr>\n",
       "      <th>33rd Street</th>\n",
       "      <td>16137</td>\n",
       "      <td>19543</td>\n",
       "      <td>9702</td>\n",
       "      <td>6865</td>\n",
       "      <td>11787</td>\n",
       "      <td>500254</td>\n",
       "      <td>410413</td>\n",
       "      <td>38806</td>\n",
       "      <td>27461</td>\n",
       "      <td>23574</td>\n",
       "    </tr>\n",
       "    <tr>\n",
       "      <th>UPTOWN SUBTOTAL</th>\n",
       "      <td>29443</td>\n",
       "      <td>35350</td>\n",
       "      <td>19322</td>\n",
       "      <td>13517</td>\n",
       "      <td>19510</td>\n",
       "      <td>912719</td>\n",
       "      <td>742346</td>\n",
       "      <td>77286</td>\n",
       "      <td>54067</td>\n",
       "      <td>39020</td>\n",
       "    </tr>\n",
       "    <tr>\n",
       "      <th>WTC</th>\n",
       "      <td>29756</td>\n",
       "      <td>37278</td>\n",
       "      <td>15316</td>\n",
       "      <td>11296</td>\n",
       "      <td>16569</td>\n",
       "      <td>922430</td>\n",
       "      <td>782844</td>\n",
       "      <td>61264</td>\n",
       "      <td>45185</td>\n",
       "      <td>33137</td>\n",
       "    </tr>\n",
       "    <tr>\n",
       "      <th>NEW YORK SUBTOTAL</th>\n",
       "      <td>59198</td>\n",
       "      <td>72628</td>\n",
       "      <td>34638</td>\n",
       "      <td>24813</td>\n",
       "      <td>36079</td>\n",
       "      <td>1835149</td>\n",
       "      <td>1525190</td>\n",
       "      <td>138550</td>\n",
       "      <td>99252</td>\n",
       "      <td>72157</td>\n",
       "    </tr>\n",
       "    <tr>\n",
       "      <th>Newark</th>\n",
       "      <td>11102</td>\n",
       "      <td>14267</td>\n",
       "      <td>5102</td>\n",
       "      <td>3413</td>\n",
       "      <td>5244</td>\n",
       "      <td>344156</td>\n",
       "      <td>299611</td>\n",
       "      <td>20406</td>\n",
       "      <td>13651</td>\n",
       "      <td>10488</td>\n",
       "    </tr>\n",
       "    <tr>\n",
       "      <th>Harrison</th>\n",
       "      <td>4208</td>\n",
       "      <td>5417</td>\n",
       "      <td>2086</td>\n",
       "      <td>1154</td>\n",
       "      <td>1862</td>\n",
       "      <td>130445</td>\n",
       "      <td>113764</td>\n",
       "      <td>8344</td>\n",
       "      <td>4614</td>\n",
       "      <td>3723</td>\n",
       "    </tr>\n",
       "    <tr>\n",
       "      <th>Journal Square</th>\n",
       "      <td>15296</td>\n",
       "      <td>18174</td>\n",
       "      <td>10822</td>\n",
       "      <td>7634</td>\n",
       "      <td>9348</td>\n",
       "      <td>474171</td>\n",
       "      <td>381652</td>\n",
       "      <td>43289</td>\n",
       "      <td>30534</td>\n",
       "      <td>18696</td>\n",
       "    </tr>\n",
       "    <tr>\n",
       "      <th>Grove Street</th>\n",
       "      <td>11819</td>\n",
       "      <td>14545</td>\n",
       "      <td>7620</td>\n",
       "      <td>4638</td>\n",
       "      <td>5955</td>\n",
       "      <td>366378</td>\n",
       "      <td>305435</td>\n",
       "      <td>30480</td>\n",
       "      <td>18553</td>\n",
       "      <td>11910</td>\n",
       "    </tr>\n",
       "    <tr>\n",
       "      <th>Exchange Place</th>\n",
       "      <td>8012</td>\n",
       "      <td>10112</td>\n",
       "      <td>4418</td>\n",
       "      <td>2761</td>\n",
       "      <td>3649</td>\n",
       "      <td>248376</td>\n",
       "      <td>212362</td>\n",
       "      <td>17673</td>\n",
       "      <td>11044</td>\n",
       "      <td>7297</td>\n",
       "    </tr>\n",
       "    <tr>\n",
       "      <th>Newport</th>\n",
       "      <td>8463</td>\n",
       "      <td>10678</td>\n",
       "      <td>4533</td>\n",
       "      <td>3073</td>\n",
       "      <td>3842</td>\n",
       "      <td>262353</td>\n",
       "      <td>224243</td>\n",
       "      <td>18133</td>\n",
       "      <td>12293</td>\n",
       "      <td>7684</td>\n",
       "    </tr>\n",
       "    <tr>\n",
       "      <th>Hoboken</th>\n",
       "      <td>12830</td>\n",
       "      <td>15943</td>\n",
       "      <td>8225</td>\n",
       "      <td>4637</td>\n",
       "      <td>5734</td>\n",
       "      <td>397724</td>\n",
       "      <td>334811</td>\n",
       "      <td>32898</td>\n",
       "      <td>18548</td>\n",
       "      <td>11467</td>\n",
       "    </tr>\n",
       "    <tr>\n",
       "      <th>NEW JERSEY SUBTOTAL</th>\n",
       "      <td>71729</td>\n",
       "      <td>89137</td>\n",
       "      <td>42806</td>\n",
       "      <td>27309</td>\n",
       "      <td>35633</td>\n",
       "      <td>2223603</td>\n",
       "      <td>1871878</td>\n",
       "      <td>171223</td>\n",
       "      <td>109237</td>\n",
       "      <td>71265</td>\n",
       "    </tr>\n",
       "  </tbody>\n",
       "</table>\n",
       "</div>"
      ],
      "text/plain": [
       "                                avg daily  avg weekday  avg sat  avg sun  \\\n",
       "month      station                                                         \n",
       "2024-01-01 Christopher Street        2801         3147     2511     1784   \n",
       "           9th Street                2451         2792     2108     1401   \n",
       "           14th Street               4107         4834     3037     2180   \n",
       "           23rd Street               3946         5033     1964     1287   \n",
       "           33rd Street              16137        19543     9702     6865   \n",
       "           UPTOWN SUBTOTAL          29443        35350    19322    13517   \n",
       "           WTC                      29756        37278    15316    11296   \n",
       "           NEW YORK SUBTOTAL        59198        72628    34638    24813   \n",
       "           Newark                   11102        14267     5102     3413   \n",
       "           Harrison                  4208         5417     2086     1154   \n",
       "           Journal Square           15296        18174    10822     7634   \n",
       "           Grove Street             11819        14545     7620     4638   \n",
       "           Exchange Place            8012        10112     4418     2761   \n",
       "           Newport                   8463        10678     4533     3073   \n",
       "           Hoboken                  12830        15943     8225     4637   \n",
       "           NEW JERSEY SUBTOTAL      71729        89137    42806    27309   \n",
       "\n",
       "                                avg holiday    total  total weekday  \\\n",
       "month      station                                                    \n",
       "2024-01-01 Christopher Street          1784    86831          66085   \n",
       "           9th Street                  1651    75977          58641   \n",
       "           14th Street                 2472   127321         101507   \n",
       "           23rd Street                 1817   122336         105700   \n",
       "           33rd Street                11787   500254         410413   \n",
       "           UPTOWN SUBTOTAL            19510   912719         742346   \n",
       "           WTC                        16569   922430         782844   \n",
       "           NEW YORK SUBTOTAL          36079  1835149        1525190   \n",
       "           Newark                      5244   344156         299611   \n",
       "           Harrison                    1862   130445         113764   \n",
       "           Journal Square              9348   474171         381652   \n",
       "           Grove Street                5955   366378         305435   \n",
       "           Exchange Place              3649   248376         212362   \n",
       "           Newport                     3842   262353         224243   \n",
       "           Hoboken                     5734   397724         334811   \n",
       "           NEW JERSEY SUBTOTAL        35633  2223603        1871878   \n",
       "\n",
       "                                total sat  total sun  total holiday  \n",
       "month      station                                                   \n",
       "2024-01-01 Christopher Street       10043       7136           3567  \n",
       "           9th Street                8433       5602           3301  \n",
       "           14th Street              12149       8721           4944  \n",
       "           23rd Street               7855       5147           3634  \n",
       "           33rd Street              38806      27461          23574  \n",
       "           UPTOWN SUBTOTAL          77286      54067          39020  \n",
       "           WTC                      61264      45185          33137  \n",
       "           NEW YORK SUBTOTAL       138550      99252          72157  \n",
       "           Newark                   20406      13651          10488  \n",
       "           Harrison                  8344       4614           3723  \n",
       "           Journal Square           43289      30534          18696  \n",
       "           Grove Street             30480      18553          11910  \n",
       "           Exchange Place           17673      11044           7297  \n",
       "           Newport                  18133      12293           7684  \n",
       "           Hoboken                  32898      18548          11467  \n",
       "           NEW JERSEY SUBTOTAL     171223     109237          71265  "
      ]
     },
     "execution_count": 19,
     "metadata": {},
     "output_type": "execute_result"
    }
   ],
   "source": [
    "df = sxs(\n",
    "    avgs.set_index(['month', 'station']),\n",
    "    sums.set_index(['month', 'station']),\n",
    ")\n",
    "df = df[[cols2[1]] + cols1[2:] + [cols1[1]] + cols2[2:]]\n",
    "df"
   ]
  },
  {
   "cell_type": "code",
   "execution_count": 20,
   "id": "aba5369e",
   "metadata": {
    "execution": {
     "iopub.execute_input": "2024-04-21T21:34:41.446409Z",
     "iopub.status.busy": "2024-04-21T21:34:41.446313Z",
     "iopub.status.idle": "2024-04-21T21:34:41.469397Z",
     "shell.execute_reply": "2024-04-21T21:34:41.469140Z"
    },
    "papermill": {
     "duration": 0.027693,
     "end_time": "2024-04-21T21:34:41.470361",
     "exception": false,
     "start_time": "2024-04-21T21:34:41.442668",
     "status": "completed"
    },
    "tags": []
   },
   "outputs": [],
   "source": [
    "path = f'data/{year}.pqt'\n",
    "df.to_parquet(path)"
   ]
  },
  {
   "cell_type": "code",
   "execution_count": 21,
   "id": "ea5b16cc",
   "metadata": {
    "execution": {
     "iopub.execute_input": "2024-04-21T21:34:41.477604Z",
     "iopub.status.busy": "2024-04-21T21:34:41.477504Z",
     "iopub.status.idle": "2024-04-21T21:34:41.530493Z",
     "shell.execute_reply": "2024-04-21T21:34:41.530233Z"
    },
    "papermill": {
     "duration": 0.057775,
     "end_time": "2024-04-21T21:34:41.531576",
     "exception": false,
     "start_time": "2024-04-21T21:34:41.473801",
     "status": "completed"
    },
    "tags": []
   },
   "outputs": [],
   "source": [
    "import plotly.express as px\n",
    "from IPython.display import Image"
   ]
  },
  {
   "cell_type": "code",
   "execution_count": 22,
   "id": "21330c90",
   "metadata": {
    "execution": {
     "iopub.execute_input": "2024-04-21T21:34:41.537837Z",
     "iopub.status.busy": "2024-04-21T21:34:41.537735Z",
     "iopub.status.idle": "2024-04-21T21:34:42.488310Z",
     "shell.execute_reply": "2024-04-21T21:34:42.487934Z"
    },
    "papermill": {
     "duration": 0.954656,
     "end_time": "2024-04-21T21:34:42.489152",
     "exception": false,
     "start_time": "2024-04-21T21:34:41.534496",
     "status": "completed"
    },
    "slideshow": {
     "slide_type": ""
    },
    "tags": []
   },
   "outputs": [
    {
     "data": {
      "image/png": "[encoded data removed]",
      "text/plain": [
       "<IPython.core.display.Image object>"
      ]
     },
     "execution_count": 22,
     "metadata": {},
     "output_type": "execute_result"
    }
   ],
   "source": [
    "fig = px.bar(\n",
    "    avgs[~avgs.station.str.contains('TOTAL')],\n",
    "    x='month', y='avg weekday', color='station',\n",
    ")\n",
    "Image(fig.to_image(width=1200, height=600))"
   ]
  }
 ],
 "metadata": {
  "kernelspec": {
   "display_name": "conda-path",
   "language": "python",
   "name": "conda-path"
  },
  "language_info": {
   "codemirror_mode": {
    "name": "ipython",
    "version": 3
   },
   "file_extension": ".py",
   "mimetype": "text/x-python",
   "name": "python",
   "nbconvert_exporter": "python",
   "pygments_lexer": "ipython3",
   "version": "3.11.4"
  },
  "papermill": {
   "default_parameters": {},
   "duration": 3.559927,
   "end_time": "2024-04-21T21:34:42.708693",
   "environment_variables": {},
   "exception": null,
   "input_path": "monthly.ipynb",
   "output_path": "out/monthly-2024.ipynb",
   "parameters": {
    "last_month": 1,
    "template": "2023-PATH-Monthly-Ridership-Report.tabula-template.json",
    "year": 2024
   },
   "start_time": "2024-04-21T21:34:39.148766",
   "version": "2.5.0"
  }
 },
 "nbformat": 4,
 "nbformat_minor": 5
}